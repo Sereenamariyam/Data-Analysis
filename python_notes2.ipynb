{
  "nbformat": 4,
  "nbformat_minor": 0,
  "metadata": {
    "colab": {
      "provenance": [],
      "authorship_tag": "ABX9TyOMyVdJp1UlZPnYFq29apjY",
      "include_colab_link": true
    },
    "kernelspec": {
      "name": "python3",
      "display_name": "Python 3"
    },
    "language_info": {
      "name": "python"
    }
  },
  "cells": [
    {
      "cell_type": "markdown",
      "metadata": {
        "id": "view-in-github",
        "colab_type": "text"
      },
      "source": [
        "<a href=\"https://colab.research.google.com/github/Sereenamariyam/Python_assignment/blob/main/python_notes2.ipynb\" target=\"_parent\"><img src=\"https://colab.research.google.com/assets/colab-badge.svg\" alt=\"Open In Colab\"/></a>"
      ]
    },
    {
      "cell_type": "code",
      "source": [
        "#print formatting\n",
        "a=10\n",
        "b=20\n",
        "print(a,b)\n",
        "print(\"a contains\", a, \"and\", \"b contains\",b)"
      ],
      "metadata": {
        "colab": {
          "base_uri": "https://localhost:8080/"
        },
        "id": "bl3KK8t8WFUj",
        "outputId": "2c1ffbbd-6a8f-4c3d-d888-3efb1c7776b1"
      },
      "execution_count": null,
      "outputs": [
        {
          "output_type": "stream",
          "name": "stdout",
          "text": [
            "10 20\n",
            "a contains 10 and b contains 20\n"
          ]
        }
      ]
    },
    {
      "cell_type": "code",
      "execution_count": null,
      "metadata": {
        "colab": {
          "base_uri": "https://localhost:8080/"
        },
        "id": "NOR_E79SWEdn",
        "outputId": "73afdf60-3ef2-48b8-b58f-c2a9e92dac9c"
      },
      "outputs": [
        {
          "output_type": "stream",
          "name": "stdout",
          "text": [
            "a contains 10 and b contains 20\n",
            "a contains 10 and b contains 20\n",
            "a contains 20 and b contains 10\n",
            "a contains 10 and b contains 20\n"
          ]
        }
      ],
      "source": [
        "#place holder passing\n",
        "print(\"a contains {} and b contains {}\".format(a,b))\n",
        "print(\"a contains {0} and b contains {1}\".format(a,b))\n",
        "print(\"a contains {1} and b contains {0}\".format(a,b))\n",
        "print(\"a contains {1} and b contains {0}\".format(b,a))"
      ]
    },
    {
      "cell_type": "code",
      "source": [
        "\"Hello\" *5\n",
        "\"Hello \" *5\n",
        "\"Hello\\n\"*5\n",
        "print(\"Hello\\n\" *5)"
      ],
      "metadata": {
        "colab": {
          "base_uri": "https://localhost:8080/"
        },
        "id": "Y_x3KCy6YUDj",
        "outputId": "716bfa89-1db9-48f4-f2af-0cc0202f693d"
      },
      "execution_count": null,
      "outputs": [
        {
          "output_type": "stream",
          "name": "stdout",
          "text": [
            "Hello\n",
            "Hello\n",
            "Hello\n",
            "Hello\n",
            "Hello\n",
            "\n"
          ]
        }
      ]
    },
    {
      "cell_type": "code",
      "source": [
        "#typecasting\n",
        "age=int(input(\"enter your age\"))\n",
        "print(age)"
      ],
      "metadata": {
        "colab": {
          "base_uri": "https://localhost:8080/"
        },
        "id": "saO8xL_gY7hV",
        "outputId": "e947b79b-7c71-4004-89ce-2484e7400d1b"
      },
      "execution_count": null,
      "outputs": [
        {
          "output_type": "stream",
          "name": "stdout",
          "text": [
            "enter your age25\n",
            "25\n"
          ]
        }
      ]
    },
    {
      "cell_type": "code",
      "source": [
        "name=input(\"enter your name\")\n",
        "num=int(input(\"enter a number\"))\n",
        "print((name + \"\\n\") * num\\)"
      ],
      "metadata": {
        "colab": {
          "base_uri": "https://localhost:8080/"
        },
        "id": "GZ_1jnVWZJ7I",
        "outputId": "c9fc4073-eeb0-4bf6-8997-846858daeff0"
      },
      "execution_count": null,
      "outputs": [
        {
          "output_type": "stream",
          "name": "stdout",
          "text": [
            "enter your namesereena\n",
            "enter a number10\n",
            "sereena\n",
            "sereena\n",
            "sereena\n",
            "sereena\n",
            "sereena\n",
            "sereena\n",
            "sereena\n",
            "sereena\n",
            "sereena\n",
            "sereena\n",
            "\n"
          ]
        }
      ]
    },
    {
      "cell_type": "code",
      "source": [
        "name=input(\"enter your name\")\n",
        "num=int(input(\"enter a number\"))\n",
        "print(\"welcome {}\\n\" .format(name)*num)\n"
      ],
      "metadata": {
        "id": "uCoamYIGXQ3K",
        "colab": {
          "base_uri": "https://localhost:8080/"
        },
        "outputId": "fb3300dd-6d1c-47da-a3a5-700458862efa"
      },
      "execution_count": null,
      "outputs": [
        {
          "output_type": "stream",
          "name": "stdout",
          "text": [
            "enter your nameseri\n",
            "enter a number6\n",
            "welcome seri\n",
            "welcome seri\n",
            "welcome seri\n",
            "welcome seri\n",
            "welcome seri\n",
            "welcome seri\n",
            "\n"
          ]
        }
      ]
    },
    {
      "cell_type": "code",
      "source": [
        "#line breaking\n",
        "amnt=10\n",
        "intrst=0.7\n",
        "years=30\n",
        "total=amnt+\\\n",
        " (amnt*intrst)*years\n",
        "print(\"the total payable is\", total)"
      ],
      "metadata": {
        "colab": {
          "base_uri": "https://localhost:8080/"
        },
        "id": "SDxAXUCQdJqd",
        "outputId": "6c4a8cda-ed6a-4a2d-ab93-4c4640e6677d"
      },
      "execution_count": null,
      "outputs": [
        {
          "output_type": "stream",
          "name": "stdout",
          "text": [
            "the total payable is 220.0\n"
          ]
        }
      ]
    },
    {
      "cell_type": "code",
      "source": [
        "#multiline assignment\n",
        "#a=10\n",
        "#b=20\n",
        "#c=30\n",
        "a,b,c = 10,20,30\n",
        "print(a,b,c)"
      ],
      "metadata": {
        "colab": {
          "base_uri": "https://localhost:8080/"
        },
        "id": "YeWTKiPfenJT",
        "outputId": "d6661ff5-d559-433e-9f56-076f8140f3bb"
      },
      "execution_count": null,
      "outputs": [
        {
          "output_type": "stream",
          "name": "stdout",
          "text": [
            "10 20 30\n"
          ]
        }
      ]
    },
    {
      "cell_type": "code",
      "source": [
        "#type conversion and casting\n",
        "a=5 #int to str\n",
        "b=str(a)\n",
        "print(b,type(b))"
      ],
      "metadata": {
        "colab": {
          "base_uri": "https://localhost:8080/"
        },
        "id": "qzCMJEfOe5-a",
        "outputId": "5742dedb-41db-4b5d-f631-3d1b150863e2"
      },
      "execution_count": null,
      "outputs": [
        {
          "output_type": "stream",
          "name": "stdout",
          "text": [
            "5 <class 'str'>\n"
          ]
        }
      ]
    },
    {
      "cell_type": "code",
      "source": [
        "#str to int\n",
        "a=\"5\"\n",
        "b=int(a)\n",
        "print(b,type(b))"
      ],
      "metadata": {
        "colab": {
          "base_uri": "https://localhost:8080/"
        },
        "id": "0ORjvpZyfY0X",
        "outputId": "bd8bd84d-c396-429e-9a02-7999f2dab9cd"
      },
      "execution_count": null,
      "outputs": [
        {
          "output_type": "stream",
          "name": "stdout",
          "text": [
            "5 <class 'int'>\n"
          ]
        }
      ]
    },
    {
      "cell_type": "code",
      "source": [
        "#int to float\n",
        "a=5\n",
        "b=float(a)\n",
        "print(b,type(b))"
      ],
      "metadata": {
        "colab": {
          "base_uri": "https://localhost:8080/"
        },
        "id": "KuyCXdg6fpif",
        "outputId": "bb830bd3-fd0f-4c50-c2dc-1f3128d7acc9"
      },
      "execution_count": null,
      "outputs": [
        {
          "output_type": "stream",
          "name": "stdout",
          "text": [
            "5.0 <class 'float'>\n"
          ]
        }
      ]
    },
    {
      "cell_type": "code",
      "source": [
        "#if\n",
        "a=2\n",
        "b=1\n",
        "if b>a:\n",
        "  print(\"b is greater than a\")\n",
        "  print(\"inside if block\")\n",
        "print(\"outside if block\")\n"
      ],
      "metadata": {
        "colab": {
          "base_uri": "https://localhost:8080/"
        },
        "id": "hEcKo66ugdMx",
        "outputId": "faaf012c-fc94-4e29-e4ef-8019ac5eda43"
      },
      "execution_count": null,
      "outputs": [
        {
          "output_type": "stream",
          "name": "stdout",
          "text": [
            "outside if block\n"
          ]
        }
      ]
    },
    {
      "cell_type": "code",
      "source": [],
      "metadata": {
        "id": "S6MYo6qdh9t1"
      },
      "execution_count": null,
      "outputs": []
    },
    {
      "cell_type": "code",
      "source": [
        "if True:\n",
        "  print(\"inside if block\")\n",
        "else:\n",
        "    print(\"inside else block\")\n",
        "    #The condition True always evaluates to True, so the code inside the if block is executed. The else block is ignored."
      ],
      "metadata": {
        "colab": {
          "base_uri": "https://localhost:8080/"
        },
        "id": "Jxvfe5yOhSES",
        "outputId": "2995d642-879c-48a6-a621-1656f3f118b4"
      },
      "execution_count": null,
      "outputs": [
        {
          "output_type": "stream",
          "name": "stdout",
          "text": [
            "inside if block\n"
          ]
        }
      ]
    },
    {
      "cell_type": "code",
      "source": [
        "if False:\n",
        "  print(\"inside if block\")\n",
        "else:\n",
        "    print(\"inside else block\")\n",
        "    #Since the condition False always evaluates to false, the code inside the if block is skipped, and the code inside the else block is executed.\n",
        "    #none, false and 0 are interpreted as false. all others are equivalent to True in if-else condition"
      ],
      "metadata": {
        "colab": {
          "base_uri": "https://localhost:8080/"
        },
        "id": "m9JYuKLGhzS4",
        "outputId": "c9305196-8200-453f-ee08-5041db031805"
      },
      "execution_count": null,
      "outputs": [
        {
          "output_type": "stream",
          "name": "stdout",
          "text": [
            "inside else block\n"
          ]
        }
      ]
    },
    {
      "cell_type": "code",
      "source": [
        "a = \"0\"\n",
        "if a:\n",
        "  print(\"inside if block\")\n",
        "else:\n",
        "    print(\"inside else block\")"
      ],
      "metadata": {
        "colab": {
          "base_uri": "https://localhost:8080/"
        },
        "id": "Syi-G4uFiwGn",
        "outputId": "9dad1abf-f726-4f62-88dc-f01446f35010"
      },
      "execution_count": null,
      "outputs": [
        {
          "output_type": "stream",
          "name": "stdout",
          "text": [
            "inside if block\n"
          ]
        }
      ]
    },
    {
      "cell_type": "code",
      "source": [
        "#elif statement\n",
        "x=8\n",
        "if x > 10:\n",
        "  print(\"x is greater then 10\")\n",
        "elif x==10:\n",
        "  print(\"x is equal to 10\")\n",
        "elif x < 10:\n",
        "  print(\"x is less than 10\")\n"
      ],
      "metadata": {
        "colab": {
          "base_uri": "https://localhost:8080/"
        },
        "id": "qRE0GOWOi3hf",
        "outputId": "7fa6d41b-0fc9-4f46-d350-70402986c843"
      },
      "execution_count": null,
      "outputs": [
        {
          "output_type": "stream",
          "name": "stdout",
          "text": [
            "x is less than 10\n"
          ]
        }
      ]
    },
    {
      "cell_type": "code",
      "source": [
        "num=int(input(\"enter a number\"))\n",
        "if num % 2 ==0:\n",
        "  print(\" num is even\")\n",
        "else:\n",
        "  print(\" num is odd\")"
      ],
      "metadata": {
        "colab": {
          "base_uri": "https://localhost:8080/"
        },
        "id": "angVDil7j4P-",
        "outputId": "008bb654-0fc7-45e1-e916-c4f7caf82bbf"
      },
      "execution_count": null,
      "outputs": [
        {
          "output_type": "stream",
          "name": "stdout",
          "text": [
            "enter a number8\n",
            " num is even\n"
          ]
        }
      ]
    },
    {
      "cell_type": "code",
      "source": [
        "#write code to check if num is divisible by 9 if it is odd and divisible by 4 if it is even\n",
        "num = int(input(\"Enter a number: \"))\n",
        "\n",
        "if num % 2 == 0:\n",
        "\n",
        "    if num % 4 == 0:\n",
        "        print(\"The number is even and divisible by 4.\")\n",
        "    else:\n",
        "        print(\"The number is even but not divisible by 4.\")\n",
        "else:\n",
        "\n",
        "    if num % 9 == 0:\n",
        "        print(\"The number is odd and divisible by 9.\")\n",
        "    else:\n",
        "        print(\"The number is odd but not divisible by 9.\")"
      ],
      "metadata": {
        "colab": {
          "base_uri": "https://localhost:8080/"
        },
        "id": "2gu_ndePk0hC",
        "outputId": "334741aa-3aa4-4aaa-afa7-86bd1c7a8a44"
      },
      "execution_count": null,
      "outputs": [
        {
          "output_type": "stream",
          "name": "stdout",
          "text": [
            "Enter a number: 9\n",
            "The number is odd and divisible by 9.\n"
          ]
        }
      ]
    },
    {
      "cell_type": "code",
      "source": [
        "#grade checker: create a prgrm that asks user for score(between 0 and 100) and prints the grade based on the score:\n",
        "#90 and above:A\n",
        "#80 TO 89 : B\n",
        "#70 to 79 : C\n",
        "#60 to 69 : D\n",
        "#below 60 : F\n",
        "score = int(input(\"Enter the score: \"))\n",
        "\n",
        "if score >= 90 and score <= 100:\n",
        "    print(\"Grade: A\")\n",
        "elif score >= 80 and score <= 89:\n",
        "    print(\"Grade: B\")\n",
        "elif score >= 70 and score <= 79:\n",
        "    print(\"Grade: C\")\n",
        "elif score >= 60 and score <= 69:\n",
        "    print(\"Grade: D\")\n",
        "elif score >= 0 and score < 60:\n",
        "    print(\"Grade: F\")\n",
        "else:\n",
        "    print(\"Invalid score\")"
      ],
      "metadata": {
        "colab": {
          "base_uri": "https://localhost:8080/"
        },
        "id": "JoIbfa6enXxV",
        "outputId": "e1b403a2-4d09-422f-f38b-ede626fa62e1"
      },
      "execution_count": null,
      "outputs": [
        {
          "output_type": "stream",
          "name": "stdout",
          "text": [
            "Enter the score: 60\n",
            "Grade: D\n"
          ]
        }
      ]
    },
    {
      "cell_type": "code",
      "source": [
        "#write a program that takes a number as input and prints whether the number is positive, negative or zero\n",
        "num=int(input(\"enter a number\"))\n",
        "if num > 0:\n",
        "  print(\"num is positive\")\n",
        "elif num < 0 :\n",
        "  print(\"num is negative\")\n",
        "else :\n",
        "  print(\"num is zero\")\n",
        "\n"
      ],
      "metadata": {
        "colab": {
          "base_uri": "https://localhost:8080/"
        },
        "id": "pS0qg_LjrgXS",
        "outputId": "ff5896be-53ef-4340-a6fc-ffb089817a31"
      },
      "execution_count": null,
      "outputs": [
        {
          "output_type": "stream",
          "name": "stdout",
          "text": [
            "enter a number7\n",
            "num is positive\n"
          ]
        }
      ]
    },
    {
      "cell_type": "code",
      "source": [
        "#string indexing and slicing\n",
        "msg = \"welcome\"\n",
        "print(msg[0:3])\n",
        "print(msg[0:7:])\n",
        "print(msg[::])\n",
        "print(msg[::-1])\n",
        "print(msg[3:7] + msg[0:3])\n",
        "#elcom\n",
        "print(msg[1:6])\n",
        "#melcow\n",
        "print(msg[5:7] + msg[2:5] +msg[0])"
      ],
      "metadata": {
        "colab": {
          "base_uri": "https://localhost:8080/"
        },
        "id": "SffrEsuLtJA6",
        "outputId": "31c37782-7231-4728-b759-b8b80a771771"
      },
      "execution_count": null,
      "outputs": [
        {
          "output_type": "stream",
          "name": "stdout",
          "text": [
            "wel\n",
            "welcome\n",
            "welcome\n",
            "emoclew\n",
            "comewel\n",
            "elcom\n",
            "melcow\n"
          ]
        }
      ]
    },
    {
      "cell_type": "code",
      "source": [
        "#palindrome\n",
        "word = input(\"Enter a word\")\n",
        "reversed_word = word[::-1]\n",
        "\n",
        "if word == reversed_word:\n",
        "  print(\"it is a palindrome.\")\n",
        "else:\n",
        "  print(\"it is not a palindrome.\")"
      ],
      "metadata": {
        "id": "f7mq5p7S7MY3"
      },
      "execution_count": null,
      "outputs": []
    },
    {
      "cell_type": "code",
      "source": [
        "#write a code to print 4 digit otp number in text form\n",
        "digits= [\"zero\",\"one\",\"Two\",\"three\",\"four\",\"five\",\"six\",\"seven\",\"eight\",\"nine\"]\n",
        "n = int(input(\"enter a num\")) # Read input as string\n",
        "\n",
        "\n",
        "#a,b,c,d=int(n[0]),int(n[1]),int(n[2]),int(n[3])\n",
        "a,b,c,d=int(n/1000),int((n%1000)/100),int((n%100)/10),int(n%10)\n",
        "print(digits[d],digits[c],digits[b],digits[a])"
      ],
      "metadata": {
        "colab": {
          "base_uri": "https://localhost:8080/"
        },
        "id": "aJjXstwQ7sp1",
        "outputId": "d0668e81-aa41-47c7-ecba-c808de1639bc"
      },
      "execution_count": null,
      "outputs": [
        {
          "output_type": "stream",
          "name": "stdout",
          "text": [
            "enter a num2345\n",
            "five four three Two\n"
          ]
        }
      ]
    },
    {
      "cell_type": "markdown",
      "source": [
        "#LOOP"
      ],
      "metadata": {
        "id": "BNU9Bk2REaep"
      }
    },
    {
      "cell_type": "code",
      "source": [
        "#for loop\n",
        "x=[1,2,3,4,5]\n",
        "for element in x:\n",
        "  print(element)"
      ],
      "metadata": {
        "colab": {
          "base_uri": "https://localhost:8080/"
        },
        "id": "JcDrc1X0EdXv",
        "outputId": "1cd8477d-7535-4179-924e-e1460fb024fa"
      },
      "execution_count": null,
      "outputs": [
        {
          "output_type": "stream",
          "name": "stdout",
          "text": [
            "1\n",
            "2\n",
            "3\n",
            "4\n",
            "5\n"
          ]
        }
      ]
    },
    {
      "cell_type": "code",
      "source": [
        "for i in range(2,11,2):\n",
        "  print(i)"
      ],
      "metadata": {
        "colab": {
          "base_uri": "https://localhost:8080/"
        },
        "id": "W2ZB8REGFwFq",
        "outputId": "98ae2655-1ada-4da8-8c98-45a44fbd67ca"
      },
      "execution_count": null,
      "outputs": [
        {
          "output_type": "stream",
          "name": "stdout",
          "text": [
            "2\n",
            "4\n",
            "6\n",
            "8\n",
            "10\n"
          ]
        }
      ]
    },
    {
      "cell_type": "code",
      "source": [
        "msg=\"WElcome\"\n",
        "for char in msg:\n",
        "  print(char)\n",
        "print(\"the reversed list is:\")\n",
        "print(msg[::-1])"
      ],
      "metadata": {
        "colab": {
          "base_uri": "https://localhost:8080/"
        },
        "id": "hZ84NE-wGKUY",
        "outputId": "a4e5c4f9-d5f9-4a1c-8e26-cb86b2f66291"
      },
      "execution_count": null,
      "outputs": [
        {
          "output_type": "stream",
          "name": "stdout",
          "text": [
            "W\n",
            "E\n",
            "l\n",
            "c\n",
            "o\n",
            "m\n",
            "e\n",
            "the reversed list is:\n",
            "emoclEW\n"
          ]
        }
      ]
    },
    {
      "cell_type": "code",
      "source": [
        "msg=\"WElcome\"\n",
        "for char in msg[::-1]:\n",
        "  print(char)"
      ],
      "metadata": {
        "colab": {
          "base_uri": "https://localhost:8080/"
        },
        "id": "hPDCsZdjHQr0",
        "outputId": "cb11bec6-2b0f-4e58-ef69-f6fee15b3b57"
      },
      "execution_count": null,
      "outputs": [
        {
          "output_type": "stream",
          "name": "stdout",
          "text": [
            "e\n",
            "m\n",
            "o\n",
            "c\n",
            "l\n",
            "E\n",
            "W\n"
          ]
        }
      ]
    },
    {
      "cell_type": "code",
      "source": [
        "message=\"WElcome\"\n",
        "N=len(message)\n",
        "for char in range(0,N):\n",
        "  print(message[char])"
      ],
      "metadata": {
        "colab": {
          "base_uri": "https://localhost:8080/"
        },
        "id": "WnjRLkTCHVab",
        "outputId": "3264d351-9364-4d34-c2e6-d2454361594c"
      },
      "execution_count": null,
      "outputs": [
        {
          "output_type": "stream",
          "name": "stdout",
          "text": [
            "W\n",
            "E\n",
            "l\n",
            "c\n",
            "o\n",
            "m\n",
            "e\n"
          ]
        }
      ]
    },
    {
      "cell_type": "code",
      "source": [
        "msg=\"welcome\"\n",
        "N=len(msg)\n",
        "for i in range(N-1,-1,-1):\n",
        "  print(message[i])"
      ],
      "metadata": {
        "colab": {
          "base_uri": "https://localhost:8080/"
        },
        "id": "8DWlRydVICuT",
        "outputId": "300c8848-6ff3-457f-e847-119dd7ba304e"
      },
      "execution_count": null,
      "outputs": [
        {
          "output_type": "stream",
          "name": "stdout",
          "text": [
            "e\n",
            "m\n",
            "o\n",
            "c\n",
            "l\n",
            "E\n",
            "W\n"
          ]
        }
      ]
    },
    {
      "cell_type": "code",
      "source": [
        "msg=\"WELcome\"\n",
        "N=len(msg)\n",
        "for i in range(N):\n",
        "  if i ==3:\n",
        "    break\n",
        "  print(msg[i])"
      ],
      "metadata": {
        "colab": {
          "base_uri": "https://localhost:8080/"
        },
        "id": "Yy52J7JJJZnw",
        "outputId": "44d7286b-e9af-451d-b5ba-807d955e1018"
      },
      "execution_count": null,
      "outputs": [
        {
          "output_type": "stream",
          "name": "stdout",
          "text": [
            "W\n",
            "E\n",
            "L\n"
          ]
        }
      ]
    },
    {
      "cell_type": "code",
      "source": [
        "#Elco\n",
        "msg=\"WELcome\"\n",
        "N=len(msg)\n",
        "for i in range(1,5):\n",
        "  if i ==5:\n",
        "    break\n",
        "  print(msg[i])"
      ],
      "metadata": {
        "colab": {
          "base_uri": "https://localhost:8080/"
        },
        "id": "tbw3D-M7J7nq",
        "outputId": "cbd0527a-4d45-4994-e11e-956a4e5123ec"
      },
      "execution_count": null,
      "outputs": [
        {
          "output_type": "stream",
          "name": "stdout",
          "text": [
            "E\n",
            "L\n",
            "c\n",
            "o\n"
          ]
        }
      ]
    },
    {
      "cell_type": "code",
      "source": [
        "msg=\"WELcome\"\n",
        "N=len(msg)\n",
        "for i in range(N):\n",
        "  if i ==3:\n",
        "    continue\n",
        "  print(msg[i])"
      ],
      "metadata": {
        "colab": {
          "base_uri": "https://localhost:8080/"
        },
        "id": "p7q7xAamKdwP",
        "outputId": "db16be18-1157-43cf-836a-9bf763c3b0c1"
      },
      "execution_count": null,
      "outputs": [
        {
          "output_type": "stream",
          "name": "stdout",
          "text": [
            "W\n",
            "E\n",
            "L\n",
            "o\n",
            "m\n",
            "e\n"
          ]
        }
      ]
    },
    {
      "cell_type": "code",
      "source": [
        "msg=\"WELcome\"\n",
        "N=len(msg)\n",
        "for i in range(N):\n",
        "  if i ==1 or i==4:\n",
        "    continue\n",
        "  print(msg[i])"
      ],
      "metadata": {
        "colab": {
          "base_uri": "https://localhost:8080/"
        },
        "id": "sbjwaJAzKpJD",
        "outputId": "82e33446-5415-4af4-9804-9e195b3caab5"
      },
      "execution_count": null,
      "outputs": [
        {
          "output_type": "stream",
          "name": "stdout",
          "text": [
            "W\n",
            "L\n",
            "c\n",
            "m\n",
            "e\n"
          ]
        }
      ]
    },
    {
      "cell_type": "code",
      "source": [
        "msg=\"WELcome\"\n",
        "N=len(msg)\n",
        "for i in range(N):\n",
        "  if i%2==0:\n",
        "    continue\n",
        "  print(msg[i])"
      ],
      "metadata": {
        "colab": {
          "base_uri": "https://localhost:8080/"
        },
        "id": "9EMKBwPdLmbU",
        "outputId": "3e9b0f62-1093-4995-b279-9264836ecc1e"
      },
      "execution_count": null,
      "outputs": [
        {
          "output_type": "stream",
          "name": "stdout",
          "text": [
            "E\n",
            "c\n",
            "m\n"
          ]
        }
      ]
    },
    {
      "cell_type": "code",
      "metadata": {
        "colab": {
          "base_uri": "https://localhost:8080/"
        },
        "id": "5d1ada65",
        "outputId": "0391f8c1-4085-422b-f617-0bcce3c92042"
      },
      "source": [
        "#half pyramid\n",
        "rows = int(input(\"Enter the number of rows: \"))\n",
        "\n",
        "for i in range(1, rows + 1):\n",
        "    for j in range(i):\n",
        "        print(\"* \", end=\"\")\n",
        "    print()\n"
      ],
      "execution_count": null,
      "outputs": [
        {
          "output_type": "stream",
          "name": "stdout",
          "text": [
            "Enter the number of rows: 5\n",
            "* \n",
            "* * \n",
            "* * * \n",
            "* * * * \n",
            "* * * * * \n"
          ]
        }
      ]
    },
    {
      "cell_type": "code",
      "source": [
        "#inverted half pyramid\n",
        "rows = int(input(\"Enter the number of rows: \"))\n",
        "for i in range(rows, 0, -1):\n",
        "    for j in range(i):\n",
        "        print(\"* \", end=\"\")\n",
        "    print()"
      ],
      "metadata": {
        "colab": {
          "base_uri": "https://localhost:8080/"
        },
        "id": "ayHc9w-cNv-I",
        "outputId": "2eba3f6f-8fb2-467e-94c6-21b706194f37"
      },
      "execution_count": null,
      "outputs": [
        {
          "output_type": "stream",
          "name": "stdout",
          "text": [
            "Enter the number of rows: 5\n",
            "* * * * * \n",
            "* * * * \n",
            "* * * \n",
            "* * \n",
            "* \n"
          ]
        }
      ]
    },
    {
      "cell_type": "code",
      "source": [
        "#pyramid pattern\n",
        "for i in range(1,8,2):\n",
        "  print(int((7-i)/2)*' '+i*'*')"
      ],
      "metadata": {
        "colab": {
          "base_uri": "https://localhost:8080/"
        },
        "id": "LrEjzW5qTsyE",
        "outputId": "88f83dfc-7972-4e35-ddb5-b3c68aaf7927"
      },
      "execution_count": null,
      "outputs": [
        {
          "output_type": "stream",
          "name": "stdout",
          "text": [
            "   *\n",
            "  ***\n",
            " *****\n",
            "*******\n"
          ]
        }
      ]
    },
    {
      "cell_type": "code",
      "source": [
        "#inverted pyramid pattern\n",
        "for i in range(7,0,-2):\n",
        "  print(int((7-i)/2)*' '+i*'*')"
      ],
      "metadata": {
        "colab": {
          "base_uri": "https://localhost:8080/"
        },
        "id": "b1ufXjhHT6ds",
        "outputId": "5ac6f58d-23e8-4592-fe7d-6443304aaea6"
      },
      "execution_count": null,
      "outputs": [
        {
          "output_type": "stream",
          "name": "stdout",
          "text": [
            "*******\n",
            " *****\n",
            "  ***\n",
            "   *\n"
          ]
        }
      ]
    },
    {
      "cell_type": "code",
      "source": [
        "for i in range(1,10):\n",
        "  print(\"*\"*i)\n"
      ],
      "metadata": {
        "colab": {
          "base_uri": "https://localhost:8080/"
        },
        "id": "NOCjkEbrU5qJ",
        "outputId": "6ab76e6b-003c-40c4-9363-531a5a29d914"
      },
      "execution_count": null,
      "outputs": [
        {
          "output_type": "stream",
          "name": "stdout",
          "text": [
            "*\n",
            "**\n",
            "***\n",
            "****\n",
            "*****\n",
            "******\n",
            "*******\n",
            "********\n",
            "*********\n"
          ]
        }
      ]
    },
    {
      "cell_type": "code",
      "source": [
        "for i in range(1,10):\n",
        "  print((10-i)*' '+\"*\"*i)"
      ],
      "metadata": {
        "colab": {
          "base_uri": "https://localhost:8080/"
        },
        "id": "ywaCgNbgVMRo",
        "outputId": "e6abbf72-5866-4010-9692-b124d5426b42"
      },
      "execution_count": null,
      "outputs": [
        {
          "output_type": "stream",
          "name": "stdout",
          "text": [
            "         *\n",
            "        **\n",
            "       ***\n",
            "      ****\n",
            "     *****\n",
            "    ******\n",
            "   *******\n",
            "  ********\n",
            " *********\n"
          ]
        }
      ]
    },
    {
      "cell_type": "markdown",
      "source": [
        "while"
      ],
      "metadata": {
        "id": "t3_rWWN2WO_o"
      }
    },
    {
      "cell_type": "code",
      "source": [
        "i=1\n",
        "while i<11:\n",
        "  print(\"5 x {} = {}\".format(i, 5*i))\n",
        "  i=i+1"
      ],
      "metadata": {
        "colab": {
          "base_uri": "https://localhost:8080/"
        },
        "id": "q3YliYAfWRMZ",
        "outputId": "f8c492b8-94be-4028-96ae-047dbf0db128"
      },
      "execution_count": null,
      "outputs": [
        {
          "output_type": "stream",
          "name": "stdout",
          "text": [
            "5 x 1 = 5\n",
            "5 x 2 = 10\n",
            "5 x 3 = 15\n",
            "5 x 4 = 20\n",
            "5 x 5 = 25\n",
            "5 x 6 = 30\n",
            "5 x 7 = 35\n",
            "5 x 8 = 40\n",
            "5 x 9 = 45\n",
            "5 x 10 = 50\n"
          ]
        }
      ]
    },
    {
      "cell_type": "code",
      "source": [
        "m=input(\"enter mail id: \")\n",
        "if (\"@gmail.com\") in m[-10:]:\n",
        "  print(\"correct\")\n",
        "else:\n",
        "  print(\"incorrect\")"
      ],
      "metadata": {
        "colab": {
          "base_uri": "https://localhost:8080/"
        },
        "id": "3473Qr02ci4p",
        "outputId": "178b1ad1-4745-4895-c3cf-c1a54cd98c92"
      },
      "execution_count": null,
      "outputs": [
        {
          "output_type": "stream",
          "name": "stdout",
          "text": [
            "enter mail id: sereena@gmail.com\n",
            "correct\n"
          ]
        }
      ]
    },
    {
      "cell_type": "code",
      "source": [
        "while True:\n",
        "    m = input(\"Enter your email ID: \")\n",
        "    if \"@gmail.com\" in m[-10:]:\n",
        "        print(\"Correct\")\n",
        "        break\n",
        "    else:\n",
        "        print(\"Incorrect Gmail ID. Please try again.\")\n"
      ],
      "metadata": {
        "colab": {
          "base_uri": "https://localhost:8080/"
        },
        "id": "gmK37UEveSER",
        "outputId": "ad709fb3-8a04-4400-8db1-55870d9d7f03"
      },
      "execution_count": null,
      "outputs": [
        {
          "output_type": "stream",
          "name": "stdout",
          "text": [
            "Enter your email ID: sereenagmailcom\n",
            "Incorrect Gmail ID. Please try again.\n",
            "Enter your email ID: sereena@gmail.com\n",
            "Correct\n"
          ]
        }
      ]
    },
    {
      "cell_type": "markdown",
      "source": [
        "PYTHON FUNCTIONS\n",
        "-BUILT IN FUNCTIONS\n",
        "-CUSTOM FUNCTION"
      ],
      "metadata": {
        "id": "zoYh8cDyhRTU"
      }
    },
    {
      "cell_type": "code",
      "source": [
        "#TYPE CONVERSION\n",
        "#STRING 100 TO INT\n",
        "str_num = \"100\"\n",
        "int_num = int(str_num)\n",
        "print(type(int_num))"
      ],
      "metadata": {
        "colab": {
          "base_uri": "https://localhost:8080/"
        },
        "id": "cfpad98jjGTx",
        "outputId": "15a33296-8621-486e-a1a9-de6c97e11703"
      },
      "execution_count": null,
      "outputs": [
        {
          "output_type": "stream",
          "name": "stdout",
          "text": [
            "<class 'int'>\n"
          ]
        }
      ]
    },
    {
      "cell_type": "code",
      "source": [
        "#float 3.14 TO INT\n",
        "flt_num = 3.14\n",
        "int_num = int(flt_num)\n",
        "print(type(int_num))"
      ],
      "metadata": {
        "colab": {
          "base_uri": "https://localhost:8080/"
        },
        "id": "BD8ALfgjjZGZ",
        "outputId": "04f328a7-af69-4fc3-a347-dbf46723b87c"
      },
      "execution_count": null,
      "outputs": [
        {
          "output_type": "stream",
          "name": "stdout",
          "text": [
            "<class 'int'>\n"
          ]
        }
      ]
    },
    {
      "cell_type": "code",
      "source": [
        "#num 25 TO str\n",
        "num = 25\n",
        "str_num = str(flt_num)\n",
        "print(type(str_num))"
      ],
      "metadata": {
        "colab": {
          "base_uri": "https://localhost:8080/"
        },
        "id": "XwVrCRL1jnEO",
        "outputId": "fb3ea6a0-9ccc-4852-df88-b17636666aba"
      },
      "execution_count": null,
      "outputs": [
        {
          "output_type": "stream",
          "name": "stdout",
          "text": [
            "<class 'str'>\n"
          ]
        }
      ]
    },
    {
      "cell_type": "code",
      "source": [
        "listt = [1,2,3]\n",
        "res = tuple(listt)\n",
        "print(type(res))"
      ],
      "metadata": {
        "colab": {
          "base_uri": "https://localhost:8080/"
        },
        "id": "xiCEjJWxj5JH",
        "outputId": "9f24957d-6426-4e2d-8cc6-4a9489b48938"
      },
      "execution_count": null,
      "outputs": [
        {
          "output_type": "stream",
          "name": "stdout",
          "text": [
            "<class 'tuple'>\n"
          ]
        }
      ]
    },
    {
      "cell_type": "code",
      "source": [
        "tuplee= (4,5,6)\n",
        "res = list(tuplee)\n",
        "print(type(res))"
      ],
      "metadata": {
        "colab": {
          "base_uri": "https://localhost:8080/"
        },
        "id": "uy6Bl_VZkHdg",
        "outputId": "ec0df1c8-2443-467f-fcb4-630bae92b102"
      },
      "execution_count": null,
      "outputs": [
        {
          "output_type": "stream",
          "name": "stdout",
          "text": [
            "<class 'list'>\n"
          ]
        }
      ]
    },
    {
      "cell_type": "markdown",
      "source": [
        "mathematical fucntions"
      ],
      "metadata": {
        "id": "aLDXLIydlm5m"
      }
    },
    {
      "cell_type": "code",
      "source": [
        "abs(-5)\n",
        "pow(2,3)\n",
        "round(3,7)\n",
        "divmod(10,3)"
      ],
      "metadata": {
        "colab": {
          "base_uri": "https://localhost:8080/"
        },
        "id": "FMTlZITZlpxC",
        "outputId": "4883c6d3-6d88-47a2-a647-6c1ff6232de9"
      },
      "execution_count": null,
      "outputs": [
        {
          "output_type": "execute_result",
          "data": {
            "text/plain": [
              "(3, 1)"
            ]
          },
          "metadata": {},
          "execution_count": 114
        }
      ]
    },
    {
      "cell_type": "code",
      "source": [
        "pow(2,3)"
      ],
      "metadata": {
        "colab": {
          "base_uri": "https://localhost:8080/"
        },
        "id": "h53l3V6oKJpL",
        "outputId": "2e39f357-7042-4743-e064-601eaf942d2f"
      },
      "execution_count": null,
      "outputs": [
        {
          "output_type": "execute_result",
          "data": {
            "text/plain": [
              "8"
            ]
          },
          "metadata": {},
          "execution_count": 1
        }
      ]
    },
    {
      "cell_type": "markdown",
      "source": [
        "iterable and dequence functions"
      ],
      "metadata": {
        "id": "-ZFAUcxImDVc"
      }
    },
    {
      "cell_type": "code",
      "source": [
        "len([1,2,3])\n",
        "max(4,7,2)\n",
        "min([10,20,30])\n",
        "sum([1,2,3])\n",
        "sorted([3,1,2])\n",
        "range(5)"
      ],
      "metadata": {
        "colab": {
          "base_uri": "https://localhost:8080/"
        },
        "id": "5mBQXE-omFVO",
        "outputId": "08286c41-2c4e-436b-9af0-f6fda1f9485a"
      },
      "execution_count": null,
      "outputs": [
        {
          "output_type": "execute_result",
          "data": {
            "text/plain": [
              "range(0, 5)"
            ]
          },
          "metadata": {},
          "execution_count": 115
        }
      ]
    },
    {
      "cell_type": "code",
      "source": [
        "len([5,10,15])"
      ],
      "metadata": {
        "colab": {
          "base_uri": "https://localhost:8080/"
        },
        "id": "y-oBrprfmXkQ",
        "outputId": "f050eb00-063e-456c-e581-0429ec78c99d"
      },
      "execution_count": null,
      "outputs": [
        {
          "output_type": "execute_result",
          "data": {
            "text/plain": [
              "3"
            ]
          },
          "metadata": {},
          "execution_count": 117
        }
      ]
    },
    {
      "cell_type": "code",
      "source": [
        "max(12,7,19,3)"
      ],
      "metadata": {
        "colab": {
          "base_uri": "https://localhost:8080/"
        },
        "id": "LYY2Os8RmjKn",
        "outputId": "a558a1a7-4f6a-4849-9026-42b7d369b025"
      },
      "execution_count": null,
      "outputs": [
        {
          "output_type": "execute_result",
          "data": {
            "text/plain": [
              "19"
            ]
          },
          "metadata": {},
          "execution_count": 118
        }
      ]
    },
    {
      "cell_type": "code",
      "source": [
        "min(12,7,19,3)"
      ],
      "metadata": {
        "colab": {
          "base_uri": "https://localhost:8080/"
        },
        "id": "oZzAa9zamouh",
        "outputId": "227386ef-617a-4655-bd8c-8e3ef6a04e0f"
      },
      "execution_count": null,
      "outputs": [
        {
          "output_type": "execute_result",
          "data": {
            "text/plain": [
              "3"
            ]
          },
          "metadata": {},
          "execution_count": 119
        }
      ]
    },
    {
      "cell_type": "code",
      "source": [
        "sorted([8,2,5,1])"
      ],
      "metadata": {
        "colab": {
          "base_uri": "https://localhost:8080/"
        },
        "id": "c8lorHEEm8Ar",
        "outputId": "659ab7e2-41b1-40b1-a045-4e5532fdaed9"
      },
      "execution_count": null,
      "outputs": [
        {
          "output_type": "execute_result",
          "data": {
            "text/plain": [
              "[1, 2, 5, 8]"
            ]
          },
          "metadata": {},
          "execution_count": 125
        }
      ]
    },
    {
      "cell_type": "code",
      "source": [
        "print(list(range(5)))"
      ],
      "metadata": {
        "colab": {
          "base_uri": "https://localhost:8080/"
        },
        "id": "e_n68PiYm9dk",
        "outputId": "2783ea3f-a929-409b-8d61-c7f7bf7b007d"
      },
      "execution_count": null,
      "outputs": [
        {
          "output_type": "stream",
          "name": "stdout",
          "text": [
            "[0, 1, 2, 3, 4]\n"
          ]
        }
      ]
    },
    {
      "cell_type": "markdown",
      "source": [
        "object and memory functions"
      ],
      "metadata": {
        "id": "zpEkWQiXnikN"
      }
    },
    {
      "cell_type": "code",
      "source": [
        "type(10)\n",
        "id(10)\n",
        "isinstance(10,int) #isinstance(object, class) checks if the object is an instance of the given class (or a subclass)."
      ],
      "metadata": {
        "id": "T44QisegnnI8"
      },
      "execution_count": null,
      "outputs": []
    },
    {
      "cell_type": "code",
      "source": [
        "#get memory address of varibale x= 42\n",
        "x = 42\n",
        "print(id(x))\n"
      ],
      "metadata": {
        "colab": {
          "base_uri": "https://localhost:8080/"
        },
        "id": "qvXg4I_Hn7bY",
        "outputId": "ff80a04d-c12a-4815-df7d-fdae74ae5743"
      },
      "execution_count": null,
      "outputs": [
        {
          "output_type": "stream",
          "name": "stdout",
          "text": [
            "10759048\n"
          ]
        }
      ]
    },
    {
      "cell_type": "markdown",
      "source": [
        "file handling functions"
      ],
      "metadata": {
        "id": "DYaoUqdKoh-o"
      }
    },
    {
      "cell_type": "code",
      "source": [
        "with open(\"sample.txt\",\"w\") as f:\n",
        "  f.write(\"hello, world\")"
      ],
      "metadata": {
        "id": "xSHMwoN5okmN"
      },
      "execution_count": null,
      "outputs": []
    },
    {
      "cell_type": "code",
      "source": [
        "with open(\"sample.txt\",\"w\") as f:\n",
        "  f.write(\"Good evening\")"
      ],
      "metadata": {
        "id": "Mx6yNyVDpteX"
      },
      "execution_count": null,
      "outputs": []
    },
    {
      "cell_type": "code",
      "source": [
        "with open(\"sample.txt\",\"r\") as f:\n",
        "  data =f.read()\n",
        "print(data)"
      ],
      "metadata": {
        "colab": {
          "base_uri": "https://localhost:8080/"
        },
        "id": "o15D6RPIpjKF",
        "outputId": "1d1a3d80-e2fb-481e-a249-9764c94e8eee"
      },
      "execution_count": null,
      "outputs": [
        {
          "output_type": "stream",
          "name": "stdout",
          "text": [
            "Good evening\n"
          ]
        }
      ]
    },
    {
      "cell_type": "markdown",
      "source": [
        "miscellaneous functions"
      ],
      "metadata": {
        "id": "Zl8vdr4rqf5_"
      }
    },
    {
      "cell_type": "code",
      "source": [
        "help(str)\n"
      ],
      "metadata": {
        "colab": {
          "base_uri": "https://localhost:8080/"
        },
        "id": "CaT5okmRqyV9",
        "outputId": "5f2b0752-fd99-437c-d0f6-8ba244200603",
        "collapsed": true
      },
      "execution_count": null,
      "outputs": [
        {
          "output_type": "stream",
          "name": "stdout",
          "text": [
            "Help on class str in module builtins:\n",
            "\n",
            "class str(object)\n",
            " |  str(object='') -> str\n",
            " |  str(bytes_or_buffer[, encoding[, errors]]) -> str\n",
            " |  \n",
            " |  Create a new string object from the given object. If encoding or\n",
            " |  errors is specified, then the object must expose a data buffer\n",
            " |  that will be decoded using the given encoding and error handler.\n",
            " |  Otherwise, returns the result of object.__str__() (if defined)\n",
            " |  or repr(object).\n",
            " |  encoding defaults to sys.getdefaultencoding().\n",
            " |  errors defaults to 'strict'.\n",
            " |  \n",
            " |  Methods defined here:\n",
            " |  \n",
            " |  __add__(self, value, /)\n",
            " |      Return self+value.\n",
            " |  \n",
            " |  __contains__(self, key, /)\n",
            " |      Return key in self.\n",
            " |  \n",
            " |  __eq__(self, value, /)\n",
            " |      Return self==value.\n",
            " |  \n",
            " |  __format__(self, format_spec, /)\n",
            " |      Return a formatted version of the string as described by format_spec.\n",
            " |  \n",
            " |  __ge__(self, value, /)\n",
            " |      Return self>=value.\n",
            " |  \n",
            " |  __getattribute__(self, name, /)\n",
            " |      Return getattr(self, name).\n",
            " |  \n",
            " |  __getitem__(self, key, /)\n",
            " |      Return self[key].\n",
            " |  \n",
            " |  __getnewargs__(...)\n",
            " |  \n",
            " |  __gt__(self, value, /)\n",
            " |      Return self>value.\n",
            " |  \n",
            " |  __hash__(self, /)\n",
            " |      Return hash(self).\n",
            " |  \n",
            " |  __iter__(self, /)\n",
            " |      Implement iter(self).\n",
            " |  \n",
            " |  __le__(self, value, /)\n",
            " |      Return self<=value.\n",
            " |  \n",
            " |  __len__(self, /)\n",
            " |      Return len(self).\n",
            " |  \n",
            " |  __lt__(self, value, /)\n",
            " |      Return self<value.\n",
            " |  \n",
            " |  __mod__(self, value, /)\n",
            " |      Return self%value.\n",
            " |  \n",
            " |  __mul__(self, value, /)\n",
            " |      Return self*value.\n",
            " |  \n",
            " |  __ne__(self, value, /)\n",
            " |      Return self!=value.\n",
            " |  \n",
            " |  __repr__(self, /)\n",
            " |      Return repr(self).\n",
            " |  \n",
            " |  __rmod__(self, value, /)\n",
            " |      Return value%self.\n",
            " |  \n",
            " |  __rmul__(self, value, /)\n",
            " |      Return value*self.\n",
            " |  \n",
            " |  __sizeof__(self, /)\n",
            " |      Return the size of the string in memory, in bytes.\n",
            " |  \n",
            " |  __str__(self, /)\n",
            " |      Return str(self).\n",
            " |  \n",
            " |  capitalize(self, /)\n",
            " |      Return a capitalized version of the string.\n",
            " |      \n",
            " |      More specifically, make the first character have upper case and the rest lower\n",
            " |      case.\n",
            " |  \n",
            " |  casefold(self, /)\n",
            " |      Return a version of the string suitable for caseless comparisons.\n",
            " |  \n",
            " |  center(self, width, fillchar=' ', /)\n",
            " |      Return a centered string of length width.\n",
            " |      \n",
            " |      Padding is done using the specified fill character (default is a space).\n",
            " |  \n",
            " |  count(...)\n",
            " |      S.count(sub[, start[, end]]) -> int\n",
            " |      \n",
            " |      Return the number of non-overlapping occurrences of substring sub in\n",
            " |      string S[start:end].  Optional arguments start and end are\n",
            " |      interpreted as in slice notation.\n",
            " |  \n",
            " |  encode(self, /, encoding='utf-8', errors='strict')\n",
            " |      Encode the string using the codec registered for encoding.\n",
            " |      \n",
            " |      encoding\n",
            " |        The encoding in which to encode the string.\n",
            " |      errors\n",
            " |        The error handling scheme to use for encoding errors.\n",
            " |        The default is 'strict' meaning that encoding errors raise a\n",
            " |        UnicodeEncodeError.  Other possible values are 'ignore', 'replace' and\n",
            " |        'xmlcharrefreplace' as well as any other name registered with\n",
            " |        codecs.register_error that can handle UnicodeEncodeErrors.\n",
            " |  \n",
            " |  endswith(...)\n",
            " |      S.endswith(suffix[, start[, end]]) -> bool\n",
            " |      \n",
            " |      Return True if S ends with the specified suffix, False otherwise.\n",
            " |      With optional start, test S beginning at that position.\n",
            " |      With optional end, stop comparing S at that position.\n",
            " |      suffix can also be a tuple of strings to try.\n",
            " |  \n",
            " |  expandtabs(self, /, tabsize=8)\n",
            " |      Return a copy where all tab characters are expanded using spaces.\n",
            " |      \n",
            " |      If tabsize is not given, a tab size of 8 characters is assumed.\n",
            " |  \n",
            " |  find(...)\n",
            " |      S.find(sub[, start[, end]]) -> int\n",
            " |      \n",
            " |      Return the lowest index in S where substring sub is found,\n",
            " |      such that sub is contained within S[start:end].  Optional\n",
            " |      arguments start and end are interpreted as in slice notation.\n",
            " |      \n",
            " |      Return -1 on failure.\n",
            " |  \n",
            " |  format(...)\n",
            " |      S.format(*args, **kwargs) -> str\n",
            " |      \n",
            " |      Return a formatted version of S, using substitutions from args and kwargs.\n",
            " |      The substitutions are identified by braces ('{' and '}').\n",
            " |  \n",
            " |  format_map(...)\n",
            " |      S.format_map(mapping) -> str\n",
            " |      \n",
            " |      Return a formatted version of S, using substitutions from mapping.\n",
            " |      The substitutions are identified by braces ('{' and '}').\n",
            " |  \n",
            " |  index(...)\n",
            " |      S.index(sub[, start[, end]]) -> int\n",
            " |      \n",
            " |      Return the lowest index in S where substring sub is found,\n",
            " |      such that sub is contained within S[start:end].  Optional\n",
            " |      arguments start and end are interpreted as in slice notation.\n",
            " |      \n",
            " |      Raises ValueError when the substring is not found.\n",
            " |  \n",
            " |  isalnum(self, /)\n",
            " |      Return True if the string is an alpha-numeric string, False otherwise.\n",
            " |      \n",
            " |      A string is alpha-numeric if all characters in the string are alpha-numeric and\n",
            " |      there is at least one character in the string.\n",
            " |  \n",
            " |  isalpha(self, /)\n",
            " |      Return True if the string is an alphabetic string, False otherwise.\n",
            " |      \n",
            " |      A string is alphabetic if all characters in the string are alphabetic and there\n",
            " |      is at least one character in the string.\n",
            " |  \n",
            " |  isascii(self, /)\n",
            " |      Return True if all characters in the string are ASCII, False otherwise.\n",
            " |      \n",
            " |      ASCII characters have code points in the range U+0000-U+007F.\n",
            " |      Empty string is ASCII too.\n",
            " |  \n",
            " |  isdecimal(self, /)\n",
            " |      Return True if the string is a decimal string, False otherwise.\n",
            " |      \n",
            " |      A string is a decimal string if all characters in the string are decimal and\n",
            " |      there is at least one character in the string.\n",
            " |  \n",
            " |  isdigit(self, /)\n",
            " |      Return True if the string is a digit string, False otherwise.\n",
            " |      \n",
            " |      A string is a digit string if all characters in the string are digits and there\n",
            " |      is at least one character in the string.\n",
            " |  \n",
            " |  isidentifier(self, /)\n",
            " |      Return True if the string is a valid Python identifier, False otherwise.\n",
            " |      \n",
            " |      Call keyword.iskeyword(s) to test whether string s is a reserved identifier,\n",
            " |      such as \"def\" or \"class\".\n",
            " |  \n",
            " |  islower(self, /)\n",
            " |      Return True if the string is a lowercase string, False otherwise.\n",
            " |      \n",
            " |      A string is lowercase if all cased characters in the string are lowercase and\n",
            " |      there is at least one cased character in the string.\n",
            " |  \n",
            " |  isnumeric(self, /)\n",
            " |      Return True if the string is a numeric string, False otherwise.\n",
            " |      \n",
            " |      A string is numeric if all characters in the string are numeric and there is at\n",
            " |      least one character in the string.\n",
            " |  \n",
            " |  isprintable(self, /)\n",
            " |      Return True if the string is printable, False otherwise.\n",
            " |      \n",
            " |      A string is printable if all of its characters are considered printable in\n",
            " |      repr() or if it is empty.\n",
            " |  \n",
            " |  isspace(self, /)\n",
            " |      Return True if the string is a whitespace string, False otherwise.\n",
            " |      \n",
            " |      A string is whitespace if all characters in the string are whitespace and there\n",
            " |      is at least one character in the string.\n",
            " |  \n",
            " |  istitle(self, /)\n",
            " |      Return True if the string is a title-cased string, False otherwise.\n",
            " |      \n",
            " |      In a title-cased string, upper- and title-case characters may only\n",
            " |      follow uncased characters and lowercase characters only cased ones.\n",
            " |  \n",
            " |  isupper(self, /)\n",
            " |      Return True if the string is an uppercase string, False otherwise.\n",
            " |      \n",
            " |      A string is uppercase if all cased characters in the string are uppercase and\n",
            " |      there is at least one cased character in the string.\n",
            " |  \n",
            " |  join(self, iterable, /)\n",
            " |      Concatenate any number of strings.\n",
            " |      \n",
            " |      The string whose method is called is inserted in between each given string.\n",
            " |      The result is returned as a new string.\n",
            " |      \n",
            " |      Example: '.'.join(['ab', 'pq', 'rs']) -> 'ab.pq.rs'\n",
            " |  \n",
            " |  ljust(self, width, fillchar=' ', /)\n",
            " |      Return a left-justified string of length width.\n",
            " |      \n",
            " |      Padding is done using the specified fill character (default is a space).\n",
            " |  \n",
            " |  lower(self, /)\n",
            " |      Return a copy of the string converted to lowercase.\n",
            " |  \n",
            " |  lstrip(self, chars=None, /)\n",
            " |      Return a copy of the string with leading whitespace removed.\n",
            " |      \n",
            " |      If chars is given and not None, remove characters in chars instead.\n",
            " |  \n",
            " |  partition(self, sep, /)\n",
            " |      Partition the string into three parts using the given separator.\n",
            " |      \n",
            " |      This will search for the separator in the string.  If the separator is found,\n",
            " |      returns a 3-tuple containing the part before the separator, the separator\n",
            " |      itself, and the part after it.\n",
            " |      \n",
            " |      If the separator is not found, returns a 3-tuple containing the original string\n",
            " |      and two empty strings.\n",
            " |  \n",
            " |  removeprefix(self, prefix, /)\n",
            " |      Return a str with the given prefix string removed if present.\n",
            " |      \n",
            " |      If the string starts with the prefix string, return string[len(prefix):].\n",
            " |      Otherwise, return a copy of the original string.\n",
            " |  \n",
            " |  removesuffix(self, suffix, /)\n",
            " |      Return a str with the given suffix string removed if present.\n",
            " |      \n",
            " |      If the string ends with the suffix string and that suffix is not empty,\n",
            " |      return string[:-len(suffix)]. Otherwise, return a copy of the original\n",
            " |      string.\n",
            " |  \n",
            " |  replace(self, old, new, count=-1, /)\n",
            " |      Return a copy with all occurrences of substring old replaced by new.\n",
            " |      \n",
            " |        count\n",
            " |          Maximum number of occurrences to replace.\n",
            " |          -1 (the default value) means replace all occurrences.\n",
            " |      \n",
            " |      If the optional argument count is given, only the first count occurrences are\n",
            " |      replaced.\n",
            " |  \n",
            " |  rfind(...)\n",
            " |      S.rfind(sub[, start[, end]]) -> int\n",
            " |      \n",
            " |      Return the highest index in S where substring sub is found,\n",
            " |      such that sub is contained within S[start:end].  Optional\n",
            " |      arguments start and end are interpreted as in slice notation.\n",
            " |      \n",
            " |      Return -1 on failure.\n",
            " |  \n",
            " |  rindex(...)\n",
            " |      S.rindex(sub[, start[, end]]) -> int\n",
            " |      \n",
            " |      Return the highest index in S where substring sub is found,\n",
            " |      such that sub is contained within S[start:end].  Optional\n",
            " |      arguments start and end are interpreted as in slice notation.\n",
            " |      \n",
            " |      Raises ValueError when the substring is not found.\n",
            " |  \n",
            " |  rjust(self, width, fillchar=' ', /)\n",
            " |      Return a right-justified string of length width.\n",
            " |      \n",
            " |      Padding is done using the specified fill character (default is a space).\n",
            " |  \n",
            " |  rpartition(self, sep, /)\n",
            " |      Partition the string into three parts using the given separator.\n",
            " |      \n",
            " |      This will search for the separator in the string, starting at the end. If\n",
            " |      the separator is found, returns a 3-tuple containing the part before the\n",
            " |      separator, the separator itself, and the part after it.\n",
            " |      \n",
            " |      If the separator is not found, returns a 3-tuple containing two empty strings\n",
            " |      and the original string.\n",
            " |  \n",
            " |  rsplit(self, /, sep=None, maxsplit=-1)\n",
            " |      Return a list of the substrings in the string, using sep as the separator string.\n",
            " |      \n",
            " |        sep\n",
            " |          The separator used to split the string.\n",
            " |      \n",
            " |          When set to None (the default value), will split on any whitespace\n",
            " |          character (including \\n \\r \\t \\f and spaces) and will discard\n",
            " |          empty strings from the result.\n",
            " |        maxsplit\n",
            " |          Maximum number of splits.\n",
            " |          -1 (the default value) means no limit.\n",
            " |      \n",
            " |      Splitting starts at the end of the string and works to the front.\n",
            " |  \n",
            " |  rstrip(self, chars=None, /)\n",
            " |      Return a copy of the string with trailing whitespace removed.\n",
            " |      \n",
            " |      If chars is given and not None, remove characters in chars instead.\n",
            " |  \n",
            " |  split(self, /, sep=None, maxsplit=-1)\n",
            " |      Return a list of the substrings in the string, using sep as the separator string.\n",
            " |      \n",
            " |        sep\n",
            " |          The separator used to split the string.\n",
            " |      \n",
            " |          When set to None (the default value), will split on any whitespace\n",
            " |          character (including \\n \\r \\t \\f and spaces) and will discard\n",
            " |          empty strings from the result.\n",
            " |        maxsplit\n",
            " |          Maximum number of splits.\n",
            " |          -1 (the default value) means no limit.\n",
            " |      \n",
            " |      Splitting starts at the front of the string and works to the end.\n",
            " |      \n",
            " |      Note, str.split() is mainly useful for data that has been intentionally\n",
            " |      delimited.  With natural text that includes punctuation, consider using\n",
            " |      the regular expression module.\n",
            " |  \n",
            " |  splitlines(self, /, keepends=False)\n",
            " |      Return a list of the lines in the string, breaking at line boundaries.\n",
            " |      \n",
            " |      Line breaks are not included in the resulting list unless keepends is given and\n",
            " |      true.\n",
            " |  \n",
            " |  startswith(...)\n",
            " |      S.startswith(prefix[, start[, end]]) -> bool\n",
            " |      \n",
            " |      Return True if S starts with the specified prefix, False otherwise.\n",
            " |      With optional start, test S beginning at that position.\n",
            " |      With optional end, stop comparing S at that position.\n",
            " |      prefix can also be a tuple of strings to try.\n",
            " |  \n",
            " |  strip(self, chars=None, /)\n",
            " |      Return a copy of the string with leading and trailing whitespace removed.\n",
            " |      \n",
            " |      If chars is given and not None, remove characters in chars instead.\n",
            " |  \n",
            " |  swapcase(self, /)\n",
            " |      Convert uppercase characters to lowercase and lowercase characters to uppercase.\n",
            " |  \n",
            " |  title(self, /)\n",
            " |      Return a version of the string where each word is titlecased.\n",
            " |      \n",
            " |      More specifically, words start with uppercased characters and all remaining\n",
            " |      cased characters have lower case.\n",
            " |  \n",
            " |  translate(self, table, /)\n",
            " |      Replace each character in the string using the given translation table.\n",
            " |      \n",
            " |        table\n",
            " |          Translation table, which must be a mapping of Unicode ordinals to\n",
            " |          Unicode ordinals, strings, or None.\n",
            " |      \n",
            " |      The table must implement lookup/indexing via __getitem__, for instance a\n",
            " |      dictionary or list.  If this operation raises LookupError, the character is\n",
            " |      left untouched.  Characters mapped to None are deleted.\n",
            " |  \n",
            " |  upper(self, /)\n",
            " |      Return a copy of the string converted to uppercase.\n",
            " |  \n",
            " |  zfill(self, width, /)\n",
            " |      Pad a numeric string with zeros on the left, to fill a field of the given width.\n",
            " |      \n",
            " |      The string is never truncated.\n",
            " |  \n",
            " |  ----------------------------------------------------------------------\n",
            " |  Static methods defined here:\n",
            " |  \n",
            " |  __new__(*args, **kwargs)\n",
            " |      Create and return a new object.  See help(type) for accurate signature.\n",
            " |  \n",
            " |  maketrans(...)\n",
            " |      Return a translation table usable for str.translate().\n",
            " |      \n",
            " |      If there is only one argument, it must be a dictionary mapping Unicode\n",
            " |      ordinals (integers) or characters to Unicode ordinals, strings or None.\n",
            " |      Character keys will be then converted to ordinals.\n",
            " |      If there are two arguments, they must be strings of equal length, and\n",
            " |      in the resulting dictionary, each character in x will be mapped to the\n",
            " |      character at the same position in y. If there is a third argument, it\n",
            " |      must be a string, whose characters will be mapped to None in the result.\n",
            "\n"
          ]
        }
      ]
    },
    {
      "cell_type": "code",
      "source": [
        "dir(str)\n",
        "#avail methods for str type"
      ],
      "metadata": {
        "colab": {
          "base_uri": "https://localhost:8080/"
        },
        "id": "ON-TwXKcqztJ",
        "outputId": "7bad6b15-55ad-4d1c-ba9c-8b5f2db5efc5",
        "collapsed": true
      },
      "execution_count": null,
      "outputs": [
        {
          "output_type": "execute_result",
          "data": {
            "text/plain": [
              "['__add__',\n",
              " '__class__',\n",
              " '__contains__',\n",
              " '__delattr__',\n",
              " '__dir__',\n",
              " '__doc__',\n",
              " '__eq__',\n",
              " '__format__',\n",
              " '__ge__',\n",
              " '__getattribute__',\n",
              " '__getitem__',\n",
              " '__getnewargs__',\n",
              " '__getstate__',\n",
              " '__gt__',\n",
              " '__hash__',\n",
              " '__init__',\n",
              " '__init_subclass__',\n",
              " '__iter__',\n",
              " '__le__',\n",
              " '__len__',\n",
              " '__lt__',\n",
              " '__mod__',\n",
              " '__mul__',\n",
              " '__ne__',\n",
              " '__new__',\n",
              " '__reduce__',\n",
              " '__reduce_ex__',\n",
              " '__repr__',\n",
              " '__rmod__',\n",
              " '__rmul__',\n",
              " '__setattr__',\n",
              " '__sizeof__',\n",
              " '__str__',\n",
              " '__subclasshook__',\n",
              " 'capitalize',\n",
              " 'casefold',\n",
              " 'center',\n",
              " 'count',\n",
              " 'encode',\n",
              " 'endswith',\n",
              " 'expandtabs',\n",
              " 'find',\n",
              " 'format',\n",
              " 'format_map',\n",
              " 'index',\n",
              " 'isalnum',\n",
              " 'isalpha',\n",
              " 'isascii',\n",
              " 'isdecimal',\n",
              " 'isdigit',\n",
              " 'isidentifier',\n",
              " 'islower',\n",
              " 'isnumeric',\n",
              " 'isprintable',\n",
              " 'isspace',\n",
              " 'istitle',\n",
              " 'isupper',\n",
              " 'join',\n",
              " 'ljust',\n",
              " 'lower',\n",
              " 'lstrip',\n",
              " 'maketrans',\n",
              " 'partition',\n",
              " 'removeprefix',\n",
              " 'removesuffix',\n",
              " 'replace',\n",
              " 'rfind',\n",
              " 'rindex',\n",
              " 'rjust',\n",
              " 'rpartition',\n",
              " 'rsplit',\n",
              " 'rstrip',\n",
              " 'split',\n",
              " 'splitlines',\n",
              " 'startswith',\n",
              " 'strip',\n",
              " 'swapcase',\n",
              " 'title',\n",
              " 'translate',\n",
              " 'upper',\n",
              " 'zfill']"
            ]
          },
          "metadata": {},
          "execution_count": 139
        }
      ]
    },
    {
      "cell_type": "code",
      "source": [
        "eval(\"10+5\")\n"
      ],
      "metadata": {
        "colab": {
          "base_uri": "https://localhost:8080/"
        },
        "id": "JaempeW5q8yZ",
        "outputId": "80f00e0b-88ea-4883-a14a-7af96ee8d462"
      },
      "execution_count": null,
      "outputs": [
        {
          "output_type": "execute_result",
          "data": {
            "text/plain": [
              "15"
            ]
          },
          "metadata": {},
          "execution_count": 141
        }
      ]
    },
    {
      "cell_type": "code",
      "source": [
        "exec(\"print(2+3)\")"
      ],
      "metadata": {
        "colab": {
          "base_uri": "https://localhost:8080/"
        },
        "id": "GCvM_kLvrGLg",
        "outputId": "8b3cf738-3671-46c3-af46-3bbaeabd8672"
      },
      "execution_count": null,
      "outputs": [
        {
          "output_type": "stream",
          "name": "stdout",
          "text": [
            "5\n"
          ]
        }
      ]
    },
    {
      "cell_type": "markdown",
      "source": [
        "defining functions"
      ],
      "metadata": {
        "id": "p8b8mxkJrKi_"
      }
    },
    {
      "cell_type": "code",
      "source": [
        "def greet():\n",
        "  print(\"hello,world\")\n",
        "greet()"
      ],
      "metadata": {
        "colab": {
          "base_uri": "https://localhost:8080/"
        },
        "id": "aRjSZJZvrMS3",
        "outputId": "a372b66a-2a23-464e-e5f1-31d55c9e951f"
      },
      "execution_count": null,
      "outputs": [
        {
          "output_type": "stream",
          "name": "stdout",
          "text": [
            "hello,world\n"
          ]
        }
      ]
    },
    {
      "cell_type": "code",
      "source": [
        "def add_num():\n",
        "  a=10\n",
        "  b=20\n",
        "  print(\"sum\",a+b)\n",
        "add_num()"
      ],
      "metadata": {
        "colab": {
          "base_uri": "https://localhost:8080/"
        },
        "id": "3JagzJXGrc9O",
        "outputId": "f7c0b805-659e-477d-ef31-30bd6978a0d9"
      },
      "execution_count": null,
      "outputs": [
        {
          "output_type": "stream",
          "name": "stdout",
          "text": [
            "sum 30\n"
          ]
        }
      ]
    },
    {
      "cell_type": "code",
      "source": [
        "#write a funcion welcome_message() that prints \"welcome to python functions\"\n",
        "def welcome_message():\n",
        "  print(\"welcome to python functions\")\n",
        "welcome_message()"
      ],
      "metadata": {
        "colab": {
          "base_uri": "https://localhost:8080/"
        },
        "id": "f_xCyJ-LsMpI",
        "outputId": "67cd5ccb-8b69-4323-c22f-d230c3d6ab77"
      },
      "execution_count": null,
      "outputs": [
        {
          "output_type": "stream",
          "name": "stdout",
          "text": [
            "welcome to python functions\n"
          ]
        }
      ]
    },
    {
      "cell_type": "code",
      "source": [
        "#def square():\n",
        "def print_square(num):\n",
        "    print(num ** 2)\n",
        "print_square(num)\n"
      ],
      "metadata": {
        "colab": {
          "base_uri": "https://localhost:8080/"
        },
        "id": "stsrWvThsmuZ",
        "outputId": "62ccff82-05f9-4af1-e3c3-3d9b931592ac"
      },
      "execution_count": null,
      "outputs": [
        {
          "output_type": "stream",
          "name": "stdout",
          "text": [
            "625\n"
          ]
        }
      ]
    },
    {
      "cell_type": "code",
      "source": [
        "def add_numbers(a, b):\n",
        "    print(a + b)\n",
        "add_numbers(3, 7)\n"
      ],
      "metadata": {
        "colab": {
          "base_uri": "https://localhost:8080/"
        },
        "id": "6SS47GDbtGTn",
        "outputId": "cea6f2d0-7b0e-446c-da4e-d86e8ee0eea4"
      },
      "execution_count": null,
      "outputs": [
        {
          "output_type": "stream",
          "name": "stdout",
          "text": [
            "10\n"
          ]
        }
      ]
    },
    {
      "cell_type": "markdown",
      "source": [
        "FUNCTION ARGUMENTS\n",
        "KEYWORD AND DEFAULT"
      ],
      "metadata": {
        "id": "OoJSD3lNtP57"
      }
    },
    {
      "cell_type": "code",
      "source": [
        "def greet(name=\"Guest\"):\n",
        "  print(\"Hello\", name)\n",
        "greet()\n",
        "greet(\"Alice\")"
      ],
      "metadata": {
        "colab": {
          "base_uri": "https://localhost:8080/"
        },
        "id": "O5qa-t18tO3s",
        "outputId": "15d5ede7-4517-493f-d44f-90c039ace5d0"
      },
      "execution_count": null,
      "outputs": [
        {
          "output_type": "stream",
          "name": "stdout",
          "text": [
            "Hello Guest\n",
            "Hello Alice\n"
          ]
        }
      ]
    },
    {
      "cell_type": "markdown",
      "source": [
        "write a func multiply(a,b) that prints the product of two numbers and modify it to take default values a=1,b=1"
      ],
      "metadata": {
        "id": "-0ansm9AtwN7"
      }
    },
    {
      "cell_type": "code",
      "source": [
        "def multiply(a,b):\n",
        "  print(a*b)\n",
        "multiply(3,5)\n",
        "multiply(1,1)\n"
      ],
      "metadata": {
        "colab": {
          "base_uri": "https://localhost:8080/"
        },
        "id": "38FkRoDZt87W",
        "outputId": "10982b8f-e135-49b1-de06-fc252fe971e0"
      },
      "execution_count": null,
      "outputs": [
        {
          "output_type": "stream",
          "name": "stdout",
          "text": [
            "15\n",
            "1\n"
          ]
        }
      ]
    },
    {
      "cell_type": "code",
      "source": [
        "def multiply(a=1, b=1):\n",
        "    print(a * b)\n",
        "multiply()\n",
        "multiply(5, 6)\n"
      ],
      "metadata": {
        "colab": {
          "base_uri": "https://localhost:8080/"
        },
        "id": "0HB_FaD5ul48",
        "outputId": "85340ec2-cc08-4992-c3a6-ae33d4cd13b1"
      },
      "execution_count": null,
      "outputs": [
        {
          "output_type": "stream",
          "name": "stdout",
          "text": [
            "1\n",
            "30\n"
          ]
        }
      ]
    },
    {
      "cell_type": "markdown",
      "source": [
        "return values"
      ],
      "metadata": {
        "id": "5wGRObCnuuA6"
      }
    },
    {
      "cell_type": "code",
      "source": [
        "def add(a,b):\n",
        "  return a+b\n",
        "result=add(4,6)\n",
        "print(\"result\",result)"
      ],
      "metadata": {
        "colab": {
          "base_uri": "https://localhost:8080/"
        },
        "id": "nTAqE5eZuvVf",
        "outputId": "6d162756-4d2c-44a3-f90c-4b99641a8ed6"
      },
      "execution_count": null,
      "outputs": [
        {
          "output_type": "stream",
          "name": "stdout",
          "text": [
            "result 10\n"
          ]
        }
      ]
    },
    {
      "cell_type": "markdown",
      "source": [
        "write a function square(n) that return the square of n"
      ],
      "metadata": {
        "id": "r0CR1GgYvRxJ"
      }
    },
    {
      "cell_type": "code",
      "source": [
        "def square(num):\n",
        "    return num ** 2\n",
        "result = square(5)\n",
        "print(result)\n"
      ],
      "metadata": {
        "colab": {
          "base_uri": "https://localhost:8080/"
        },
        "id": "tcOHlG0kvXcK",
        "outputId": "3573d79e-b7ff-466a-eb29-9d8237c9bda8"
      },
      "execution_count": null,
      "outputs": [
        {
          "output_type": "stream",
          "name": "stdout",
          "text": [
            "25\n"
          ]
        }
      ]
    },
    {
      "cell_type": "markdown",
      "source": [
        "libraries"
      ],
      "metadata": {
        "id": "ENdmiZ1IwQWQ"
      }
    },
    {
      "cell_type": "code",
      "source": [
        "import keyword\n",
        "print(keyword.kwlist)\n",
        "print(len(keyword.kwlist))\n"
      ],
      "metadata": {
        "colab": {
          "base_uri": "https://localhost:8080/"
        },
        "id": "PNttJopqwe3s",
        "outputId": "e65bd42b-dac3-41f9-ab11-698b40bd1b5d"
      },
      "execution_count": null,
      "outputs": [
        {
          "output_type": "stream",
          "name": "stdout",
          "text": [
            "['False', 'None', 'True', 'and', 'as', 'assert', 'async', 'await', 'break', 'class', 'continue', 'def', 'del', 'elif', 'else', 'except', 'finally', 'for', 'from', 'global', 'if', 'import', 'in', 'is', 'lambda', 'nonlocal', 'not', 'or', 'pass', 'raise', 'return', 'try', 'while', 'with', 'yield']\n",
            "35\n"
          ]
        }
      ]
    },
    {
      "cell_type": "markdown",
      "source": [
        "\"\"\"doc string\"\"\""
      ],
      "metadata": {
        "id": "yusiRV5ixTKq"
      }
    },
    {
      "cell_type": "code",
      "source": [
        "def add_num(a,b):\n",
        "  \"\"\"This function adds two numbers\"\"\"\n",
        "  sum=a+b\n",
        "  return sum"
      ],
      "metadata": {
        "id": "dhNktvMvxUsA"
      },
      "execution_count": null,
      "outputs": []
    },
    {
      "cell_type": "code",
      "source": [
        "add_num(4,6)"
      ],
      "metadata": {
        "colab": {
          "base_uri": "https://localhost:8080/"
        },
        "id": "a_3JNaIexm-F",
        "outputId": "43dcfaca-d11e-4240-b17f-aff7f177d6f4"
      },
      "execution_count": null,
      "outputs": [
        {
          "output_type": "execute_result",
          "data": {
            "text/plain": [
              "10"
            ]
          },
          "metadata": {},
          "execution_count": 168
        }
      ]
    },
    {
      "cell_type": "code",
      "source": [
        "print(add_num.__doc__)\n"
      ],
      "metadata": {
        "colab": {
          "base_uri": "https://localhost:8080/"
        },
        "id": "OoCxngfZyAby",
        "outputId": "bdab30be-92d8-419e-e868-6f44a62587a3"
      },
      "execution_count": null,
      "outputs": [
        {
          "output_type": "stream",
          "name": "stdout",
          "text": [
            "This function adds two numbers\n"
          ]
        }
      ]
    },
    {
      "cell_type": "markdown",
      "source": [
        "to return multuple results"
      ],
      "metadata": {
        "id": "SCX_Hgy6yGWo"
      }
    },
    {
      "cell_type": "code",
      "source": [
        "def arithmetic_num(a,b):\n",
        "  return a+b,a-b,a*b,a/b\n",
        "tsum,tdiff,tmul,tdiv=arithmetic_num(10,5)\n",
        "print(tsum,tdiff,tmul,tdiv)"
      ],
      "metadata": {
        "colab": {
          "base_uri": "https://localhost:8080/"
        },
        "id": "ORftR_yoyJlt",
        "outputId": "56272595-772c-4ade-8727-a718d235f50e"
      },
      "execution_count": null,
      "outputs": [
        {
          "output_type": "stream",
          "name": "stdout",
          "text": [
            "15 5 50 2.0\n"
          ]
        }
      ]
    },
    {
      "cell_type": "markdown",
      "source": [
        "keyword arguments"
      ],
      "metadata": {
        "id": "Ncn2mKNLy7nj"
      }
    },
    {
      "cell_type": "code",
      "source": [
        "def print_info(*kwargs):\n",
        "  for item in kwargs:\n",
        "    print(item)"
      ],
      "metadata": {
        "id": "XMhdSihVy9Va"
      },
      "execution_count": null,
      "outputs": []
    },
    {
      "cell_type": "code",
      "source": [
        "print_info(\"hi\",\"hello\")"
      ],
      "metadata": {
        "colab": {
          "base_uri": "https://localhost:8080/"
        },
        "id": "i5jqpPRozH0f",
        "outputId": "fd3afe70-aaec-4a13-f241-28a4221a1fa8"
      },
      "execution_count": null,
      "outputs": [
        {
          "output_type": "stream",
          "name": "stdout",
          "text": [
            "hi\n",
            "hello\n"
          ]
        }
      ]
    },
    {
      "cell_type": "code",
      "source": [
        "import os\n",
        "if os.path.exists(\"sample.txt\"):\n",
        "  print(\"file exists\")\n",
        "else:\n",
        "  print(\"doesnt exist\")\n"
      ],
      "metadata": {
        "colab": {
          "base_uri": "https://localhost:8080/"
        },
        "id": "PwCqTYAc0DcE",
        "outputId": "6be76749-d5f7-4139-de30-eeb6ed66daad"
      },
      "execution_count": null,
      "outputs": [
        {
          "output_type": "stream",
          "name": "stdout",
          "text": [
            "file exists\n"
          ]
        }
      ]
    },
    {
      "cell_type": "markdown",
      "source": [],
      "metadata": {
        "id": "OI8ialzPz9sL"
      }
    },
    {
      "cell_type": "code",
      "source": [
        "os.listdir()"
      ],
      "metadata": {
        "colab": {
          "base_uri": "https://localhost:8080/"
        },
        "id": "rsigAa_Z0dc2",
        "outputId": "328c18c8-bd5f-4f95-be40-1fc2ef8742ac"
      },
      "execution_count": null,
      "outputs": [
        {
          "output_type": "execute_result",
          "data": {
            "text/plain": [
              "['.config', 'sample.txt', 'sample_data']"
            ]
          },
          "metadata": {},
          "execution_count": 180
        }
      ]
    },
    {
      "cell_type": "markdown",
      "source": [
        "write code snippet to save the list of pdf files from your downloads folder as'pdf_list.txt' and sort in descending order"
      ],
      "metadata": {
        "id": "0512IfKJ0tsF"
      }
    },
    {
      "cell_type": "code",
      "source": [
        "import os"
      ],
      "metadata": {
        "id": "6IfiX_407Td8"
      },
      "execution_count": null,
      "outputs": []
    },
    {
      "cell_type": "markdown",
      "source": [
        "Object Oriented Programming"
      ],
      "metadata": {
        "id": "3fNgKcWMN5he"
      }
    },
    {
      "cell_type": "markdown",
      "source": [
        "Class Attributes"
      ],
      "metadata": {
        "id": "-bOA5eDAOj3O"
      }
    },
    {
      "cell_type": "code",
      "source": [
        "class Dog:#class is created\n",
        "  def __init__(self,name,age):\n",
        "    self.x = name\n",
        "    self.y=age#x and y are attributes\n"
      ],
      "metadata": {
        "id": "63IctxiKN9d1"
      },
      "execution_count": null,
      "outputs": []
    },
    {
      "cell_type": "code",
      "source": [
        "my_pet = Dog(\"Bob\",5) #object is created"
      ],
      "metadata": {
        "id": "t5jbY1SKO21w"
      },
      "execution_count": null,
      "outputs": []
    },
    {
      "cell_type": "code",
      "source": [
        "print(my_pet.x)"
      ],
      "metadata": {
        "colab": {
          "base_uri": "https://localhost:8080/"
        },
        "id": "0F2kUYt9PUko",
        "outputId": "497bc101-4189-4cd9-f54d-65eb1c358c8e"
      },
      "execution_count": null,
      "outputs": [
        {
          "output_type": "stream",
          "name": "stdout",
          "text": [
            "Bob\n"
          ]
        }
      ]
    },
    {
      "cell_type": "code",
      "source": [
        "class Dog:#class is created\n",
        "  def __init__(self,name,age):\n",
        "    self.name = name\n",
        "    self.age=age#x and y are attributes\n",
        "my_pet = Dog(\"Bob\",5) #object is created\n",
        "print(my_pet.age)"
      ],
      "metadata": {
        "colab": {
          "base_uri": "https://localhost:8080/"
        },
        "id": "r5uBsfyiQW4I",
        "outputId": "c1b525ff-197e-4faf-a737-9beacc7ea607"
      },
      "execution_count": null,
      "outputs": [
        {
          "output_type": "stream",
          "name": "stdout",
          "text": [
            "5\n"
          ]
        }
      ]
    },
    {
      "cell_type": "code",
      "source": [
        "from typing import SupportsRound\n",
        "class Dog:#class is created\n",
        "  def __init__(self,name,age,sound):\n",
        "    self.name = name\n",
        "    self.age=age\n",
        "    self.sound=sound\n",
        "  def say(self):\n",
        "    print(self.sound*2)"
      ],
      "metadata": {
        "id": "qaPz5itCQqMz"
      },
      "execution_count": null,
      "outputs": []
    },
    {
      "cell_type": "code",
      "source": [
        "my_pet = Dog(\"Bob\",5,\"woof!...\") #object is created\n"
      ],
      "metadata": {
        "id": "KXPX-B_8RFab"
      },
      "execution_count": null,
      "outputs": []
    },
    {
      "cell_type": "code",
      "source": [
        "my_pet.say()"
      ],
      "metadata": {
        "colab": {
          "base_uri": "https://localhost:8080/"
        },
        "id": "KENaEpinRaJ9",
        "outputId": "c5e86ec7-1f37-4f04-ada2-bd08311edb00"
      },
      "execution_count": null,
      "outputs": [
        {
          "output_type": "stream",
          "name": "stdout",
          "text": [
            "woof!...woof!...\n"
          ]
        }
      ]
    },
    {
      "cell_type": "code",
      "source": [
        "my_pet2 = Dog(\"bow!...\",5,\"meooow!...\") #object is created\n"
      ],
      "metadata": {
        "id": "i3sRM4hgRoMt"
      },
      "execution_count": null,
      "outputs": []
    },
    {
      "cell_type": "code",
      "source": [
        "my_pet2.say()"
      ],
      "metadata": {
        "colab": {
          "base_uri": "https://localhost:8080/"
        },
        "id": "Jm2epULbRwbW",
        "outputId": "24b5c665-4280-4098-d2a0-27f1ec066238"
      },
      "execution_count": null,
      "outputs": [
        {
          "output_type": "stream",
          "name": "stdout",
          "text": [
            "meooow!...meooow!...\n"
          ]
        }
      ]
    },
    {
      "cell_type": "markdown",
      "source": [
        "Inheritance"
      ],
      "metadata": {
        "id": "fFzSyLCKSTOt"
      }
    },
    {
      "cell_type": "code",
      "source": [
        "\n",
        "class Animal:\n",
        "  def __init__(self,name,age,sound):\n",
        "    self.name=name\n",
        "    self.age=age\n",
        "    self.sound=sound\n",
        "  def make_sound(self):\n",
        "    print(self.sound)"
      ],
      "metadata": {
        "id": "9z90T2AJSVF2"
      },
      "execution_count": null,
      "outputs": []
    },
    {
      "cell_type": "code",
      "source": [
        "class Dog(Animal):\n",
        "  def __init__(self,name,age):\n",
        "    super().__init__(name,age,\"Woof\")\n",
        "  def action(Self):\n",
        "    print(\"moves fails\")\n"
      ],
      "metadata": {
        "id": "C2jpsXpKTRvV"
      },
      "execution_count": null,
      "outputs": []
    },
    {
      "cell_type": "code",
      "source": [
        "class Cat(Animal):\n",
        "   def __init__(self,name,age):\n",
        "    super().__init__(name,age,\"Meow\")\n",
        "   def action(Self):\n",
        "    print(\"moves fails\")\n"
      ],
      "metadata": {
        "id": "TBg3MBkSTtMf"
      },
      "execution_count": null,
      "outputs": []
    },
    {
      "cell_type": "code",
      "source": [
        "my_dog = Dog(\"jack\",10) #object is created\n",
        "my_dog.action()"
      ],
      "metadata": {
        "colab": {
          "base_uri": "https://localhost:8080/"
        },
        "id": "YvSNhPlVVqUy",
        "outputId": "b7eef7e4-4906-429d-f2a8-80b60cfb5cb2"
      },
      "execution_count": null,
      "outputs": [
        {
          "output_type": "stream",
          "name": "stdout",
          "text": [
            "moves fails\n"
          ]
        }
      ]
    },
    {
      "cell_type": "code",
      "source": [
        "my_cat = Cat(\"jerry\",8) #object is created\n",
        "my_cat.action()"
      ],
      "metadata": {
        "colab": {
          "base_uri": "https://localhost:8080/"
        },
        "id": "UKk4RiZRVr84",
        "outputId": "8cf428f3-650d-4411-c283-d5b8c2f72551"
      },
      "execution_count": null,
      "outputs": [
        {
          "output_type": "stream",
          "name": "stdout",
          "text": [
            "moves fails\n"
          ]
        }
      ]
    },
    {
      "cell_type": "code",
      "source": [
        "msg=\"good mrng\"\n",
        "help(str)"
      ],
      "metadata": {
        "colab": {
          "base_uri": "https://localhost:8080/"
        },
        "collapsed": true,
        "id": "HXTjOE7mWqOL",
        "outputId": "042adfde-4d9e-4f78-cb3e-96b3034ed954"
      },
      "execution_count": null,
      "outputs": [
        {
          "output_type": "stream",
          "name": "stdout",
          "text": [
            "Help on class str in module builtins:\n",
            "\n",
            "class str(object)\n",
            " |  str(object='') -> str\n",
            " |  str(bytes_or_buffer[, encoding[, errors]]) -> str\n",
            " |  \n",
            " |  Create a new string object from the given object. If encoding or\n",
            " |  errors is specified, then the object must expose a data buffer\n",
            " |  that will be decoded using the given encoding and error handler.\n",
            " |  Otherwise, returns the result of object.__str__() (if defined)\n",
            " |  or repr(object).\n",
            " |  encoding defaults to sys.getdefaultencoding().\n",
            " |  errors defaults to 'strict'.\n",
            " |  \n",
            " |  Methods defined here:\n",
            " |  \n",
            " |  __add__(self, value, /)\n",
            " |      Return self+value.\n",
            " |  \n",
            " |  __contains__(self, key, /)\n",
            " |      Return key in self.\n",
            " |  \n",
            " |  __eq__(self, value, /)\n",
            " |      Return self==value.\n",
            " |  \n",
            " |  __format__(self, format_spec, /)\n",
            " |      Return a formatted version of the string as described by format_spec.\n",
            " |  \n",
            " |  __ge__(self, value, /)\n",
            " |      Return self>=value.\n",
            " |  \n",
            " |  __getattribute__(self, name, /)\n",
            " |      Return getattr(self, name).\n",
            " |  \n",
            " |  __getitem__(self, key, /)\n",
            " |      Return self[key].\n",
            " |  \n",
            " |  __getnewargs__(...)\n",
            " |  \n",
            " |  __gt__(self, value, /)\n",
            " |      Return self>value.\n",
            " |  \n",
            " |  __hash__(self, /)\n",
            " |      Return hash(self).\n",
            " |  \n",
            " |  __iter__(self, /)\n",
            " |      Implement iter(self).\n",
            " |  \n",
            " |  __le__(self, value, /)\n",
            " |      Return self<=value.\n",
            " |  \n",
            " |  __len__(self, /)\n",
            " |      Return len(self).\n",
            " |  \n",
            " |  __lt__(self, value, /)\n",
            " |      Return self<value.\n",
            " |  \n",
            " |  __mod__(self, value, /)\n",
            " |      Return self%value.\n",
            " |  \n",
            " |  __mul__(self, value, /)\n",
            " |      Return self*value.\n",
            " |  \n",
            " |  __ne__(self, value, /)\n",
            " |      Return self!=value.\n",
            " |  \n",
            " |  __repr__(self, /)\n",
            " |      Return repr(self).\n",
            " |  \n",
            " |  __rmod__(self, value, /)\n",
            " |      Return value%self.\n",
            " |  \n",
            " |  __rmul__(self, value, /)\n",
            " |      Return value*self.\n",
            " |  \n",
            " |  __sizeof__(self, /)\n",
            " |      Return the size of the string in memory, in bytes.\n",
            " |  \n",
            " |  __str__(self, /)\n",
            " |      Return str(self).\n",
            " |  \n",
            " |  capitalize(self, /)\n",
            " |      Return a capitalized version of the string.\n",
            " |      \n",
            " |      More specifically, make the first character have upper case and the rest lower\n",
            " |      case.\n",
            " |  \n",
            " |  casefold(self, /)\n",
            " |      Return a version of the string suitable for caseless comparisons.\n",
            " |  \n",
            " |  center(self, width, fillchar=' ', /)\n",
            " |      Return a centered string of length width.\n",
            " |      \n",
            " |      Padding is done using the specified fill character (default is a space).\n",
            " |  \n",
            " |  count(...)\n",
            " |      S.count(sub[, start[, end]]) -> int\n",
            " |      \n",
            " |      Return the number of non-overlapping occurrences of substring sub in\n",
            " |      string S[start:end].  Optional arguments start and end are\n",
            " |      interpreted as in slice notation.\n",
            " |  \n",
            " |  encode(self, /, encoding='utf-8', errors='strict')\n",
            " |      Encode the string using the codec registered for encoding.\n",
            " |      \n",
            " |      encoding\n",
            " |        The encoding in which to encode the string.\n",
            " |      errors\n",
            " |        The error handling scheme to use for encoding errors.\n",
            " |        The default is 'strict' meaning that encoding errors raise a\n",
            " |        UnicodeEncodeError.  Other possible values are 'ignore', 'replace' and\n",
            " |        'xmlcharrefreplace' as well as any other name registered with\n",
            " |        codecs.register_error that can handle UnicodeEncodeErrors.\n",
            " |  \n",
            " |  endswith(...)\n",
            " |      S.endswith(suffix[, start[, end]]) -> bool\n",
            " |      \n",
            " |      Return True if S ends with the specified suffix, False otherwise.\n",
            " |      With optional start, test S beginning at that position.\n",
            " |      With optional end, stop comparing S at that position.\n",
            " |      suffix can also be a tuple of strings to try.\n",
            " |  \n",
            " |  expandtabs(self, /, tabsize=8)\n",
            " |      Return a copy where all tab characters are expanded using spaces.\n",
            " |      \n",
            " |      If tabsize is not given, a tab size of 8 characters is assumed.\n",
            " |  \n",
            " |  find(...)\n",
            " |      S.find(sub[, start[, end]]) -> int\n",
            " |      \n",
            " |      Return the lowest index in S where substring sub is found,\n",
            " |      such that sub is contained within S[start:end].  Optional\n",
            " |      arguments start and end are interpreted as in slice notation.\n",
            " |      \n",
            " |      Return -1 on failure.\n",
            " |  \n",
            " |  format(...)\n",
            " |      S.format(*args, **kwargs) -> str\n",
            " |      \n",
            " |      Return a formatted version of S, using substitutions from args and kwargs.\n",
            " |      The substitutions are identified by braces ('{' and '}').\n",
            " |  \n",
            " |  format_map(...)\n",
            " |      S.format_map(mapping) -> str\n",
            " |      \n",
            " |      Return a formatted version of S, using substitutions from mapping.\n",
            " |      The substitutions are identified by braces ('{' and '}').\n",
            " |  \n",
            " |  index(...)\n",
            " |      S.index(sub[, start[, end]]) -> int\n",
            " |      \n",
            " |      Return the lowest index in S where substring sub is found,\n",
            " |      such that sub is contained within S[start:end].  Optional\n",
            " |      arguments start and end are interpreted as in slice notation.\n",
            " |      \n",
            " |      Raises ValueError when the substring is not found.\n",
            " |  \n",
            " |  isalnum(self, /)\n",
            " |      Return True if the string is an alpha-numeric string, False otherwise.\n",
            " |      \n",
            " |      A string is alpha-numeric if all characters in the string are alpha-numeric and\n",
            " |      there is at least one character in the string.\n",
            " |  \n",
            " |  isalpha(self, /)\n",
            " |      Return True if the string is an alphabetic string, False otherwise.\n",
            " |      \n",
            " |      A string is alphabetic if all characters in the string are alphabetic and there\n",
            " |      is at least one character in the string.\n",
            " |  \n",
            " |  isascii(self, /)\n",
            " |      Return True if all characters in the string are ASCII, False otherwise.\n",
            " |      \n",
            " |      ASCII characters have code points in the range U+0000-U+007F.\n",
            " |      Empty string is ASCII too.\n",
            " |  \n",
            " |  isdecimal(self, /)\n",
            " |      Return True if the string is a decimal string, False otherwise.\n",
            " |      \n",
            " |      A string is a decimal string if all characters in the string are decimal and\n",
            " |      there is at least one character in the string.\n",
            " |  \n",
            " |  isdigit(self, /)\n",
            " |      Return True if the string is a digit string, False otherwise.\n",
            " |      \n",
            " |      A string is a digit string if all characters in the string are digits and there\n",
            " |      is at least one character in the string.\n",
            " |  \n",
            " |  isidentifier(self, /)\n",
            " |      Return True if the string is a valid Python identifier, False otherwise.\n",
            " |      \n",
            " |      Call keyword.iskeyword(s) to test whether string s is a reserved identifier,\n",
            " |      such as \"def\" or \"class\".\n",
            " |  \n",
            " |  islower(self, /)\n",
            " |      Return True if the string is a lowercase string, False otherwise.\n",
            " |      \n",
            " |      A string is lowercase if all cased characters in the string are lowercase and\n",
            " |      there is at least one cased character in the string.\n",
            " |  \n",
            " |  isnumeric(self, /)\n",
            " |      Return True if the string is a numeric string, False otherwise.\n",
            " |      \n",
            " |      A string is numeric if all characters in the string are numeric and there is at\n",
            " |      least one character in the string.\n",
            " |  \n",
            " |  isprintable(self, /)\n",
            " |      Return True if the string is printable, False otherwise.\n",
            " |      \n",
            " |      A string is printable if all of its characters are considered printable in\n",
            " |      repr() or if it is empty.\n",
            " |  \n",
            " |  isspace(self, /)\n",
            " |      Return True if the string is a whitespace string, False otherwise.\n",
            " |      \n",
            " |      A string is whitespace if all characters in the string are whitespace and there\n",
            " |      is at least one character in the string.\n",
            " |  \n",
            " |  istitle(self, /)\n",
            " |      Return True if the string is a title-cased string, False otherwise.\n",
            " |      \n",
            " |      In a title-cased string, upper- and title-case characters may only\n",
            " |      follow uncased characters and lowercase characters only cased ones.\n",
            " |  \n",
            " |  isupper(self, /)\n",
            " |      Return True if the string is an uppercase string, False otherwise.\n",
            " |      \n",
            " |      A string is uppercase if all cased characters in the string are uppercase and\n",
            " |      there is at least one cased character in the string.\n",
            " |  \n",
            " |  join(self, iterable, /)\n",
            " |      Concatenate any number of strings.\n",
            " |      \n",
            " |      The string whose method is called is inserted in between each given string.\n",
            " |      The result is returned as a new string.\n",
            " |      \n",
            " |      Example: '.'.join(['ab', 'pq', 'rs']) -> 'ab.pq.rs'\n",
            " |  \n",
            " |  ljust(self, width, fillchar=' ', /)\n",
            " |      Return a left-justified string of length width.\n",
            " |      \n",
            " |      Padding is done using the specified fill character (default is a space).\n",
            " |  \n",
            " |  lower(self, /)\n",
            " |      Return a copy of the string converted to lowercase.\n",
            " |  \n",
            " |  lstrip(self, chars=None, /)\n",
            " |      Return a copy of the string with leading whitespace removed.\n",
            " |      \n",
            " |      If chars is given and not None, remove characters in chars instead.\n",
            " |  \n",
            " |  partition(self, sep, /)\n",
            " |      Partition the string into three parts using the given separator.\n",
            " |      \n",
            " |      This will search for the separator in the string.  If the separator is found,\n",
            " |      returns a 3-tuple containing the part before the separator, the separator\n",
            " |      itself, and the part after it.\n",
            " |      \n",
            " |      If the separator is not found, returns a 3-tuple containing the original string\n",
            " |      and two empty strings.\n",
            " |  \n",
            " |  removeprefix(self, prefix, /)\n",
            " |      Return a str with the given prefix string removed if present.\n",
            " |      \n",
            " |      If the string starts with the prefix string, return string[len(prefix):].\n",
            " |      Otherwise, return a copy of the original string.\n",
            " |  \n",
            " |  removesuffix(self, suffix, /)\n",
            " |      Return a str with the given suffix string removed if present.\n",
            " |      \n",
            " |      If the string ends with the suffix string and that suffix is not empty,\n",
            " |      return string[:-len(suffix)]. Otherwise, return a copy of the original\n",
            " |      string.\n",
            " |  \n",
            " |  replace(self, old, new, count=-1, /)\n",
            " |      Return a copy with all occurrences of substring old replaced by new.\n",
            " |      \n",
            " |        count\n",
            " |          Maximum number of occurrences to replace.\n",
            " |          -1 (the default value) means replace all occurrences.\n",
            " |      \n",
            " |      If the optional argument count is given, only the first count occurrences are\n",
            " |      replaced.\n",
            " |  \n",
            " |  rfind(...)\n",
            " |      S.rfind(sub[, start[, end]]) -> int\n",
            " |      \n",
            " |      Return the highest index in S where substring sub is found,\n",
            " |      such that sub is contained within S[start:end].  Optional\n",
            " |      arguments start and end are interpreted as in slice notation.\n",
            " |      \n",
            " |      Return -1 on failure.\n",
            " |  \n",
            " |  rindex(...)\n",
            " |      S.rindex(sub[, start[, end]]) -> int\n",
            " |      \n",
            " |      Return the highest index in S where substring sub is found,\n",
            " |      such that sub is contained within S[start:end].  Optional\n",
            " |      arguments start and end are interpreted as in slice notation.\n",
            " |      \n",
            " |      Raises ValueError when the substring is not found.\n",
            " |  \n",
            " |  rjust(self, width, fillchar=' ', /)\n",
            " |      Return a right-justified string of length width.\n",
            " |      \n",
            " |      Padding is done using the specified fill character (default is a space).\n",
            " |  \n",
            " |  rpartition(self, sep, /)\n",
            " |      Partition the string into three parts using the given separator.\n",
            " |      \n",
            " |      This will search for the separator in the string, starting at the end. If\n",
            " |      the separator is found, returns a 3-tuple containing the part before the\n",
            " |      separator, the separator itself, and the part after it.\n",
            " |      \n",
            " |      If the separator is not found, returns a 3-tuple containing two empty strings\n",
            " |      and the original string.\n",
            " |  \n",
            " |  rsplit(self, /, sep=None, maxsplit=-1)\n",
            " |      Return a list of the substrings in the string, using sep as the separator string.\n",
            " |      \n",
            " |        sep\n",
            " |          The separator used to split the string.\n",
            " |      \n",
            " |          When set to None (the default value), will split on any whitespace\n",
            " |          character (including \\n \\r \\t \\f and spaces) and will discard\n",
            " |          empty strings from the result.\n",
            " |        maxsplit\n",
            " |          Maximum number of splits.\n",
            " |          -1 (the default value) means no limit.\n",
            " |      \n",
            " |      Splitting starts at the end of the string and works to the front.\n",
            " |  \n",
            " |  rstrip(self, chars=None, /)\n",
            " |      Return a copy of the string with trailing whitespace removed.\n",
            " |      \n",
            " |      If chars is given and not None, remove characters in chars instead.\n",
            " |  \n",
            " |  split(self, /, sep=None, maxsplit=-1)\n",
            " |      Return a list of the substrings in the string, using sep as the separator string.\n",
            " |      \n",
            " |        sep\n",
            " |          The separator used to split the string.\n",
            " |      \n",
            " |          When set to None (the default value), will split on any whitespace\n",
            " |          character (including \\n \\r \\t \\f and spaces) and will discard\n",
            " |          empty strings from the result.\n",
            " |        maxsplit\n",
            " |          Maximum number of splits.\n",
            " |          -1 (the default value) means no limit.\n",
            " |      \n",
            " |      Splitting starts at the front of the string and works to the end.\n",
            " |      \n",
            " |      Note, str.split() is mainly useful for data that has been intentionally\n",
            " |      delimited.  With natural text that includes punctuation, consider using\n",
            " |      the regular expression module.\n",
            " |  \n",
            " |  splitlines(self, /, keepends=False)\n",
            " |      Return a list of the lines in the string, breaking at line boundaries.\n",
            " |      \n",
            " |      Line breaks are not included in the resulting list unless keepends is given and\n",
            " |      true.\n",
            " |  \n",
            " |  startswith(...)\n",
            " |      S.startswith(prefix[, start[, end]]) -> bool\n",
            " |      \n",
            " |      Return True if S starts with the specified prefix, False otherwise.\n",
            " |      With optional start, test S beginning at that position.\n",
            " |      With optional end, stop comparing S at that position.\n",
            " |      prefix can also be a tuple of strings to try.\n",
            " |  \n",
            " |  strip(self, chars=None, /)\n",
            " |      Return a copy of the string with leading and trailing whitespace removed.\n",
            " |      \n",
            " |      If chars is given and not None, remove characters in chars instead.\n",
            " |  \n",
            " |  swapcase(self, /)\n",
            " |      Convert uppercase characters to lowercase and lowercase characters to uppercase.\n",
            " |  \n",
            " |  title(self, /)\n",
            " |      Return a version of the string where each word is titlecased.\n",
            " |      \n",
            " |      More specifically, words start with uppercased characters and all remaining\n",
            " |      cased characters have lower case.\n",
            " |  \n",
            " |  translate(self, table, /)\n",
            " |      Replace each character in the string using the given translation table.\n",
            " |      \n",
            " |        table\n",
            " |          Translation table, which must be a mapping of Unicode ordinals to\n",
            " |          Unicode ordinals, strings, or None.\n",
            " |      \n",
            " |      The table must implement lookup/indexing via __getitem__, for instance a\n",
            " |      dictionary or list.  If this operation raises LookupError, the character is\n",
            " |      left untouched.  Characters mapped to None are deleted.\n",
            " |  \n",
            " |  upper(self, /)\n",
            " |      Return a copy of the string converted to uppercase.\n",
            " |  \n",
            " |  zfill(self, width, /)\n",
            " |      Pad a numeric string with zeros on the left, to fill a field of the given width.\n",
            " |      \n",
            " |      The string is never truncated.\n",
            " |  \n",
            " |  ----------------------------------------------------------------------\n",
            " |  Static methods defined here:\n",
            " |  \n",
            " |  __new__(*args, **kwargs)\n",
            " |      Create and return a new object.  See help(type) for accurate signature.\n",
            " |  \n",
            " |  maketrans(...)\n",
            " |      Return a translation table usable for str.translate().\n",
            " |      \n",
            " |      If there is only one argument, it must be a dictionary mapping Unicode\n",
            " |      ordinals (integers) or characters to Unicode ordinals, strings or None.\n",
            " |      Character keys will be then converted to ordinals.\n",
            " |      If there are two arguments, they must be strings of equal length, and\n",
            " |      in the resulting dictionary, each character in x will be mapped to the\n",
            " |      character at the same position in y. If there is a third argument, it\n",
            " |      must be a string, whose characters will be mapped to None in the result.\n",
            "\n"
          ]
        }
      ]
    },
    {
      "cell_type": "code",
      "source": [
        "msg=\"good mrng\"\n",
        "msg.lower()"
      ],
      "metadata": {
        "colab": {
          "base_uri": "https://localhost:8080/",
          "height": 36
        },
        "id": "g0cJrhi2XKtN",
        "outputId": "fa49fff8-6b03-4356-b780-790e3760a1a4"
      },
      "execution_count": null,
      "outputs": [
        {
          "output_type": "execute_result",
          "data": {
            "text/plain": [
              "'good mrng'"
            ],
            "application/vnd.google.colaboratory.intrinsic+json": {
              "type": "string"
            }
          },
          "metadata": {},
          "execution_count": 28
        }
      ]
    },
    {
      "cell_type": "code",
      "source": [
        "dir(msg)"
      ],
      "metadata": {
        "colab": {
          "base_uri": "https://localhost:8080/"
        },
        "collapsed": true,
        "id": "N8yWtHfFXdbZ",
        "outputId": "27f5ef6b-e2fa-4c86-c2a5-9576e5b11fd6"
      },
      "execution_count": null,
      "outputs": [
        {
          "output_type": "execute_result",
          "data": {
            "text/plain": [
              "['__add__',\n",
              " '__class__',\n",
              " '__contains__',\n",
              " '__delattr__',\n",
              " '__dir__',\n",
              " '__doc__',\n",
              " '__eq__',\n",
              " '__format__',\n",
              " '__ge__',\n",
              " '__getattribute__',\n",
              " '__getitem__',\n",
              " '__getnewargs__',\n",
              " '__getstate__',\n",
              " '__gt__',\n",
              " '__hash__',\n",
              " '__init__',\n",
              " '__init_subclass__',\n",
              " '__iter__',\n",
              " '__le__',\n",
              " '__len__',\n",
              " '__lt__',\n",
              " '__mod__',\n",
              " '__mul__',\n",
              " '__ne__',\n",
              " '__new__',\n",
              " '__reduce__',\n",
              " '__reduce_ex__',\n",
              " '__repr__',\n",
              " '__rmod__',\n",
              " '__rmul__',\n",
              " '__setattr__',\n",
              " '__sizeof__',\n",
              " '__str__',\n",
              " '__subclasshook__',\n",
              " 'capitalize',\n",
              " 'casefold',\n",
              " 'center',\n",
              " 'count',\n",
              " 'encode',\n",
              " 'endswith',\n",
              " 'expandtabs',\n",
              " 'find',\n",
              " 'format',\n",
              " 'format_map',\n",
              " 'index',\n",
              " 'isalnum',\n",
              " 'isalpha',\n",
              " 'isascii',\n",
              " 'isdecimal',\n",
              " 'isdigit',\n",
              " 'isidentifier',\n",
              " 'islower',\n",
              " 'isnumeric',\n",
              " 'isprintable',\n",
              " 'isspace',\n",
              " 'istitle',\n",
              " 'isupper',\n",
              " 'join',\n",
              " 'ljust',\n",
              " 'lower',\n",
              " 'lstrip',\n",
              " 'maketrans',\n",
              " 'partition',\n",
              " 'removeprefix',\n",
              " 'removesuffix',\n",
              " 'replace',\n",
              " 'rfind',\n",
              " 'rindex',\n",
              " 'rjust',\n",
              " 'rpartition',\n",
              " 'rsplit',\n",
              " 'rstrip',\n",
              " 'split',\n",
              " 'splitlines',\n",
              " 'startswith',\n",
              " 'strip',\n",
              " 'swapcase',\n",
              " 'title',\n",
              " 'translate',\n",
              " 'upper',\n",
              " 'zfill']"
            ]
          },
          "metadata": {},
          "execution_count": 29
        }
      ]
    },
    {
      "cell_type": "code",
      "source": [
        "def greet():\n",
        "  pass\n",
        "greet()"
      ],
      "metadata": {
        "id": "MCzvSHsvX5LU"
      },
      "execution_count": null,
      "outputs": []
    },
    {
      "cell_type": "markdown",
      "source": [
        "design a class of type calculator which has two attributes and do arithemetic operations(addition,subtraction,multiplication,division)\n",
        "\n"
      ],
      "metadata": {
        "id": "9mI5axGeYS42"
      }
    },
    {
      "cell_type": "code",
      "source": [
        "class Calculator:\n",
        "  def __init__(self, num1, num2):\n",
        "    self.num1 = num1\n",
        "    self.num2 = num2\n",
        "\n",
        "  def add(self):\n",
        "    return self.num1 + self.num2\n",
        "\n",
        "  def subtract(self):\n",
        "    return self.num1 - self.num2\n",
        "\n",
        "  def multiply(self):\n",
        "    return self.num1 * self.num2\n",
        "\n",
        "  def divide(self):\n",
        "      return self.num1 / self.num2\n",
        "\n"
      ],
      "metadata": {
        "id": "gLf2mknlYiip"
      },
      "execution_count": null,
      "outputs": []
    },
    {
      "cell_type": "code",
      "source": [
        "my_add=Calculator(2,3)"
      ],
      "metadata": {
        "id": "kugVl3_zZUf_"
      },
      "execution_count": null,
      "outputs": []
    },
    {
      "cell_type": "code",
      "source": [
        "my_add.add()"
      ],
      "metadata": {
        "colab": {
          "base_uri": "https://localhost:8080/"
        },
        "id": "s5623JSqZi7t",
        "outputId": "84dca546-5571-4ec6-c6a8-d363302af292"
      },
      "execution_count": null,
      "outputs": [
        {
          "output_type": "execute_result",
          "data": {
            "text/plain": [
              "5"
            ]
          },
          "metadata": {},
          "execution_count": 36
        }
      ]
    },
    {
      "cell_type": "code",
      "source": [
        "my_sub=Calculator(10,5)\n",
        "my_sub.subtract()"
      ],
      "metadata": {
        "colab": {
          "base_uri": "https://localhost:8080/"
        },
        "id": "uNDtw6xAZoEX",
        "outputId": "ff196bf2-1caa-489e-8f8b-83e18f18b79b"
      },
      "execution_count": null,
      "outputs": [
        {
          "output_type": "execute_result",
          "data": {
            "text/plain": [
              "5"
            ]
          },
          "metadata": {},
          "execution_count": 38
        }
      ]
    },
    {
      "cell_type": "code",
      "source": [
        "my_mul=Calculator(10,5)\n",
        "my_mul.multiply()"
      ],
      "metadata": {
        "colab": {
          "base_uri": "https://localhost:8080/"
        },
        "id": "l73XHYgyZ0mD",
        "outputId": "3031567a-1e27-4513-f2fc-24f87108024f"
      },
      "execution_count": null,
      "outputs": [
        {
          "output_type": "execute_result",
          "data": {
            "text/plain": [
              "50"
            ]
          },
          "metadata": {},
          "execution_count": 39
        }
      ]
    },
    {
      "cell_type": "code",
      "source": [
        "my_div=Calculator(10,5)\n",
        "my_div.divide()"
      ],
      "metadata": {
        "colab": {
          "base_uri": "https://localhost:8080/"
        },
        "id": "iYK-j_npZ5_3",
        "outputId": "889e1658-cb08-4975-a7b8-b03426b17e88"
      },
      "execution_count": null,
      "outputs": [
        {
          "output_type": "execute_result",
          "data": {
            "text/plain": [
              "2.0"
            ]
          },
          "metadata": {},
          "execution_count": 41
        }
      ]
    },
    {
      "cell_type": "markdown",
      "source": [
        "2 line spacing required between function\n",
        "spacing between operators"
      ],
      "metadata": {
        "id": "_O2gdB_vbRTs"
      }
    },
    {
      "cell_type": "markdown",
      "source": [
        "# **Mean**"
      ],
      "metadata": {
        "id": "YADkAq5XAVfm"
      }
    },
    {
      "cell_type": "code",
      "source": [
        "num = [6,3,8,9,4,2]\n",
        "sum_num = sum(num)\n",
        "len_num = len(num)\n",
        "result = sum_num/len_num\n",
        "print(\"The mean is\", result)"
      ],
      "metadata": {
        "colab": {
          "base_uri": "https://localhost:8080/"
        },
        "id": "W6rT65esAZmo",
        "outputId": "9144c11d-f5c1-4caf-fb63-5b4c634675c1"
      },
      "execution_count": null,
      "outputs": [
        {
          "output_type": "stream",
          "name": "stdout",
          "text": [
            "The mean is 5.333333333333333\n"
          ]
        }
      ]
    },
    {
      "cell_type": "markdown",
      "source": [
        "# **Median**"
      ],
      "metadata": {
        "id": "-aDac0taBqp_"
      }
    },
    {
      "cell_type": "code",
      "source": [
        "my_list1 = [5,4,3,2,1]\n",
        "sorted_list = sorted(my_list1)\n",
        "N=len(my_list1)\n",
        "if N%2!=0:\n",
        "    median = sorted_list[int((N+1)/2) - 1] # Corrected index for odd length\n",
        "    print(\"Median =\",median)\n",
        "else:\n",
        "    n = sorted_list[int((N/2)-1)]\n",
        "    m = sorted_list[int((N/2))] # Corrected index for even length\n",
        "    median = (n+m)/2\n",
        "    print(\"Median =\",median)"
      ],
      "metadata": {
        "colab": {
          "base_uri": "https://localhost:8080/"
        },
        "id": "Snfh5LRyB9ah",
        "outputId": "fba95478-32b8-4c73-c29d-d8d59df44bb2"
      },
      "execution_count": null,
      "outputs": [
        {
          "output_type": "stream",
          "name": "stdout",
          "text": [
            "Median = 3\n"
          ]
        }
      ]
    },
    {
      "cell_type": "markdown",
      "source": [
        "# **Percentile**"
      ],
      "metadata": {
        "id": "8E3lIK4GIjsm"
      }
    },
    {
      "cell_type": "markdown",
      "source": [
        "# In the case of odd"
      ],
      "metadata": {
        "id": "eWQJgdYiLegw"
      }
    },
    {
      "cell_type": "code",
      "source": [
        "my_list1 = [5,4,3,2,1]\n",
        "sorted_list = sorted(my_list1)\n",
        "N=len(my_list1)\n",
        "p = (50/100) * (N+1)\n",
        "print(\"percentile\",sorted_list[int(p-1)]) # Use square brackets for indexing"
      ],
      "metadata": {
        "colab": {
          "base_uri": "https://localhost:8080/"
        },
        "id": "YXk53hj6Iuqp",
        "outputId": "e5164b2f-7c66-41f6-e617-32a28fdb9d24"
      },
      "execution_count": null,
      "outputs": [
        {
          "output_type": "stream",
          "name": "stdout",
          "text": [
            "percentile 3\n"
          ]
        }
      ]
    },
    {
      "cell_type": "markdown",
      "source": [
        "# In the case of even"
      ],
      "metadata": {
        "id": "tiPfoNK4Lii4"
      }
    },
    {
      "cell_type": "code",
      "source": [
        "my_list1 = [1,2,3,4,5,6,7,8,9,10]\n",
        "sorted_list = sorted(my_list1)\n",
        "N=len(my_list1)\n",
        "p = (50/100) * (N+1)\n",
        "lower_index = int(p)-1 #4\n",
        "upper_index = lower_index+1 #5\n",
        "fraction_num = p-int(p)\n",
        "lower_value = sorted_list[lower_index]\n",
        "higher_value = sorted_list[upper_index]\n",
        "result = lower_value + fraction_num * (higher_value - lower_value)\n",
        "print(result)"
      ],
      "metadata": {
        "colab": {
          "base_uri": "https://localhost:8080/"
        },
        "id": "BeoJmRXcOj_k",
        "outputId": "745cc27b-2f96-470c-e013-c8a48cc3a31b"
      },
      "execution_count": null,
      "outputs": [
        {
          "output_type": "stream",
          "name": "stdout",
          "text": [
            "5.5\n"
          ]
        }
      ]
    },
    {
      "cell_type": "markdown",
      "source": [
        "# OUTLIER CONCEPT\n",
        "result = lower_value + fraction_num * (higher_value - lower_value)\n",
        "\n",
        "is used in outlier detection, especially when defining thresholds for identifying outliers using percentiles or the Interquartile Range (IQR) method.\n",
        "Great question! In **data science**, the formula\n",
        "\n",
        "```python\n",
        "result = lower_value + fraction_num * (higher_value - lower_value)\n",
        "```\n",
        "\n",
        "is used in **outlier detection**, especially when defining **thresholds** for identifying outliers using **percentiles** or the **Interquartile Range (IQR)** method.\n",
        "\n",
        "---\n",
        "\n",
        "### 📌 Context: Outlier Detection Using IQR\n",
        "\n",
        "Outliers are values that fall **significantly outside the typical range** of a dataset. A common method to find them is:\n",
        "\n",
        "#### Steps:\n",
        "\n",
        "1. Sort the data.\n",
        "2. Calculate **Q1** (25th percentile) and **Q3** (75th percentile).\n",
        "3. Compute **IQR = Q3 - Q1**\n",
        "4. Define outlier bounds:\n",
        "\n",
        "   * **Lower bound** = Q1 − 1.5 × IQR\n",
        "   * **Upper bound** = Q3 + 1.5 × IQR\n",
        "\n",
        "### 👇 Where the Formula Comes In\n",
        "\n",
        "To calculate percentiles like Q1 and Q3, you **interpolate** between values using this formula:\n",
        "\n",
        "```python\n",
        "result = lower_value + fraction * (higher_value - lower_value)\n",
        "```\n",
        "\n",
        "when the percentile position is not an integer.\n",
        "\n",
        "---\n",
        "\n",
        "### 🧮 Example:\n",
        "\n",
        "Suppose your sorted data is:\n",
        "\n",
        "```\n",
        "[1, 2, 3, 4, 5, 6, 7, 8, 9, 10]\n",
        "```\n",
        "\n",
        "There are 10 values.\n",
        "To calculate the 25th percentile (Q1):\n",
        "\n",
        "```python\n",
        "position = (25/100) * (10 + 1) = 2.75\n",
        "```\n",
        "\n",
        "Here:\n",
        "\n",
        "* `lower_value` = 2nd value = 2\n",
        "* `higher_value` = 3rd value = 3\n",
        "* `fraction` = 0.75\n",
        "\n",
        "Apply the formula:\n",
        "\n",
        "```python\n",
        "Q1 = 2 + 0.75 * (3 - 2) = 2.75\n",
        "```\n",
        "\n",
        "You repeat similarly for Q3. Then calculate the bounds to detect **outliers**.\n",
        "\n",
        "In outlier detection using **percentiles or IQR**, this formula helps you:\n",
        "\n",
        "* **Precisely compute percentile values** (especially when the index is not a whole number)\n",
        "* **Set thresholds** to identify values that are too far from the normal range\n",
        "\n",
        "Let me know if you want a Python example or visual explanation!\n"
      ],
      "metadata": {
        "id": "yAxWDwX-R8b_"
      }
    },
    {
      "cell_type": "markdown",
      "source": [
        "# Mean"
      ],
      "metadata": {
        "id": "u3PkL7m2adpE"
      }
    },
    {
      "cell_type": "code",
      "source": [
        "num = [7,11,23,42,-3,-21,26,30]\n",
        "sum_num = sum(num)\n",
        "len_num = len(num)\n",
        "result = sum_num/len_num\n",
        "print(\"The mean is\", result)\n"
      ],
      "metadata": {
        "colab": {
          "base_uri": "https://localhost:8080/"
        },
        "id": "st85DebIZb3G",
        "outputId": "ce5f3391-362f-433a-bd3d-23c751ac3cdd"
      },
      "execution_count": null,
      "outputs": [
        {
          "output_type": "stream",
          "name": "stdout",
          "text": [
            "The mean is 14.375\n"
          ]
        }
      ]
    },
    {
      "cell_type": "markdown",
      "source": [
        "# Median"
      ],
      "metadata": {
        "id": "CNg7axJHafxs"
      }
    },
    {
      "cell_type": "code",
      "source": [
        "my_list1 = [7,11,23,42,-3,-21,26,30]\n",
        "sorted_list = sorted(my_list1)\n",
        "N=len(my_list1)\n",
        "if N%2!=0:\n",
        "    median = sorted_list[int((N+1)/2) - 1] # Corrected index for odd length\n",
        "    print(\"Median =\",median)\n",
        "else:\n",
        "    n = sorted_list[int((N/2)-1)]\n",
        "    m = sorted_list[int((N/2))] # Corrected index for even length\n",
        "    median = (n+m)/2\n",
        "    print(\"Median =\",median)"
      ],
      "metadata": {
        "colab": {
          "base_uri": "https://localhost:8080/"
        },
        "id": "AE66i2EaahlO",
        "outputId": "ba5aea50-58b0-4653-b2ed-bf94636d273e"
      },
      "execution_count": null,
      "outputs": [
        {
          "output_type": "stream",
          "name": "stdout",
          "text": [
            "Median = 17.0\n"
          ]
        }
      ]
    },
    {
      "cell_type": "markdown",
      "source": [
        "# Quartiles"
      ],
      "metadata": {
        "id": "cJ9AgcMObRry"
      }
    },
    {
      "cell_type": "code",
      "source": [
        "my_list1 = [7,11,23,42,-3,-21,26,30]\n",
        "sorted_list = sorted(my_list1)\n",
        "N=len(my_list1)\n",
        "p = (25/100) * (N+1)\n",
        "lower_index = int(p)-1 #4\n",
        "upper_index = lower_index+1 #5\n",
        "fraction_num = p-int(p)\n",
        "lower_value = sorted_list[lower_index]\n",
        "higher_value = sorted_list[upper_index]\n",
        "q1 = lower_value + fraction_num * (higher_value - lower_value)\n",
        "print(q1)\n"
      ],
      "metadata": {
        "colab": {
          "base_uri": "https://localhost:8080/"
        },
        "id": "9WZaCnotbUJM",
        "outputId": "73927c03-9386-41de-e0c3-b5f7ca9938a9"
      },
      "execution_count": null,
      "outputs": [
        {
          "output_type": "stream",
          "name": "stdout",
          "text": [
            "-0.5\n"
          ]
        }
      ]
    },
    {
      "cell_type": "code",
      "source": [
        "my_list1 = [7,11,23,42,-3,-21,26,30]\n",
        "sorted_list = sorted(my_list1)\n",
        "N=len(my_list1)\n",
        "p = (50/100) * (N+1)\n",
        "lower_index = int(p)-1 #4\n",
        "upper_index = lower_index+1 #5\n",
        "fraction_num = p-int(p)\n",
        "lower_value = sorted_list[lower_index]\n",
        "higher_value = sorted_list[upper_index]\n",
        "q2 = lower_value + fraction_num * (higher_value - lower_value)\n",
        "print(q2)"
      ],
      "metadata": {
        "colab": {
          "base_uri": "https://localhost:8080/"
        },
        "id": "cyW6eWKAbrA7",
        "outputId": "aba8a0a7-53e5-4f38-e1a8-df9b50248c89"
      },
      "execution_count": null,
      "outputs": [
        {
          "output_type": "stream",
          "name": "stdout",
          "text": [
            "17.0\n"
          ]
        }
      ]
    },
    {
      "cell_type": "code",
      "source": [
        "my_list1 = [7,11,23,42,-3,-21,26,30]\n",
        "sorted_list = sorted(my_list1)\n",
        "N=len(my_list1)\n",
        "p = (75/100) * (N+1)\n",
        "lower_index = int(p)-1 #4\n",
        "upper_index = lower_index+1 #5\n",
        "fraction_num = p-int(p)\n",
        "lower_value = sorted_list[lower_index]\n",
        "higher_value = sorted_list[upper_index]\n",
        "q3 = lower_value + fraction_num * (higher_value - lower_value)\n",
        "print(q3)"
      ],
      "metadata": {
        "colab": {
          "base_uri": "https://localhost:8080/"
        },
        "id": "4FIUp3XEbuvx",
        "outputId": "b4795f79-ca19-40ff-ca70-2a158cf2cbc3"
      },
      "execution_count": null,
      "outputs": [
        {
          "output_type": "stream",
          "name": "stdout",
          "text": [
            "29.0\n"
          ]
        }
      ]
    },
    {
      "cell_type": "code",
      "source": [
        "iqr = q3-q1\n",
        "print(iqr)"
      ],
      "metadata": {
        "colab": {
          "base_uri": "https://localhost:8080/"
        },
        "id": "8ybtocJZb-XQ",
        "outputId": "cf08c373-a1a0-4cc1-ad6d-9b79b5f1c7d1"
      },
      "execution_count": null,
      "outputs": [
        {
          "output_type": "stream",
          "name": "stdout",
          "text": [
            "29.5\n"
          ]
        }
      ]
    },
    {
      "cell_type": "markdown",
      "source": [
        "Lower Bound"
      ],
      "metadata": {
        "id": "rQPZ9-fRcUmI"
      }
    },
    {
      "cell_type": "code",
      "source": [
        "lower_bound = q1-1.5*iqr\n",
        "print(lower_bound)"
      ],
      "metadata": {
        "colab": {
          "base_uri": "https://localhost:8080/"
        },
        "id": "8R2lliGIcYvv",
        "outputId": "16c7cc29-0b24-4a63-f86a-7ca42ea29a81"
      },
      "execution_count": null,
      "outputs": [
        {
          "output_type": "stream",
          "name": "stdout",
          "text": [
            "-44.75\n"
          ]
        }
      ]
    },
    {
      "cell_type": "markdown",
      "source": [
        "Upper Bound"
      ],
      "metadata": {
        "id": "A1qudG_gcm3u"
      }
    },
    {
      "cell_type": "code",
      "source": [
        "upper_bound = q3+1.5*iqr\n",
        "print(upper_bound)"
      ],
      "metadata": {
        "colab": {
          "base_uri": "https://localhost:8080/"
        },
        "id": "BChiyMTgcoU3",
        "outputId": "39c1e5f9-c110-4b95-893a-8756435f324f"
      },
      "execution_count": null,
      "outputs": [
        {
          "output_type": "stream",
          "name": "stdout",
          "text": [
            "73.25\n"
          ]
        }
      ]
    },
    {
      "cell_type": "markdown",
      "source": [
        "Outliers : values lower than  LB or higher than LB\n"
      ],
      "metadata": {
        "id": "tF8irouNc0hR"
      }
    },
    {
      "cell_type": "code",
      "source": [],
      "metadata": {
        "id": "3xQC4iShc4Lc"
      },
      "execution_count": null,
      "outputs": []
    },
    {
      "cell_type": "markdown",
      "source": [
        "# **Variance**"
      ],
      "metadata": {
        "id": "i2NYjqaPk8cL"
      }
    },
    {
      "cell_type": "code",
      "source": [
        "import math\n",
        "data = [10,8,2,3,5,6]\n",
        "n = len(data)\n",
        "mean = sum(data)/n\n",
        "s=0\n",
        "for i in data:\n",
        "  s=s+(i-mean)**2\n",
        "variance=s/n\n",
        "std_dev=math.sqrt(variance)\n",
        "print(\"Variance =\",variance)\n",
        "print(\"Standard Deviation =\",std_dev)"
      ],
      "metadata": {
        "colab": {
          "base_uri": "https://localhost:8080/"
        },
        "id": "cof82PUjk_4Q",
        "outputId": "8334b37a-f104-4ae1-84a4-9bbeb501b89f"
      },
      "execution_count": null,
      "outputs": [
        {
          "output_type": "stream",
          "name": "stdout",
          "text": [
            "Variance = 7.555555555555556\n",
            "Standard Deviation = 2.748737083745107\n"
          ]
        }
      ]
    },
    {
      "cell_type": "markdown",
      "source": [
        "# **z score**"
      ],
      "metadata": {
        "id": "42kN3q2gsYXX"
      }
    },
    {
      "cell_type": "code",
      "source": [
        "import math\n",
        "data = [10,8,2,3,5,6]\n",
        "n = len(data)\n",
        "mean = sum(data)/n\n",
        "s=0\n",
        "for i in data:\n",
        "  s=s+(i-mean)**2\n",
        "variance=s/n\n",
        "std_dev=math.sqrt(variance)\n",
        "for i in data:\n",
        "  z_score = i-mean/std_dev\n",
        "  print(z_score)\n",
        "\n"
      ],
      "metadata": {
        "colab": {
          "base_uri": "https://localhost:8080/"
        },
        "id": "1iMMUoYHslZ3",
        "outputId": "f707c860-e853-4ce5-bea9-006296d75211"
      },
      "execution_count": null,
      "outputs": [
        {
          "output_type": "stream",
          "name": "stdout",
          "text": [
            "7.938447187191169\n",
            "5.938447187191169\n",
            "-0.06155281280883029\n",
            "0.9384471871911697\n",
            "2.9384471871911697\n",
            "3.9384471871911697\n"
          ]
        }
      ]
    },
    {
      "cell_type": "markdown",
      "source": [
        "# Magnitude\n",
        "Write code to compute magnitude of a 3 dimensional vector eg : given as list of numbers"
      ],
      "metadata": {
        "id": "YYGAkAd2tBqf"
      }
    },
    {
      "cell_type": "code",
      "source": [
        "\n",
        "import math\n",
        "my_vector = [1, 2, 3]\n",
        "def magn_list():\n",
        "  magnitude = math.sqrt(sum([x**2 for x in my_vector]))\n",
        "  return magnitude\n",
        "\n",
        "magn_list()"
      ],
      "metadata": {
        "colab": {
          "base_uri": "https://localhost:8080/"
        },
        "id": "xRw1-w-vuzyR",
        "outputId": "f724442e-e290-47e7-915f-d1ec8aacb2c7"
      },
      "execution_count": null,
      "outputs": [
        {
          "output_type": "execute_result",
          "data": {
            "text/plain": [
              "3.7416573867739413"
            ]
          },
          "metadata": {},
          "execution_count": 2
        }
      ]
    },
    {
      "cell_type": "code",
      "source": [
        "import math\n",
        "magn_list = [1,2,3]\n",
        "magnitude = math.sqrt(sum([x**2 for x in magn_list]))\n",
        "print(magnitude)"
      ],
      "metadata": {
        "colab": {
          "base_uri": "https://localhost:8080/"
        },
        "id": "05UbGSfKs-E-",
        "outputId": "b0af549c-bc10-4ffb-e333-824f5f0c798d"
      },
      "execution_count": null,
      "outputs": [
        {
          "output_type": "stream",
          "name": "stdout",
          "text": [
            "3.7416573867739413\n"
          ]
        }
      ]
    },
    {
      "cell_type": "code",
      "source": [
        "import math\n",
        "magn_list = [1,2,3]\n",
        "magnitude =math.sqrt(1**2+2**2+3**2)\n",
        "print(magnitude)"
      ],
      "metadata": {
        "id": "GD9L68asvPwm"
      },
      "execution_count": null,
      "outputs": []
    },
    {
      "cell_type": "markdown",
      "source": [
        "Write code to compute unit vector corresponding to [3,4,5]. Verify the magnitude of unit vector calculated is 1."
      ],
      "metadata": {
        "id": "S6qLAs2auZZL"
      }
    },
    {
      "cell_type": "code",
      "source": [
        "import math\n",
        "\n",
        "vector = [3, 4, 5]\n",
        "\n",
        "\n",
        "magnitude = math.sqrt(sum(x**2 for x in vector))\n",
        "\n",
        "\n",
        "a = vector[0] / magnitude\n",
        "b = vector[1] / magnitude\n",
        "c = vector[2] / magnitude\n",
        "\n",
        "\n",
        "unit_vector = [a, b, c]\n",
        "\n",
        "\n",
        "unit_magnitude = math.sqrt(sum(x**2 for x in unit_vector))\n",
        "\n",
        "\n",
        "print(\"Unit vector:\", unit_vector)\n",
        "print(\"Magnitude of unit vector:\", unit_magnitude)\n",
        "\n"
      ],
      "metadata": {
        "colab": {
          "base_uri": "https://localhost:8080/"
        },
        "id": "s_K64PbSuw09",
        "outputId": "f8b2b732-58e5-4aac-a94b-416f7d150d6d"
      },
      "execution_count": null,
      "outputs": [
        {
          "output_type": "stream",
          "name": "stdout",
          "text": [
            "Unit vector: [0.4242640687119285, 0.565685424949238, 0.7071067811865475]\n",
            "Magnitude of unit vector: 0.9999999999999999\n"
          ]
        }
      ]
    },
    {
      "cell_type": "code",
      "source": [
        "import math\n",
        "\n",
        "vector = [3, 4, 5]\n",
        "\n",
        "\n",
        "magnitude = math.sqrt(sum(x**2 for x in vector))\n",
        "\n",
        "\n",
        "a = vector[0] / magnitude\n",
        "b = vector[1] / magnitude\n",
        "c = vector[2] / magnitude\n",
        "\n",
        "\n",
        "unit_vector = [a, b, c]\n",
        "\n",
        "\n",
        "unit_magnitude = math.sqrt(sum(x**2 for x in unit_vector))\n",
        "\n",
        "\n",
        "print(\"Unit vector:\", unit_vector)\n",
        "print(\"Magnitude of unit vector:\", unit_magnitude)\n",
        "\n"
      ],
      "metadata": {
        "id": "pIyFSk7K30tW"
      },
      "execution_count": null,
      "outputs": []
    },
    {
      "cell_type": "markdown",
      "source": [
        "Write code to check whether two vectors are orthogonal to  each other"
      ],
      "metadata": {
        "id": "_chPfn_H2psp"
      }
    },
    {
      "cell_type": "code",
      "source": [
        "import math\n",
        "va = [1,2]\n",
        "vb = [4,5]\n",
        "dot_product =  va[0]*vb[0] + va[1]*vb[1]\n",
        "\n",
        "magnitude_a = math.sqrt(sum(x**2 for x in va))\n",
        "\n",
        "magnitude_b = math.sqrt(sum(x**2 for x in vb))\n",
        "\n",
        "cos_theta = dot_product / (magnitude_a * magnitude_b)\n",
        "if cos_theta == 0 :\n",
        "  print(\"vectors are orthogonal\")\n",
        "else:\n",
        "  print(\"vectors are not orthogonal\")\n",
        "\n",
        "print(\"cos(theta) =\", cos_theta)"
      ],
      "metadata": {
        "colab": {
          "base_uri": "https://localhost:8080/"
        },
        "id": "CD5QW-M03Odn",
        "outputId": "56c9cb25-5246-423e-ba77-7d6af82ec7c4"
      },
      "execution_count": null,
      "outputs": [
        {
          "output_type": "stream",
          "name": "stdout",
          "text": [
            "vectors are not orthogonal\n",
            "cos(theta) = 0.9778024140774094\n"
          ]
        }
      ]
    }
  ]
}