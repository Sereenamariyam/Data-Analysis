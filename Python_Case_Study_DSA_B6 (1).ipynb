{
  "cells": [
    {
      "cell_type": "markdown",
      "metadata": {
        "id": "zVV_KMSIUG-A"
      },
      "source": [
        "# Answer the following questions using only builtin Python datatypes and functions. Do not use Numpy or Scipy (i.e. No library imports allowed)"
      ]
    },
    {
      "cell_type": "markdown",
      "metadata": {
        "id": "uZnK7VgWV5SI"
      },
      "source": [
        "# Q1. Write a function that return the range (maximum and minimun) of a given list of numbers"
      ]
    },
    {
      "cell_type": "code",
      "execution_count": null,
      "metadata": {
        "id": "vuAbJQcOWAM7",
        "colab": {
          "base_uri": "https://localhost:8080/"
        },
        "outputId": "a100e9ee-cf21-447e-9ddc-a9caac1c53d0"
      },
      "outputs": [
        {
          "output_type": "execute_result",
          "data": {
            "text/plain": [
              "(7, 1)"
            ]
          },
          "metadata": {},
          "execution_count": 4
        }
      ],
      "source": [
        "def maxmin(mylist = [3,5,1,7,4,2]):\n",
        "  return max(mylist),min(mylist)\n",
        "  maxmin()\n",
        "\n"
      ]
    },
    {
      "cell_type": "markdown",
      "metadata": {
        "id": "Y5_v5a8_U1O-"
      },
      "source": [
        "## Q2. Write function that returns mean value of a list of numbers"
      ]
    },
    {
      "cell_type": "code",
      "execution_count": null,
      "metadata": {
        "id": "RajjEyacU7Sc",
        "colab": {
          "base_uri": "https://localhost:8080/"
        },
        "outputId": "aea4cc13-4a31-4de7-f404-993117125e6c"
      },
      "outputs": [
        {
          "output_type": "execute_result",
          "data": {
            "text/plain": [
              "3.6666666666666665"
            ]
          },
          "metadata": {},
          "execution_count": 3
        }
      ],
      "source": [
        "def mean_val(mylist = [3,5,1,7,4,2]):\n",
        "  return sum(mylist)/len(mylist)\n",
        "mean_val()"
      ]
    },
    {
      "cell_type": "markdown",
      "metadata": {
        "id": "OpeRxoEoVTIP"
      },
      "source": [
        "# Q3. Write a function that returns the median value of a list of numbers"
      ]
    },
    {
      "cell_type": "code",
      "execution_count": null,
      "metadata": {
        "id": "u1CUy0UOVaQi",
        "colab": {
          "base_uri": "https://localhost:8080/"
        },
        "outputId": "e678862e-7a7b-4b3a-85e4-98d46316a793"
      },
      "outputs": [
        {
          "output_type": "stream",
          "name": "stdout",
          "text": [
            "Median = 3\n"
          ]
        }
      ],
      "source": [
        "def median_val(my_list1 = [1,2,3,4,5]):\n",
        "  N=len(my_list1)\n",
        "  if N%2!=0:\n",
        "    median = my_list1[int((N+1)/2) - 1] # Corrected index for odd length\n",
        "    print(\"Median =\",median)\n",
        "  else:\n",
        "    n = my_list1[int((N/2)-1)]\n",
        "    m = my_list1[int((N/2))] # Corrected index for even length\n",
        "    median = (n+m)/2\n",
        "\n",
        "median_val()\n",
        "\n",
        "\n"
      ]
    },
    {
      "cell_type": "markdown",
      "metadata": {
        "id": "2EMOG7AZSqVn"
      },
      "source": [
        "## Q4. Write a function to return the mod of a list of numbers, if no mod exists, it should return None. If more than one mod exist, return the mod values as list"
      ]
    },
    {
      "cell_type": "code",
      "execution_count": null,
      "metadata": {
        "id": "qnMm2dhhSk3-",
        "colab": {
          "base_uri": "https://localhost:8080/"
        },
        "outputId": "5b7fe23c-a779-445a-aca7-68e2f6ed85f4"
      },
      "outputs": [
        {
          "output_type": "execute_result",
          "data": {
            "text/plain": [
              "[2, 3]"
            ]
          },
          "metadata": {},
          "execution_count": 26
        }
      ],
      "source": [
        "def mod_val(my_list = [1, 2, 2, 3, 3, 4, 5]):\n",
        "    max_count = 0\n",
        "    modes_list = []\n",
        "\n",
        "    for num in my_list:\n",
        "        count_mod = my_list.count(num)\n",
        "\n",
        "        if count_mod > max_count:\n",
        "            max_count = count_mod\n",
        "            modes_list = [num]  # FIXED this line\n",
        "        elif count_mod == max_count and num not in modes_list:\n",
        "            modes_list.append(num)\n",
        "\n",
        "    if max_count == 1:\n",
        "        return None\n",
        "    elif len(modes_list) == 1:\n",
        "        return modes_list[0]  # Only one mode\n",
        "    else:\n",
        "        return modes_list     # Multiple modes\n",
        "mod_val()\n",
        "\n",
        "\n",
        "\n",
        "\n",
        "\n"
      ]
    },
    {
      "cell_type": "markdown",
      "metadata": {
        "id": "LcqWwqtgTCiL"
      },
      "source": [
        "## Q5. Write function to compute a given percentile value (e.g. 90th percentile) of a list of numbers"
      ]
    },
    {
      "cell_type": "code",
      "execution_count": 60,
      "metadata": {
        "id": "Sn307h0TTb2b",
        "colab": {
          "base_uri": "https://localhost:8080/"
        },
        "outputId": "5ae3aa8f-cfa7-4dd3-ff34-e8b38be18074"
      },
      "outputs": [
        {
          "output_type": "stream",
          "name": "stdout",
          "text": [
            "Percentile: 3\n"
          ]
        }
      ],
      "source": [
        "def percentile_val(my_list1 = [5, 4, 3, 2, 1]):\n",
        "    sorted_list = sorted(my_list1)\n",
        "    N = len(my_list1)\n",
        "    p = (50 / 100) * (N + 1)\n",
        "\n",
        "    # Case 1: If p is a whole number\n",
        "    if p.is_integer():\n",
        "        index = int(p) - 1\n",
        "        print(\"Percentile:\", sorted_list[index])\n",
        "\n",
        "    # Case 2: If p is not a whole number → Interpolation\n",
        "    else:\n",
        "        lower_index = int(p) - 1\n",
        "        upper_index = lower_index + 1\n",
        "        fraction_num = p - int(p)\n",
        "\n",
        "        lower_value = sorted_list[lower_index]\n",
        "        higher_value = sorted_list[upper_index]\n",
        "\n",
        "        result = lower_value + fraction_num * (higher_value - lower_value)\n",
        "        print(\"Percentile:\", result)\n",
        "\n",
        "percentile_val()\n",
        "\n",
        "\n",
        "\n",
        "\n",
        "\n"
      ]
    },
    {
      "cell_type": "markdown",
      "metadata": {
        "id": "N-TYHkDcWOfS"
      },
      "source": [
        "# Q6. Write a function that returns the lower bound of a list of numbers"
      ]
    },
    {
      "cell_type": "code",
      "execution_count": 38,
      "metadata": {
        "id": "Y-RKPdKuW5nx",
        "colab": {
          "base_uri": "https://localhost:8080/"
        },
        "outputId": "a100fcf8-cfe3-47ee-d411-f734735a0816"
      },
      "outputs": [
        {
          "output_type": "stream",
          "name": "stdout",
          "text": [
            "Q1: -0.5\n",
            "Q3: 29.0\n",
            "IQR: 29.5\n",
            "Lower Bound: -44.75\n"
          ]
        }
      ],
      "source": [
        "my_list1 = [7, 11, 23, 42, -3, -21, 26, 30]\n",
        "sorted_list = sorted(my_list1)\n",
        "def calculate_percentile(sorted_list,percentile):\n",
        "    N = len(sorted_list)\n",
        "    p = (percentile / 100) * (N + 1)\n",
        "    lower_index = int(p) - 1\n",
        "    upper_index = lower_index + 1\n",
        "    fraction_num = p - int(p)\n",
        "\n",
        "    lower_value = sorted_list[lower_index]\n",
        "    higher_value = sorted_list[upper_index]\n",
        "\n",
        "    return lower_value + fraction_num * (higher_value - lower_value)\n",
        "\n",
        "# Calculate Q1 and Q3\n",
        "q1 = calculate_percentile(sorted_list, 25)\n",
        "q3 = calculate_percentile(sorted_list, 75)\n",
        "\n",
        "# Calculate IQR and Lower Bound\n",
        "iqr = q3 - q1\n",
        "lower_bound = q1 - 1.5 * iqr\n",
        "\n",
        "print(\"Q1:\", q1)\n",
        "print(\"Q3:\", q3)\n",
        "print(\"IQR:\", iqr)\n",
        "print(\"Lower Bound:\", lower_bound)\n"
      ]
    },
    {
      "cell_type": "markdown",
      "metadata": {
        "id": "5aHfaI_jThpX"
      },
      "source": [
        "## Q7. Write function to return any outliers from a given list of numbers, if no outliers present it should return None"
      ]
    },
    {
      "cell_type": "code",
      "execution_count": 42,
      "metadata": {
        "id": "gG6-qzT7T0Si",
        "colab": {
          "base_uri": "https://localhost:8080/"
        },
        "outputId": "f5b105d6-1fd1-4a67-b5bd-37a724d4e0bc"
      },
      "outputs": [
        {
          "output_type": "stream",
          "name": "stdout",
          "text": [
            "the lower bound is -44.75\n",
            "Outliers exist: [7, 11, 23, 42, -3, -21, 26, 30]\n"
          ]
        }
      ],
      "source": [
        "my_list1 = [7, 11, 23, 42, -3, -21, 26, 30]\n",
        "sorted_list = sorted(my_list1)\n",
        "\n",
        "def calculate_percentile(sorted_list, percentile):\n",
        "    N = len(sorted_list)\n",
        "    p = (percentile / 100) * (N + 1)\n",
        "    lower_index = int(p) - 1\n",
        "    upper_index = lower_index + 1\n",
        "    fraction_num = p - int(p)\n",
        "\n",
        "    lower_value = sorted_list[lower_index]\n",
        "    higher_value = sorted_list[upper_index]\n",
        "\n",
        "    return lower_value + fraction_num * (higher_value - lower_value)\n",
        "\n",
        "q1 = calculate_percentile(sorted_list, 25)\n",
        "q3 = calculate_percentile(sorted_list, 75)\n",
        "\n",
        "iqr = q3 - q1\n",
        "lower_bound = q1 - 1.5 * iqr\n",
        "print(\"the lower bound is\",lower_bound)\n",
        "outliers = []\n",
        "for i in my_list1:\n",
        "    if i < lower_bound or i > lower_bound:\n",
        "        outliers.append(i)\n",
        "\n",
        "if len(outliers) > 0:\n",
        "    print(\"Outliers exist:\", outliers)\n",
        "else:\n",
        "    print(\"No outliers\")\n"
      ]
    },
    {
      "cell_type": "markdown",
      "metadata": {
        "id": "jI9t-tcDT5EK"
      },
      "source": [
        "##Q8. Write a function to return standard deviation of a list of numbers"
      ]
    },
    {
      "cell_type": "code",
      "execution_count": 52,
      "metadata": {
        "id": "MMU_cMlLUFxJ",
        "colab": {
          "base_uri": "https://localhost:8080/"
        },
        "outputId": "7d04bb21-1832-4b6c-9959-51c901afaec4"
      },
      "outputs": [
        {
          "output_type": "stream",
          "name": "stdout",
          "text": [
            "Standard Deviation = 2.748737083745107\n"
          ]
        }
      ],
      "source": [
        "import math\n",
        "\n",
        "def standard_dev(my_list):\n",
        "    n = len(my_list)\n",
        "    mean = sum(my_list) / n\n",
        "    s = 0\n",
        "    for i in my_list:\n",
        "        s = s + (i - mean) ** 2\n",
        "    variance = s / n\n",
        "    std_dev = math.sqrt(variance)\n",
        "    return std_dev\n",
        "\n",
        "my_list = [10, 8, 2, 3, 5, 6]\n",
        "std = standard_dev(my_list)\n",
        "print(\"Standard Deviation =\", std)\n"
      ]
    },
    {
      "cell_type": "markdown",
      "metadata": {
        "id": "LufmQDJPURkM"
      },
      "source": [
        "## Q9. Write function to compute and return Z-score values of a list of numbers"
      ]
    },
    {
      "cell_type": "code",
      "execution_count": 51,
      "metadata": {
        "id": "ml2qpSpFUYxV",
        "colab": {
          "base_uri": "https://localhost:8080/"
        },
        "outputId": "0a26f356-c7f0-4a59-b228-83cd5cb159ad"
      },
      "outputs": [
        {
          "output_type": "execute_result",
          "data": {
            "text/plain": [
              "[1.5764815627361641,\n",
              " 0.8488746876271653,\n",
              " -1.3339459376998315,\n",
              " -0.970142500145332,\n",
              " -0.24253562503633308,\n",
              " 0.12126781251816637]"
            ]
          },
          "metadata": {},
          "execution_count": 51
        }
      ],
      "source": [
        "import math\n",
        "\n",
        "def compute_z_scores(data = [10, 8, 2, 3, 5, 6]):\n",
        "    n = len(data)\n",
        "    mean = sum(data) / n\n",
        "\n",
        "    s = 0\n",
        "    for i in data:\n",
        "        s += (i - mean) ** 2\n",
        "    variance = s / n\n",
        "    std_dev = math.sqrt(variance)\n",
        "\n",
        "    # Calc z-scores\n",
        "    z_scores = []\n",
        "    for i in data:\n",
        "        z = (i - mean) / std_dev\n",
        "        z_scores.append(z)\n",
        "\n",
        "    return z_scores\n",
        "compute_z_scores()\n"
      ]
    },
    {
      "cell_type": "markdown",
      "metadata": {
        "id": "YQSNHIfxUb6s"
      },
      "source": [
        "## Q10. Write a function to compute and return the Pearson correlation coefficient value of two list of numbers"
      ]
    },
    {
      "cell_type": "code",
      "execution_count": 59,
      "metadata": {
        "id": "1YGqr3T6Uk6H",
        "colab": {
          "base_uri": "https://localhost:8080/"
        },
        "outputId": "81acb658-f41a-4a78-a202-47d71c277bb7"
      },
      "outputs": [
        {
          "output_type": "stream",
          "name": "stdout",
          "text": [
            "Pearson Correlation Coefficient: 0.9722718241315028\n"
          ]
        }
      ],
      "source": [
        "import math\n",
        "\n",
        "def pearson_val(x, y):\n",
        "    if len(x) != len(y):\n",
        "        return \"Lists must be of same length\"\n",
        "\n",
        "    n = len(x)\n",
        "    meanval_x = sum(x) / n\n",
        "    meanval_y = sum(y) / n\n",
        "\n",
        "    numer_val = 0\n",
        "    sum_sqx = 0\n",
        "    sum_sqy = 0\n",
        "\n",
        "    for i in range(n):\n",
        "        diff_x = x[i] - meanval_x\n",
        "        diff_y = y[i] - meanval_y\n",
        "        numer_val += diff_x * diff_y\n",
        "        sum_sqx += diff_x ** 2\n",
        "        sum_sqy += diff_y ** 2\n",
        "\n",
        "    denom_val = math.sqrt(sum_sqx * sum_sqy)\n",
        "\n",
        "    if denom_val == 0:\n",
        "        return 0  # Avoid division by zero\n",
        "\n",
        "    r = numer_val / denom_val\n",
        "    return r\n",
        "x = [1, 2, 3, 4, 5]\n",
        "y = [2, 3, 5, 7, 11]\n",
        "\n",
        "correlation = pearson_val(x, y)\n",
        "print(\"Pearson Correlation Coefficient:\", correlation)\n"
      ]
    }
  ],
  "metadata": {
    "colab": {
      "provenance": []
    },
    "kernelspec": {
      "display_name": "Python 3",
      "name": "python3"
    },
    "language_info": {
      "name": "python"
    }
  },
  "nbformat": 4,
  "nbformat_minor": 0
}