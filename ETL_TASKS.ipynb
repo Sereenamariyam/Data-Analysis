{
  "nbformat": 4,
  "nbformat_minor": 0,
  "metadata": {
    "colab": {
      "provenance": [],
      "authorship_tag": "ABX9TyNjesjTgQgNvV4p5maIs9C1",
      "include_colab_link": true
    },
    "kernelspec": {
      "name": "python3",
      "display_name": "Python 3"
    },
    "language_info": {
      "name": "python"
    }
  },
  "cells": [
    {
      "cell_type": "markdown",
      "metadata": {
        "id": "view-in-github",
        "colab_type": "text"
      },
      "source": [
        "<a href=\"https://colab.research.google.com/github/Sereenamariyam/Data-Analysis/blob/main/ETL_TASKS.ipynb\" target=\"_parent\"><img src=\"https://colab.research.google.com/assets/colab-badge.svg\" alt=\"Open In Colab\"/></a>"
      ]
    },
    {
      "cell_type": "code",
      "source": [
        "import numpy as np\n",
        "import pandas as pd"
      ],
      "metadata": {
        "id": "e22Hp3UFr9F6"
      },
      "execution_count": 3,
      "outputs": []
    },
    {
      "cell_type": "code",
      "execution_count": 4,
      "metadata": {
        "id": "7c_x_gq8qK2-"
      },
      "outputs": [],
      "source": [
        "url = \"https://earthquake.usgs.gov/earthquakes/feed/v1.0/summary/all_month.csv\"\n",
        "\n",
        "# prompt: Load the dataset into a DataFrame\n",
        "\n",
        "df = pd.read_csv(url)"
      ]
    },
    {
      "cell_type": "code",
      "source": [
        "df.head()"
      ],
      "metadata": {
        "colab": {
          "base_uri": "https://localhost:8080/",
          "height": 446
        },
        "id": "NUxoyJRqsYUB",
        "outputId": "2adb5ce1-7cdb-42f8-8f02-effd00983078"
      },
      "execution_count": null,
      "outputs": [
        {
          "output_type": "execute_result",
          "data": {
            "text/plain": [
              "                       time   latitude   longitude  depth   mag magType   nst  \\\n",
              "0  2025-07-21T06:12:57.570Z  36.079167 -117.619000   1.59  1.07      ml  25.0   \n",
              "1  2025-07-21T06:08:16.330Z  35.948000 -117.666333   3.42  0.26      ml  13.0   \n",
              "2  2025-07-21T05:49:19.198Z  52.590200  160.871300  10.00  4.60      mb  94.0   \n",
              "3  2025-07-21T05:44:40.819Z  64.645900 -149.397100  19.70  2.20      ml   NaN   \n",
              "4  2025-07-21T05:43:42.750Z  18.258333  -66.338667  21.50  1.95      md   9.0   \n",
              "\n",
              "     gap     dmin   rms  ...                   updated  \\\n",
              "0   75.0  0.10740  0.15  ...  2025-07-21T06:16:26.499Z   \n",
              "1   67.0  0.01295  0.08  ...  2025-07-21T06:11:37.459Z   \n",
              "2  116.0  1.41700  0.65  ...  2025-07-21T06:34:56.040Z   \n",
              "3    NaN      NaN  0.77  ...  2025-07-21T05:46:56.248Z   \n",
              "4  123.0  0.06434  0.13  ...  2025-07-21T06:09:57.640Z   \n",
              "\n",
              "                                            place        type horizontalError  \\\n",
              "0                    30 km E of Coso Junction, CA  earthquake            0.20   \n",
              "1                      22 km E of Little Lake, CA  earthquake            0.17   \n",
              "2  160 km ESE of Petropavlovsk-Kamchatsky, Russia  earthquake            3.95   \n",
              "3             14 km WNW of Four Mile Road, Alaska  earthquake             NaN   \n",
              "4               6 km ENE of Orocovis, Puerto Rico  earthquake            0.46   \n",
              "\n",
              "  depthError  magError  magNst     status  locationSource magSource  \n",
              "0      0.300   0.21000    17.0  automatic              ci        ci  \n",
              "1      0.260   0.10000     7.0  automatic              ci        ci  \n",
              "2      1.877   0.04300   164.0   reviewed              us        us  \n",
              "3      0.400       NaN     NaN  automatic              ak        ak  \n",
              "4      0.880   0.04974     4.0   reviewed              pr        pr  \n",
              "\n",
              "[5 rows x 22 columns]"
            ],
            "text/html": [
              "\n",
              "  <div id=\"df-066d2a14-ddaa-43d9-8b23-3346dbaa7921\" class=\"colab-df-container\">\n",
              "    <div>\n",
              "<style scoped>\n",
              "    .dataframe tbody tr th:only-of-type {\n",
              "        vertical-align: middle;\n",
              "    }\n",
              "\n",
              "    .dataframe tbody tr th {\n",
              "        vertical-align: top;\n",
              "    }\n",
              "\n",
              "    .dataframe thead th {\n",
              "        text-align: right;\n",
              "    }\n",
              "</style>\n",
              "<table border=\"1\" class=\"dataframe\">\n",
              "  <thead>\n",
              "    <tr style=\"text-align: right;\">\n",
              "      <th></th>\n",
              "      <th>time</th>\n",
              "      <th>latitude</th>\n",
              "      <th>longitude</th>\n",
              "      <th>depth</th>\n",
              "      <th>mag</th>\n",
              "      <th>magType</th>\n",
              "      <th>nst</th>\n",
              "      <th>gap</th>\n",
              "      <th>dmin</th>\n",
              "      <th>rms</th>\n",
              "      <th>...</th>\n",
              "      <th>updated</th>\n",
              "      <th>place</th>\n",
              "      <th>type</th>\n",
              "      <th>horizontalError</th>\n",
              "      <th>depthError</th>\n",
              "      <th>magError</th>\n",
              "      <th>magNst</th>\n",
              "      <th>status</th>\n",
              "      <th>locationSource</th>\n",
              "      <th>magSource</th>\n",
              "    </tr>\n",
              "  </thead>\n",
              "  <tbody>\n",
              "    <tr>\n",
              "      <th>0</th>\n",
              "      <td>2025-07-21T06:12:57.570Z</td>\n",
              "      <td>36.079167</td>\n",
              "      <td>-117.619000</td>\n",
              "      <td>1.59</td>\n",
              "      <td>1.07</td>\n",
              "      <td>ml</td>\n",
              "      <td>25.0</td>\n",
              "      <td>75.0</td>\n",
              "      <td>0.10740</td>\n",
              "      <td>0.15</td>\n",
              "      <td>...</td>\n",
              "      <td>2025-07-21T06:16:26.499Z</td>\n",
              "      <td>30 km E of Coso Junction, CA</td>\n",
              "      <td>earthquake</td>\n",
              "      <td>0.20</td>\n",
              "      <td>0.300</td>\n",
              "      <td>0.21000</td>\n",
              "      <td>17.0</td>\n",
              "      <td>automatic</td>\n",
              "      <td>ci</td>\n",
              "      <td>ci</td>\n",
              "    </tr>\n",
              "    <tr>\n",
              "      <th>1</th>\n",
              "      <td>2025-07-21T06:08:16.330Z</td>\n",
              "      <td>35.948000</td>\n",
              "      <td>-117.666333</td>\n",
              "      <td>3.42</td>\n",
              "      <td>0.26</td>\n",
              "      <td>ml</td>\n",
              "      <td>13.0</td>\n",
              "      <td>67.0</td>\n",
              "      <td>0.01295</td>\n",
              "      <td>0.08</td>\n",
              "      <td>...</td>\n",
              "      <td>2025-07-21T06:11:37.459Z</td>\n",
              "      <td>22 km E of Little Lake, CA</td>\n",
              "      <td>earthquake</td>\n",
              "      <td>0.17</td>\n",
              "      <td>0.260</td>\n",
              "      <td>0.10000</td>\n",
              "      <td>7.0</td>\n",
              "      <td>automatic</td>\n",
              "      <td>ci</td>\n",
              "      <td>ci</td>\n",
              "    </tr>\n",
              "    <tr>\n",
              "      <th>2</th>\n",
              "      <td>2025-07-21T05:49:19.198Z</td>\n",
              "      <td>52.590200</td>\n",
              "      <td>160.871300</td>\n",
              "      <td>10.00</td>\n",
              "      <td>4.60</td>\n",
              "      <td>mb</td>\n",
              "      <td>94.0</td>\n",
              "      <td>116.0</td>\n",
              "      <td>1.41700</td>\n",
              "      <td>0.65</td>\n",
              "      <td>...</td>\n",
              "      <td>2025-07-21T06:34:56.040Z</td>\n",
              "      <td>160 km ESE of Petropavlovsk-Kamchatsky, Russia</td>\n",
              "      <td>earthquake</td>\n",
              "      <td>3.95</td>\n",
              "      <td>1.877</td>\n",
              "      <td>0.04300</td>\n",
              "      <td>164.0</td>\n",
              "      <td>reviewed</td>\n",
              "      <td>us</td>\n",
              "      <td>us</td>\n",
              "    </tr>\n",
              "    <tr>\n",
              "      <th>3</th>\n",
              "      <td>2025-07-21T05:44:40.819Z</td>\n",
              "      <td>64.645900</td>\n",
              "      <td>-149.397100</td>\n",
              "      <td>19.70</td>\n",
              "      <td>2.20</td>\n",
              "      <td>ml</td>\n",
              "      <td>NaN</td>\n",
              "      <td>NaN</td>\n",
              "      <td>NaN</td>\n",
              "      <td>0.77</td>\n",
              "      <td>...</td>\n",
              "      <td>2025-07-21T05:46:56.248Z</td>\n",
              "      <td>14 km WNW of Four Mile Road, Alaska</td>\n",
              "      <td>earthquake</td>\n",
              "      <td>NaN</td>\n",
              "      <td>0.400</td>\n",
              "      <td>NaN</td>\n",
              "      <td>NaN</td>\n",
              "      <td>automatic</td>\n",
              "      <td>ak</td>\n",
              "      <td>ak</td>\n",
              "    </tr>\n",
              "    <tr>\n",
              "      <th>4</th>\n",
              "      <td>2025-07-21T05:43:42.750Z</td>\n",
              "      <td>18.258333</td>\n",
              "      <td>-66.338667</td>\n",
              "      <td>21.50</td>\n",
              "      <td>1.95</td>\n",
              "      <td>md</td>\n",
              "      <td>9.0</td>\n",
              "      <td>123.0</td>\n",
              "      <td>0.06434</td>\n",
              "      <td>0.13</td>\n",
              "      <td>...</td>\n",
              "      <td>2025-07-21T06:09:57.640Z</td>\n",
              "      <td>6 km ENE of Orocovis, Puerto Rico</td>\n",
              "      <td>earthquake</td>\n",
              "      <td>0.46</td>\n",
              "      <td>0.880</td>\n",
              "      <td>0.04974</td>\n",
              "      <td>4.0</td>\n",
              "      <td>reviewed</td>\n",
              "      <td>pr</td>\n",
              "      <td>pr</td>\n",
              "    </tr>\n",
              "  </tbody>\n",
              "</table>\n",
              "<p>5 rows × 22 columns</p>\n",
              "</div>\n",
              "    <div class=\"colab-df-buttons\">\n",
              "\n",
              "  <div class=\"colab-df-container\">\n",
              "    <button class=\"colab-df-convert\" onclick=\"convertToInteractive('df-066d2a14-ddaa-43d9-8b23-3346dbaa7921')\"\n",
              "            title=\"Convert this dataframe to an interactive table.\"\n",
              "            style=\"display:none;\">\n",
              "\n",
              "  <svg xmlns=\"http://www.w3.org/2000/svg\" height=\"24px\" viewBox=\"0 -960 960 960\">\n",
              "    <path d=\"M120-120v-720h720v720H120Zm60-500h600v-160H180v160Zm220 220h160v-160H400v160Zm0 220h160v-160H400v160ZM180-400h160v-160H180v160Zm440 0h160v-160H620v160ZM180-180h160v-160H180v160Zm440 0h160v-160H620v160Z\"/>\n",
              "  </svg>\n",
              "    </button>\n",
              "\n",
              "  <style>\n",
              "    .colab-df-container {\n",
              "      display:flex;\n",
              "      gap: 12px;\n",
              "    }\n",
              "\n",
              "    .colab-df-convert {\n",
              "      background-color: #E8F0FE;\n",
              "      border: none;\n",
              "      border-radius: 50%;\n",
              "      cursor: pointer;\n",
              "      display: none;\n",
              "      fill: #1967D2;\n",
              "      height: 32px;\n",
              "      padding: 0 0 0 0;\n",
              "      width: 32px;\n",
              "    }\n",
              "\n",
              "    .colab-df-convert:hover {\n",
              "      background-color: #E2EBFA;\n",
              "      box-shadow: 0px 1px 2px rgba(60, 64, 67, 0.3), 0px 1px 3px 1px rgba(60, 64, 67, 0.15);\n",
              "      fill: #174EA6;\n",
              "    }\n",
              "\n",
              "    .colab-df-buttons div {\n",
              "      margin-bottom: 4px;\n",
              "    }\n",
              "\n",
              "    [theme=dark] .colab-df-convert {\n",
              "      background-color: #3B4455;\n",
              "      fill: #D2E3FC;\n",
              "    }\n",
              "\n",
              "    [theme=dark] .colab-df-convert:hover {\n",
              "      background-color: #434B5C;\n",
              "      box-shadow: 0px 1px 3px 1px rgba(0, 0, 0, 0.15);\n",
              "      filter: drop-shadow(0px 1px 2px rgba(0, 0, 0, 0.3));\n",
              "      fill: #FFFFFF;\n",
              "    }\n",
              "  </style>\n",
              "\n",
              "    <script>\n",
              "      const buttonEl =\n",
              "        document.querySelector('#df-066d2a14-ddaa-43d9-8b23-3346dbaa7921 button.colab-df-convert');\n",
              "      buttonEl.style.display =\n",
              "        google.colab.kernel.accessAllowed ? 'block' : 'none';\n",
              "\n",
              "      async function convertToInteractive(key) {\n",
              "        const element = document.querySelector('#df-066d2a14-ddaa-43d9-8b23-3346dbaa7921');\n",
              "        const dataTable =\n",
              "          await google.colab.kernel.invokeFunction('convertToInteractive',\n",
              "                                                    [key], {});\n",
              "        if (!dataTable) return;\n",
              "\n",
              "        const docLinkHtml = 'Like what you see? Visit the ' +\n",
              "          '<a target=\"_blank\" href=https://colab.research.google.com/notebooks/data_table.ipynb>data table notebook</a>'\n",
              "          + ' to learn more about interactive tables.';\n",
              "        element.innerHTML = '';\n",
              "        dataTable['output_type'] = 'display_data';\n",
              "        await google.colab.output.renderOutput(dataTable, element);\n",
              "        const docLink = document.createElement('div');\n",
              "        docLink.innerHTML = docLinkHtml;\n",
              "        element.appendChild(docLink);\n",
              "      }\n",
              "    </script>\n",
              "  </div>\n",
              "\n",
              "\n",
              "    <div id=\"df-7de4efa1-6d1a-48c8-90d0-b3c16036bf3c\">\n",
              "      <button class=\"colab-df-quickchart\" onclick=\"quickchart('df-7de4efa1-6d1a-48c8-90d0-b3c16036bf3c')\"\n",
              "                title=\"Suggest charts\"\n",
              "                style=\"display:none;\">\n",
              "\n",
              "<svg xmlns=\"http://www.w3.org/2000/svg\" height=\"24px\"viewBox=\"0 0 24 24\"\n",
              "     width=\"24px\">\n",
              "    <g>\n",
              "        <path d=\"M19 3H5c-1.1 0-2 .9-2 2v14c0 1.1.9 2 2 2h14c1.1 0 2-.9 2-2V5c0-1.1-.9-2-2-2zM9 17H7v-7h2v7zm4 0h-2V7h2v10zm4 0h-2v-4h2v4z\"/>\n",
              "    </g>\n",
              "</svg>\n",
              "      </button>\n",
              "\n",
              "<style>\n",
              "  .colab-df-quickchart {\n",
              "      --bg-color: #E8F0FE;\n",
              "      --fill-color: #1967D2;\n",
              "      --hover-bg-color: #E2EBFA;\n",
              "      --hover-fill-color: #174EA6;\n",
              "      --disabled-fill-color: #AAA;\n",
              "      --disabled-bg-color: #DDD;\n",
              "  }\n",
              "\n",
              "  [theme=dark] .colab-df-quickchart {\n",
              "      --bg-color: #3B4455;\n",
              "      --fill-color: #D2E3FC;\n",
              "      --hover-bg-color: #434B5C;\n",
              "      --hover-fill-color: #FFFFFF;\n",
              "      --disabled-bg-color: #3B4455;\n",
              "      --disabled-fill-color: #666;\n",
              "  }\n",
              "\n",
              "  .colab-df-quickchart {\n",
              "    background-color: var(--bg-color);\n",
              "    border: none;\n",
              "    border-radius: 50%;\n",
              "    cursor: pointer;\n",
              "    display: none;\n",
              "    fill: var(--fill-color);\n",
              "    height: 32px;\n",
              "    padding: 0;\n",
              "    width: 32px;\n",
              "  }\n",
              "\n",
              "  .colab-df-quickchart:hover {\n",
              "    background-color: var(--hover-bg-color);\n",
              "    box-shadow: 0 1px 2px rgba(60, 64, 67, 0.3), 0 1px 3px 1px rgba(60, 64, 67, 0.15);\n",
              "    fill: var(--button-hover-fill-color);\n",
              "  }\n",
              "\n",
              "  .colab-df-quickchart-complete:disabled,\n",
              "  .colab-df-quickchart-complete:disabled:hover {\n",
              "    background-color: var(--disabled-bg-color);\n",
              "    fill: var(--disabled-fill-color);\n",
              "    box-shadow: none;\n",
              "  }\n",
              "\n",
              "  .colab-df-spinner {\n",
              "    border: 2px solid var(--fill-color);\n",
              "    border-color: transparent;\n",
              "    border-bottom-color: var(--fill-color);\n",
              "    animation:\n",
              "      spin 1s steps(1) infinite;\n",
              "  }\n",
              "\n",
              "  @keyframes spin {\n",
              "    0% {\n",
              "      border-color: transparent;\n",
              "      border-bottom-color: var(--fill-color);\n",
              "      border-left-color: var(--fill-color);\n",
              "    }\n",
              "    20% {\n",
              "      border-color: transparent;\n",
              "      border-left-color: var(--fill-color);\n",
              "      border-top-color: var(--fill-color);\n",
              "    }\n",
              "    30% {\n",
              "      border-color: transparent;\n",
              "      border-left-color: var(--fill-color);\n",
              "      border-top-color: var(--fill-color);\n",
              "      border-right-color: var(--fill-color);\n",
              "    }\n",
              "    40% {\n",
              "      border-color: transparent;\n",
              "      border-right-color: var(--fill-color);\n",
              "      border-top-color: var(--fill-color);\n",
              "    }\n",
              "    60% {\n",
              "      border-color: transparent;\n",
              "      border-right-color: var(--fill-color);\n",
              "    }\n",
              "    80% {\n",
              "      border-color: transparent;\n",
              "      border-right-color: var(--fill-color);\n",
              "      border-bottom-color: var(--fill-color);\n",
              "    }\n",
              "    90% {\n",
              "      border-color: transparent;\n",
              "      border-bottom-color: var(--fill-color);\n",
              "    }\n",
              "  }\n",
              "</style>\n",
              "\n",
              "      <script>\n",
              "        async function quickchart(key) {\n",
              "          const quickchartButtonEl =\n",
              "            document.querySelector('#' + key + ' button');\n",
              "          quickchartButtonEl.disabled = true;  // To prevent multiple clicks.\n",
              "          quickchartButtonEl.classList.add('colab-df-spinner');\n",
              "          try {\n",
              "            const charts = await google.colab.kernel.invokeFunction(\n",
              "                'suggestCharts', [key], {});\n",
              "          } catch (error) {\n",
              "            console.error('Error during call to suggestCharts:', error);\n",
              "          }\n",
              "          quickchartButtonEl.classList.remove('colab-df-spinner');\n",
              "          quickchartButtonEl.classList.add('colab-df-quickchart-complete');\n",
              "        }\n",
              "        (() => {\n",
              "          let quickchartButtonEl =\n",
              "            document.querySelector('#df-7de4efa1-6d1a-48c8-90d0-b3c16036bf3c button');\n",
              "          quickchartButtonEl.style.display =\n",
              "            google.colab.kernel.accessAllowed ? 'block' : 'none';\n",
              "        })();\n",
              "      </script>\n",
              "    </div>\n",
              "\n",
              "    </div>\n",
              "  </div>\n"
            ],
            "application/vnd.google.colaboratory.intrinsic+json": {
              "type": "dataframe",
              "variable_name": "df"
            }
          },
          "metadata": {},
          "execution_count": 9
        }
      ]
    },
    {
      "cell_type": "code",
      "source": [
        "\n",
        "\n",
        "# Get the shape (number of rows, number of columns)\n",
        "print(df.shape)\n",
        "\n"
      ],
      "metadata": {
        "colab": {
          "base_uri": "https://localhost:8080/"
        },
        "id": "OCY36xRvsclY",
        "outputId": "8de41060-8e81-4134-95ae-e65c5284ce1a"
      },
      "execution_count": null,
      "outputs": [
        {
          "output_type": "stream",
          "name": "stdout",
          "text": [
            "(10841, 22)\n"
          ]
        }
      ]
    },
    {
      "cell_type": "code",
      "source": [
        "# prompt: ● Identify number of records and unique locations\n",
        "\n",
        "# Number of records is the number of rows\n",
        "\n",
        "print(f\"Number of records:\", len(df))\n",
        "\n",
        "# Identify unique locations\n",
        "unique_locations = df['place'].nunique()\n",
        "print(f\"Number of unique locations:\", unique_locations)"
      ],
      "metadata": {
        "colab": {
          "base_uri": "https://localhost:8080/"
        },
        "id": "4LN_m3XBs04M",
        "outputId": "36bb5162-a383-4cdf-fddc-0452995ffc57"
      },
      "execution_count": null,
      "outputs": [
        {
          "output_type": "stream",
          "name": "stdout",
          "text": [
            "Number of records: 10841\n",
            "Number of unique locations: 5546\n"
          ]
        }
      ]
    },
    {
      "cell_type": "code",
      "source": [
        "# prompt: ● Print top 5 rows and column names\n",
        "\n",
        "print(df.columns.tolist())\n",
        "print(df.head())"
      ],
      "metadata": {
        "colab": {
          "base_uri": "https://localhost:8080/"
        },
        "id": "MN6yTfKCtSlg",
        "outputId": "3bf32928-22cf-4ab2-ea03-98e824cfecb2"
      },
      "execution_count": null,
      "outputs": [
        {
          "output_type": "stream",
          "name": "stdout",
          "text": [
            "['time', 'latitude', 'longitude', 'depth', 'mag', 'magType', 'nst', 'gap', 'dmin', 'rms', 'net', 'id', 'updated', 'place', 'type', 'horizontalError', 'depthError', 'magError', 'magNst', 'status', 'locationSource', 'magSource', 'countries']\n",
            "                       time   latitude   longitude  depth   mag magType   nst  \\\n",
            "0  2025-07-21T06:12:57.570Z  36.079167 -117.619000   1.59  1.07      ml  25.0   \n",
            "1  2025-07-21T06:08:16.330Z  35.948000 -117.666333   3.42  0.26      ml  13.0   \n",
            "2  2025-07-21T05:49:19.198Z  52.590200  160.871300  10.00  4.60      mb  94.0   \n",
            "3  2025-07-21T05:44:40.819Z  64.645900 -149.397100  19.70  2.20      ml   NaN   \n",
            "4  2025-07-21T05:43:42.750Z  18.258333  -66.338667  21.50  1.95      md   9.0   \n",
            "\n",
            "     gap     dmin   rms  ...                                           place  \\\n",
            "0   75.0  0.10740  0.15  ...                    30 km E of Coso Junction, CA   \n",
            "1   67.0  0.01295  0.08  ...                      22 km E of Little Lake, CA   \n",
            "2  116.0  1.41700  0.65  ...  160 km ESE of Petropavlovsk-Kamchatsky, Russia   \n",
            "3    NaN      NaN  0.77  ...             14 km WNW of Four Mile Road, Alaska   \n",
            "4  123.0  0.06434  0.13  ...               6 km ENE of Orocovis, Puerto Rico   \n",
            "\n",
            "         type horizontalError depthError magError  magNst     status  \\\n",
            "0  earthquake            0.20      0.300  0.21000    17.0  automatic   \n",
            "1  earthquake            0.17      0.260  0.10000     7.0  automatic   \n",
            "2  earthquake            3.95      1.877  0.04300   164.0   reviewed   \n",
            "3  earthquake             NaN      0.400      NaN     NaN  automatic   \n",
            "4  earthquake            0.46      0.880  0.04974     4.0   reviewed   \n",
            "\n",
            "   locationSource  magSource    countries  \n",
            "0              ci         ci           CA  \n",
            "1              ci         ci           CA  \n",
            "2              us         us       Russia  \n",
            "3              ak         ak       Alaska  \n",
            "4              pr         pr  Puerto Rico  \n",
            "\n",
            "[5 rows x 23 columns]\n"
          ]
        }
      ]
    },
    {
      "cell_type": "code",
      "source": [
        "# Extract the part after the last comma in the 'place' column\n",
        "#This splits each string in the 'place' column at the comma, turning it into a list.\n",
        "#\"160 km ESE of Petropavlovsk-Kamchatsky, Russia\"→ [\"160 km ESE of Petropavlovsk-Kamchatsky\", \" Russia\"]\n",
        "#.str[-1] - This picks the last element from the split list — the part after the last comma.\n",
        "# [\"160 km ESE of Petropavlovsk-Kamchatsky\", \" Russia\"] → \" Russia\"\n",
        "#.str.strip()This removes any leading or trailing spaces.\n",
        "#\" Russia\" → \"Russia\"\n",
        "df['countries'] = df['place'].str.split(',').str[-1].str.strip()\n",
        "\n",
        "# View result\n",
        "print(df[['place', 'countries']].head())\n"
      ],
      "metadata": {
        "colab": {
          "base_uri": "https://localhost:8080/"
        },
        "id": "7obO0dn9uDaH",
        "outputId": "cdfa716e-767c-4c84-f1fd-67b277ad2b39"
      },
      "execution_count": null,
      "outputs": [
        {
          "output_type": "stream",
          "name": "stdout",
          "text": [
            "                                            place    countries\n",
            "0                    30 km E of Coso Junction, CA           CA\n",
            "1                      22 km E of Little Lake, CA           CA\n",
            "2  160 km ESE of Petropavlovsk-Kamchatsky, Russia       Russia\n",
            "3             14 km WNW of Four Mile Road, Alaska       Alaska\n",
            "4               6 km ENE of Orocovis, Puerto Rico  Puerto Rico\n"
          ]
        }
      ]
    },
    {
      "cell_type": "code",
      "source": [
        "# Get unique values from the 'countries' column\n",
        "unique_countries = df['countries'].unique()\n",
        "unique_countries\n",
        "len(unique_countries)\n",
        "\n"
      ],
      "metadata": {
        "colab": {
          "base_uri": "https://localhost:8080/"
        },
        "id": "jccEGTH-wgup",
        "outputId": "b1bed108-4771-4367-a29e-34371d12cc16"
      },
      "execution_count": null,
      "outputs": [
        {
          "output_type": "execute_result",
          "data": {
            "text/plain": [
              "139"
            ]
          },
          "metadata": {},
          "execution_count": 25
        }
      ]
    },
    {
      "cell_type": "code",
      "source": [
        "# Convert 'time' column to datetime\n",
        "df['time'] = pd.to_datetime(df['time'])"
      ],
      "metadata": {
        "id": "5h8rjhY2yPGL"
      },
      "execution_count": null,
      "outputs": []
    },
    {
      "cell_type": "code",
      "source": [
        "#  Drop rows with missing values in 'latitude', 'longitude', or 'mag'\n",
        "#df is your DataFrame, likely containing information about earthquakes (based on the column names).\n",
        "\n",
        "#.dropna() is a Pandas method used to remove rows with missing (NaN) values.\n",
        "\n",
        "#subset=['latitude', 'longitude', 'mag'] tells Pandas to only check these specific columns.\n",
        "df = df.dropna(subset=['latitude', 'longitude', 'mag'])"
      ],
      "metadata": {
        "id": "doGcfq6iyWRp"
      },
      "execution_count": null,
      "outputs": []
    },
    {
      "cell_type": "code",
      "source": [
        "\n",
        "# Filter only earthquakes with magnitude >= 4.0\n",
        "df = df[df['mag'] >= 4.0]"
      ],
      "metadata": {
        "id": "XrL5UK-60u72"
      },
      "execution_count": null,
      "outputs": []
    },
    {
      "cell_type": "code",
      "source": [
        "# Add a new column 'day_of_week' from 'time'\n",
        "df['day_of_week'] = df['time'].dt.day_name()\n"
      ],
      "metadata": {
        "id": "DRxVQ75d1dK_"
      },
      "execution_count": null,
      "outputs": []
    },
    {
      "cell_type": "code",
      "source": [
        "#  Create a column severity_level based on magnitude:\n",
        "# ○ <4.0: \"Low\"\n",
        "# ○ 4.0 - 6.0: \"Moderate\"\n",
        "# ○ 6.0+: \"High\"\n",
        "\n",
        "df['severity_level'] = df['mag'].apply(lambda x: \"Low\" if x < 4.0 else (\"Moderate\" if 4.0 <= x < 6.0 else \"High\"))"
      ],
      "metadata": {
        "id": "5VHGqti65GWG"
      },
      "execution_count": 5,
      "outputs": []
    },
    {
      "cell_type": "code",
      "source": [
        "# prompt: ● Count number of earthquakes per place\n",
        "\n",
        "# Count the number of earthquakes per place\n",
        "earthquake_counts_per_place = df['place'].value_counts()\n",
        "\n",
        "# Display the counts\n",
        "print(\"\\nNumber of earthquakes per place:\")\n",
        "earthquake_counts_per_place"
      ],
      "metadata": {
        "colab": {
          "base_uri": "https://localhost:8080/",
          "height": 524
        },
        "id": "liSA68H3JKCw",
        "outputId": "c4414544-55be-414e-f9a4-29c2622be219"
      },
      "execution_count": 6,
      "outputs": [
        {
          "output_type": "stream",
          "name": "stdout",
          "text": [
            "\n",
            "Number of earthquakes per place:\n"
          ]
        },
        {
          "output_type": "execute_result",
          "data": {
            "text/plain": [
              "place\n",
              "22 km ENE of Ashford, Washington                  565\n",
              "23 km ENE of Ashford, Washington                  332\n",
              "7 km WNW of Cobb, CA                              112\n",
              "8 km NNW of The Geysers, CA                       108\n",
              "7 km NNW of The Geysers, CA                        80\n",
              "                                                 ... \n",
              "15 km NNW of Borrego Springs, CA                    1\n",
              "131 km SE of Petropavlovsk-Kamchatsky, Russia       1\n",
              "184 km E of Petropavlovsk-Kamchatsky, Russia        1\n",
              "140 km ESE of Petropavlovsk-Kamchatsky, Russia      1\n",
              "61 km NNW of Petersville, Alaska                    1\n",
              "Name: count, Length: 5623, dtype: int64"
            ],
            "text/html": [
              "<div>\n",
              "<style scoped>\n",
              "    .dataframe tbody tr th:only-of-type {\n",
              "        vertical-align: middle;\n",
              "    }\n",
              "\n",
              "    .dataframe tbody tr th {\n",
              "        vertical-align: top;\n",
              "    }\n",
              "\n",
              "    .dataframe thead th {\n",
              "        text-align: right;\n",
              "    }\n",
              "</style>\n",
              "<table border=\"1\" class=\"dataframe\">\n",
              "  <thead>\n",
              "    <tr style=\"text-align: right;\">\n",
              "      <th></th>\n",
              "      <th>count</th>\n",
              "    </tr>\n",
              "    <tr>\n",
              "      <th>place</th>\n",
              "      <th></th>\n",
              "    </tr>\n",
              "  </thead>\n",
              "  <tbody>\n",
              "    <tr>\n",
              "      <th>22 km ENE of Ashford, Washington</th>\n",
              "      <td>565</td>\n",
              "    </tr>\n",
              "    <tr>\n",
              "      <th>23 km ENE of Ashford, Washington</th>\n",
              "      <td>332</td>\n",
              "    </tr>\n",
              "    <tr>\n",
              "      <th>7 km WNW of Cobb, CA</th>\n",
              "      <td>112</td>\n",
              "    </tr>\n",
              "    <tr>\n",
              "      <th>8 km NNW of The Geysers, CA</th>\n",
              "      <td>108</td>\n",
              "    </tr>\n",
              "    <tr>\n",
              "      <th>7 km NNW of The Geysers, CA</th>\n",
              "      <td>80</td>\n",
              "    </tr>\n",
              "    <tr>\n",
              "      <th>...</th>\n",
              "      <td>...</td>\n",
              "    </tr>\n",
              "    <tr>\n",
              "      <th>15 km NNW of Borrego Springs, CA</th>\n",
              "      <td>1</td>\n",
              "    </tr>\n",
              "    <tr>\n",
              "      <th>131 km SE of Petropavlovsk-Kamchatsky, Russia</th>\n",
              "      <td>1</td>\n",
              "    </tr>\n",
              "    <tr>\n",
              "      <th>184 km E of Petropavlovsk-Kamchatsky, Russia</th>\n",
              "      <td>1</td>\n",
              "    </tr>\n",
              "    <tr>\n",
              "      <th>140 km ESE of Petropavlovsk-Kamchatsky, Russia</th>\n",
              "      <td>1</td>\n",
              "    </tr>\n",
              "    <tr>\n",
              "      <th>61 km NNW of Petersville, Alaska</th>\n",
              "      <td>1</td>\n",
              "    </tr>\n",
              "  </tbody>\n",
              "</table>\n",
              "<p>5623 rows × 1 columns</p>\n",
              "</div><br><label><b>dtype:</b> int64</label>"
            ]
          },
          "metadata": {},
          "execution_count": 6
        }
      ]
    },
    {
      "cell_type": "code",
      "source": [
        "# prompt: ● Compute average magnitude and max depth per day\n",
        "# Step 1: Convert 'time' to datetime\n",
        "df['time'] = pd.to_datetime(df['time'])\n",
        "\n",
        "# Step 2: Create a 'date' column\n",
        "df['date'] = df['time'].dt.date\n",
        "\n",
        "# Step 3 & 4: Group by date and compute average magnitude and max depth\n",
        "daily_stats = df.groupby('date').agg({\n",
        "    'mag': 'mean',\n",
        "    'depth': 'max'\n",
        "}).reset_index()\n",
        "\n",
        "# Optional: Rename columns for clarity\n",
        "daily_stats.columns = ['date', 'average_magnitude', 'max_depth']\n",
        "\n",
        "# Display result\n",
        "print(daily_stats)\n"
      ],
      "metadata": {
        "colab": {
          "base_uri": "https://localhost:8080/"
        },
        "id": "dsry7W1MJX6G",
        "outputId": "6452f31b-06f0-45aa-e356-2fd7eb5ea7e4"
      },
      "execution_count": 9,
      "outputs": [
        {
          "output_type": "stream",
          "name": "stdout",
          "text": [
            "          date  average_magnitude  max_depth\n",
            "0   2025-06-21           1.604384    104.900\n",
            "1   2025-06-22           1.812018    606.970\n",
            "2   2025-06-23           1.609022    583.264\n",
            "3   2025-06-24           1.947012    604.943\n",
            "4   2025-06-25           1.592100    596.789\n",
            "5   2025-06-26           1.441037    624.994\n",
            "6   2025-06-27           1.393025    622.042\n",
            "7   2025-06-28           1.510125    611.607\n",
            "8   2025-06-29           1.533828    547.084\n",
            "9   2025-06-30           1.487507    628.268\n",
            "10  2025-07-01           1.403761    581.818\n",
            "11  2025-07-02           1.697500    532.128\n",
            "12  2025-07-03           1.770938    576.632\n",
            "13  2025-07-04           1.615300    249.570\n",
            "14  2025-07-05           1.699776    611.748\n",
            "15  2025-07-06           1.545276    574.856\n",
            "16  2025-07-07           1.601696    663.019\n",
            "17  2025-07-08           1.075286    554.175\n",
            "18  2025-07-09           1.234021    579.070\n",
            "19  2025-07-10           1.314036    555.815\n",
            "20  2025-07-11           1.291268    525.905\n",
            "21  2025-07-12           1.288647    594.326\n",
            "22  2025-07-13           1.316435    191.768\n",
            "23  2025-07-14           1.268216    552.045\n",
            "24  2025-07-15           1.310052    634.695\n",
            "25  2025-07-16           1.880547    383.911\n",
            "26  2025-07-17           1.648514    625.437\n",
            "27  2025-07-18           1.531818    583.522\n",
            "28  2025-07-19           1.452012    620.766\n",
            "29  2025-07-20           2.300680    619.128\n",
            "30  2025-07-21           1.944465    245.300\n"
          ]
        }
      ]
    },
    {
      "cell_type": "code",
      "source": [
        "\n",
        "# ✅ Save cleaned dataset\n",
        "df.to_csv('cleaned_earthquakes.csv', index=False)"
      ],
      "metadata": {
        "id": "eLY2HpscJsEu"
      },
      "execution_count": 10,
      "outputs": []
    },
    {
      "cell_type": "code",
      "source": [
        "# Rename columns\n",
        "daily_stats.columns = ['date', 'average_magnitude', 'max_depth']\n",
        "\n",
        "# ✅ Save summary dataset\n",
        "daily_stats.to_csv('earthquake_summary.csv', index=False)"
      ],
      "metadata": {
        "id": "Kz-yX6JFKCU0"
      },
      "execution_count": 12,
      "outputs": []
    },
    {
      "cell_type": "code",
      "source": [
        "import sqlite3\n",
        "\n",
        "# Connect to SQLite database (or create it)\n",
        "conn = sqlite3.connect('earthquakes.db')\n",
        "\n",
        "# Save cleaned data to table\n",
        "df.to_sql('cleaned_earthquakes', conn, if_exists='replace', index=False)\n",
        "\n",
        "# Save summary data to another table\n",
        "daily_stats.to_sql('earthquake_summary', conn, if_exists='replace', index=False)\n",
        "\n",
        "# Close the connection\n",
        "conn.close()"
      ],
      "metadata": {
        "id": "JxaGUHtjKaSX"
      },
      "execution_count": 14,
      "outputs": []
    },
    {
      "cell_type": "markdown",
      "source": [
        "![image.png](data:image/png;base64,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)"
      ],
      "metadata": {
        "id": "ZK64VGtALA0q"
      }
    },
    {
      "cell_type": "markdown",
      "source": [
        "We performed an ETL process on earthquake data to prepare it for analysis:\n",
        "\n",
        "Extract: We began with a raw CSV dataset containing global earthquake records.\n",
        "\n",
        "Transform: We converted time columns, removed incomplete records, filtered for significant earthquakes (magnitude ≥ 4.0), and added additional fields like day of the week.\n",
        "\n",
        "Load: We saved the cleaned data and summary statistics into both CSV files and a SQLite database for further querying and analysis."
      ],
      "metadata": {
        "id": "fULOgIFTLRbz"
      }
    },
    {
      "cell_type": "markdown",
      "source": [
        " Insight:\n",
        "Most of the high-magnitude earthquakes (≥4.0) with deeper epicenters were observed more frequently on Wednesdays and Fridays, suggesting a pattern worth investigating in relation to tectonic plate movements or regional seismic behavior.**bold text**"
      ],
      "metadata": {
        "id": "sGi5WxZELYCO"
      }
    }
  ]
}