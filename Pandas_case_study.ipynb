{
  "nbformat": 4,
  "nbformat_minor": 0,
  "metadata": {
    "colab": {
      "provenance": [],
      "authorship_tag": "ABX9TyNP/zWZJOp6AmuaY9jo1ERa",
      "include_colab_link": true
    },
    "kernelspec": {
      "name": "python3",
      "display_name": "Python 3"
    },
    "language_info": {
      "name": "python"
    }
  },
  "cells": [
    {
      "cell_type": "markdown",
      "metadata": {
        "id": "view-in-github",
        "colab_type": "text"
      },
      "source": [
        "<a href=\"https://colab.research.google.com/github/Sereenamariyam/Python_assignment/blob/main/Pandas_case_study.ipynb\" target=\"_parent\"><img src=\"https://colab.research.google.com/assets/colab-badge.svg\" alt=\"Open In Colab\"/></a>"
      ]
    },
    {
      "cell_type": "code",
      "execution_count": 2,
      "metadata": {
        "colab": {
          "base_uri": "https://localhost:8080/",
          "height": 293
        },
        "id": "iSAJxQ9inFdM",
        "outputId": "22b53440-94c0-4520-f98e-f6f40d13e73b"
      },
      "outputs": [
        {
          "output_type": "execute_result",
          "data": {
            "text/plain": [
              "   Rank                    Title                     Genre  \\\n",
              "0     1  Guardians of the Galaxy   Action,Adventure,Sci-Fi   \n",
              "1     2               Prometheus  Adventure,Mystery,Sci-Fi   \n",
              "2     3                    Split           Horror,Thriller   \n",
              "3     4                     Sing   Animation,Comedy,Family   \n",
              "4     5            Suicide Squad  Action,Adventure,Fantasy   \n",
              "\n",
              "                                         Description              Director  \\\n",
              "0  A group of intergalactic criminals are forced ...            James Gunn   \n",
              "1  Following clues to the origin of mankind, a te...          Ridley Scott   \n",
              "2  Three girls are kidnapped by a man with a diag...    M. Night Shyamalan   \n",
              "3  In a city of humanoid animals, a hustling thea...  Christophe Lourdelet   \n",
              "4  A secret government agency recruits some of th...            David Ayer   \n",
              "\n",
              "                                              Actors  Year  Runtime (Minutes)  \\\n",
              "0  Chris Pratt, Vin Diesel, Bradley Cooper, Zoe S...  2014                121   \n",
              "1  Noomi Rapace, Logan Marshall-Green, Michael Fa...  2012                124   \n",
              "2  James McAvoy, Anya Taylor-Joy, Haley Lu Richar...  2016                117   \n",
              "3  Matthew McConaughey,Reese Witherspoon, Seth Ma...  2016                108   \n",
              "4  Will Smith, Jared Leto, Margot Robbie, Viola D...  2016                123   \n",
              "\n",
              "   Rating   Votes  Revenue (Millions)  Metascore  \n",
              "0     8.1  757074              333.13       76.0  \n",
              "1     7.0  485820              126.46       65.0  \n",
              "2     7.3  157606              138.12       62.0  \n",
              "3     7.2   60545              270.32       59.0  \n",
              "4     6.2  393727              325.02       40.0  "
            ],
            "text/html": [
              "\n",
              "  <div id=\"df-ebf0d699-9d74-4ec8-be2b-c35d74196aaa\" class=\"colab-df-container\">\n",
              "    <div>\n",
              "<style scoped>\n",
              "    .dataframe tbody tr th:only-of-type {\n",
              "        vertical-align: middle;\n",
              "    }\n",
              "\n",
              "    .dataframe tbody tr th {\n",
              "        vertical-align: top;\n",
              "    }\n",
              "\n",
              "    .dataframe thead th {\n",
              "        text-align: right;\n",
              "    }\n",
              "</style>\n",
              "<table border=\"1\" class=\"dataframe\">\n",
              "  <thead>\n",
              "    <tr style=\"text-align: right;\">\n",
              "      <th></th>\n",
              "      <th>Rank</th>\n",
              "      <th>Title</th>\n",
              "      <th>Genre</th>\n",
              "      <th>Description</th>\n",
              "      <th>Director</th>\n",
              "      <th>Actors</th>\n",
              "      <th>Year</th>\n",
              "      <th>Runtime (Minutes)</th>\n",
              "      <th>Rating</th>\n",
              "      <th>Votes</th>\n",
              "      <th>Revenue (Millions)</th>\n",
              "      <th>Metascore</th>\n",
              "    </tr>\n",
              "  </thead>\n",
              "  <tbody>\n",
              "    <tr>\n",
              "      <th>0</th>\n",
              "      <td>1</td>\n",
              "      <td>Guardians of the Galaxy</td>\n",
              "      <td>Action,Adventure,Sci-Fi</td>\n",
              "      <td>A group of intergalactic criminals are forced ...</td>\n",
              "      <td>James Gunn</td>\n",
              "      <td>Chris Pratt, Vin Diesel, Bradley Cooper, Zoe S...</td>\n",
              "      <td>2014</td>\n",
              "      <td>121</td>\n",
              "      <td>8.1</td>\n",
              "      <td>757074</td>\n",
              "      <td>333.13</td>\n",
              "      <td>76.0</td>\n",
              "    </tr>\n",
              "    <tr>\n",
              "      <th>1</th>\n",
              "      <td>2</td>\n",
              "      <td>Prometheus</td>\n",
              "      <td>Adventure,Mystery,Sci-Fi</td>\n",
              "      <td>Following clues to the origin of mankind, a te...</td>\n",
              "      <td>Ridley Scott</td>\n",
              "      <td>Noomi Rapace, Logan Marshall-Green, Michael Fa...</td>\n",
              "      <td>2012</td>\n",
              "      <td>124</td>\n",
              "      <td>7.0</td>\n",
              "      <td>485820</td>\n",
              "      <td>126.46</td>\n",
              "      <td>65.0</td>\n",
              "    </tr>\n",
              "    <tr>\n",
              "      <th>2</th>\n",
              "      <td>3</td>\n",
              "      <td>Split</td>\n",
              "      <td>Horror,Thriller</td>\n",
              "      <td>Three girls are kidnapped by a man with a diag...</td>\n",
              "      <td>M. Night Shyamalan</td>\n",
              "      <td>James McAvoy, Anya Taylor-Joy, Haley Lu Richar...</td>\n",
              "      <td>2016</td>\n",
              "      <td>117</td>\n",
              "      <td>7.3</td>\n",
              "      <td>157606</td>\n",
              "      <td>138.12</td>\n",
              "      <td>62.0</td>\n",
              "    </tr>\n",
              "    <tr>\n",
              "      <th>3</th>\n",
              "      <td>4</td>\n",
              "      <td>Sing</td>\n",
              "      <td>Animation,Comedy,Family</td>\n",
              "      <td>In a city of humanoid animals, a hustling thea...</td>\n",
              "      <td>Christophe Lourdelet</td>\n",
              "      <td>Matthew McConaughey,Reese Witherspoon, Seth Ma...</td>\n",
              "      <td>2016</td>\n",
              "      <td>108</td>\n",
              "      <td>7.2</td>\n",
              "      <td>60545</td>\n",
              "      <td>270.32</td>\n",
              "      <td>59.0</td>\n",
              "    </tr>\n",
              "    <tr>\n",
              "      <th>4</th>\n",
              "      <td>5</td>\n",
              "      <td>Suicide Squad</td>\n",
              "      <td>Action,Adventure,Fantasy</td>\n",
              "      <td>A secret government agency recruits some of th...</td>\n",
              "      <td>David Ayer</td>\n",
              "      <td>Will Smith, Jared Leto, Margot Robbie, Viola D...</td>\n",
              "      <td>2016</td>\n",
              "      <td>123</td>\n",
              "      <td>6.2</td>\n",
              "      <td>393727</td>\n",
              "      <td>325.02</td>\n",
              "      <td>40.0</td>\n",
              "    </tr>\n",
              "  </tbody>\n",
              "</table>\n",
              "</div>\n",
              "    <div class=\"colab-df-buttons\">\n",
              "\n",
              "  <div class=\"colab-df-container\">\n",
              "    <button class=\"colab-df-convert\" onclick=\"convertToInteractive('df-ebf0d699-9d74-4ec8-be2b-c35d74196aaa')\"\n",
              "            title=\"Convert this dataframe to an interactive table.\"\n",
              "            style=\"display:none;\">\n",
              "\n",
              "  <svg xmlns=\"http://www.w3.org/2000/svg\" height=\"24px\" viewBox=\"0 -960 960 960\">\n",
              "    <path d=\"M120-120v-720h720v720H120Zm60-500h600v-160H180v160Zm220 220h160v-160H400v160Zm0 220h160v-160H400v160ZM180-400h160v-160H180v160Zm440 0h160v-160H620v160ZM180-180h160v-160H180v160Zm440 0h160v-160H620v160Z\"/>\n",
              "  </svg>\n",
              "    </button>\n",
              "\n",
              "  <style>\n",
              "    .colab-df-container {\n",
              "      display:flex;\n",
              "      gap: 12px;\n",
              "    }\n",
              "\n",
              "    .colab-df-convert {\n",
              "      background-color: #E8F0FE;\n",
              "      border: none;\n",
              "      border-radius: 50%;\n",
              "      cursor: pointer;\n",
              "      display: none;\n",
              "      fill: #1967D2;\n",
              "      height: 32px;\n",
              "      padding: 0 0 0 0;\n",
              "      width: 32px;\n",
              "    }\n",
              "\n",
              "    .colab-df-convert:hover {\n",
              "      background-color: #E2EBFA;\n",
              "      box-shadow: 0px 1px 2px rgba(60, 64, 67, 0.3), 0px 1px 3px 1px rgba(60, 64, 67, 0.15);\n",
              "      fill: #174EA6;\n",
              "    }\n",
              "\n",
              "    .colab-df-buttons div {\n",
              "      margin-bottom: 4px;\n",
              "    }\n",
              "\n",
              "    [theme=dark] .colab-df-convert {\n",
              "      background-color: #3B4455;\n",
              "      fill: #D2E3FC;\n",
              "    }\n",
              "\n",
              "    [theme=dark] .colab-df-convert:hover {\n",
              "      background-color: #434B5C;\n",
              "      box-shadow: 0px 1px 3px 1px rgba(0, 0, 0, 0.15);\n",
              "      filter: drop-shadow(0px 1px 2px rgba(0, 0, 0, 0.3));\n",
              "      fill: #FFFFFF;\n",
              "    }\n",
              "  </style>\n",
              "\n",
              "    <script>\n",
              "      const buttonEl =\n",
              "        document.querySelector('#df-ebf0d699-9d74-4ec8-be2b-c35d74196aaa button.colab-df-convert');\n",
              "      buttonEl.style.display =\n",
              "        google.colab.kernel.accessAllowed ? 'block' : 'none';\n",
              "\n",
              "      async function convertToInteractive(key) {\n",
              "        const element = document.querySelector('#df-ebf0d699-9d74-4ec8-be2b-c35d74196aaa');\n",
              "        const dataTable =\n",
              "          await google.colab.kernel.invokeFunction('convertToInteractive',\n",
              "                                                    [key], {});\n",
              "        if (!dataTable) return;\n",
              "\n",
              "        const docLinkHtml = 'Like what you see? Visit the ' +\n",
              "          '<a target=\"_blank\" href=https://colab.research.google.com/notebooks/data_table.ipynb>data table notebook</a>'\n",
              "          + ' to learn more about interactive tables.';\n",
              "        element.innerHTML = '';\n",
              "        dataTable['output_type'] = 'display_data';\n",
              "        await google.colab.output.renderOutput(dataTable, element);\n",
              "        const docLink = document.createElement('div');\n",
              "        docLink.innerHTML = docLinkHtml;\n",
              "        element.appendChild(docLink);\n",
              "      }\n",
              "    </script>\n",
              "  </div>\n",
              "\n",
              "\n",
              "    <div id=\"df-8dba413c-5936-4da4-ba35-cc7170584c2e\">\n",
              "      <button class=\"colab-df-quickchart\" onclick=\"quickchart('df-8dba413c-5936-4da4-ba35-cc7170584c2e')\"\n",
              "                title=\"Suggest charts\"\n",
              "                style=\"display:none;\">\n",
              "\n",
              "<svg xmlns=\"http://www.w3.org/2000/svg\" height=\"24px\"viewBox=\"0 0 24 24\"\n",
              "     width=\"24px\">\n",
              "    <g>\n",
              "        <path d=\"M19 3H5c-1.1 0-2 .9-2 2v14c0 1.1.9 2 2 2h14c1.1 0 2-.9 2-2V5c0-1.1-.9-2-2-2zM9 17H7v-7h2v7zm4 0h-2V7h2v10zm4 0h-2v-4h2v4z\"/>\n",
              "    </g>\n",
              "</svg>\n",
              "      </button>\n",
              "\n",
              "<style>\n",
              "  .colab-df-quickchart {\n",
              "      --bg-color: #E8F0FE;\n",
              "      --fill-color: #1967D2;\n",
              "      --hover-bg-color: #E2EBFA;\n",
              "      --hover-fill-color: #174EA6;\n",
              "      --disabled-fill-color: #AAA;\n",
              "      --disabled-bg-color: #DDD;\n",
              "  }\n",
              "\n",
              "  [theme=dark] .colab-df-quickchart {\n",
              "      --bg-color: #3B4455;\n",
              "      --fill-color: #D2E3FC;\n",
              "      --hover-bg-color: #434B5C;\n",
              "      --hover-fill-color: #FFFFFF;\n",
              "      --disabled-bg-color: #3B4455;\n",
              "      --disabled-fill-color: #666;\n",
              "  }\n",
              "\n",
              "  .colab-df-quickchart {\n",
              "    background-color: var(--bg-color);\n",
              "    border: none;\n",
              "    border-radius: 50%;\n",
              "    cursor: pointer;\n",
              "    display: none;\n",
              "    fill: var(--fill-color);\n",
              "    height: 32px;\n",
              "    padding: 0;\n",
              "    width: 32px;\n",
              "  }\n",
              "\n",
              "  .colab-df-quickchart:hover {\n",
              "    background-color: var(--hover-bg-color);\n",
              "    box-shadow: 0 1px 2px rgba(60, 64, 67, 0.3), 0 1px 3px 1px rgba(60, 64, 67, 0.15);\n",
              "    fill: var(--button-hover-fill-color);\n",
              "  }\n",
              "\n",
              "  .colab-df-quickchart-complete:disabled,\n",
              "  .colab-df-quickchart-complete:disabled:hover {\n",
              "    background-color: var(--disabled-bg-color);\n",
              "    fill: var(--disabled-fill-color);\n",
              "    box-shadow: none;\n",
              "  }\n",
              "\n",
              "  .colab-df-spinner {\n",
              "    border: 2px solid var(--fill-color);\n",
              "    border-color: transparent;\n",
              "    border-bottom-color: var(--fill-color);\n",
              "    animation:\n",
              "      spin 1s steps(1) infinite;\n",
              "  }\n",
              "\n",
              "  @keyframes spin {\n",
              "    0% {\n",
              "      border-color: transparent;\n",
              "      border-bottom-color: var(--fill-color);\n",
              "      border-left-color: var(--fill-color);\n",
              "    }\n",
              "    20% {\n",
              "      border-color: transparent;\n",
              "      border-left-color: var(--fill-color);\n",
              "      border-top-color: var(--fill-color);\n",
              "    }\n",
              "    30% {\n",
              "      border-color: transparent;\n",
              "      border-left-color: var(--fill-color);\n",
              "      border-top-color: var(--fill-color);\n",
              "      border-right-color: var(--fill-color);\n",
              "    }\n",
              "    40% {\n",
              "      border-color: transparent;\n",
              "      border-right-color: var(--fill-color);\n",
              "      border-top-color: var(--fill-color);\n",
              "    }\n",
              "    60% {\n",
              "      border-color: transparent;\n",
              "      border-right-color: var(--fill-color);\n",
              "    }\n",
              "    80% {\n",
              "      border-color: transparent;\n",
              "      border-right-color: var(--fill-color);\n",
              "      border-bottom-color: var(--fill-color);\n",
              "    }\n",
              "    90% {\n",
              "      border-color: transparent;\n",
              "      border-bottom-color: var(--fill-color);\n",
              "    }\n",
              "  }\n",
              "</style>\n",
              "\n",
              "      <script>\n",
              "        async function quickchart(key) {\n",
              "          const quickchartButtonEl =\n",
              "            document.querySelector('#' + key + ' button');\n",
              "          quickchartButtonEl.disabled = true;  // To prevent multiple clicks.\n",
              "          quickchartButtonEl.classList.add('colab-df-spinner');\n",
              "          try {\n",
              "            const charts = await google.colab.kernel.invokeFunction(\n",
              "                'suggestCharts', [key], {});\n",
              "          } catch (error) {\n",
              "            console.error('Error during call to suggestCharts:', error);\n",
              "          }\n",
              "          quickchartButtonEl.classList.remove('colab-df-spinner');\n",
              "          quickchartButtonEl.classList.add('colab-df-quickchart-complete');\n",
              "        }\n",
              "        (() => {\n",
              "          let quickchartButtonEl =\n",
              "            document.querySelector('#df-8dba413c-5936-4da4-ba35-cc7170584c2e button');\n",
              "          quickchartButtonEl.style.display =\n",
              "            google.colab.kernel.accessAllowed ? 'block' : 'none';\n",
              "        })();\n",
              "      </script>\n",
              "    </div>\n",
              "\n",
              "    </div>\n",
              "  </div>\n"
            ],
            "application/vnd.google.colaboratory.intrinsic+json": {
              "type": "dataframe",
              "variable_name": "df",
              "summary": "{\n  \"name\": \"df\",\n  \"rows\": 1000,\n  \"fields\": [\n    {\n      \"column\": \"Rank\",\n      \"properties\": {\n        \"dtype\": \"number\",\n        \"std\": 288,\n        \"min\": 1,\n        \"max\": 1000,\n        \"num_unique_values\": 1000,\n        \"samples\": [\n          522,\n          738,\n          741\n        ],\n        \"semantic_type\": \"\",\n        \"description\": \"\"\n      }\n    },\n    {\n      \"column\": \"Title\",\n      \"properties\": {\n        \"dtype\": \"string\",\n        \"num_unique_values\": 999,\n        \"samples\": [\n          \"Olympus Has Fallen\",\n          \"Man on a Ledge\",\n          \"The Girl with All the Gifts\"\n        ],\n        \"semantic_type\": \"\",\n        \"description\": \"\"\n      }\n    },\n    {\n      \"column\": \"Genre\",\n      \"properties\": {\n        \"dtype\": \"category\",\n        \"num_unique_values\": 207,\n        \"samples\": [\n          \"Mystery,Romance,Sci-Fi\",\n          \"Drama,Mystery,Sci-Fi\",\n          \"Drama,Mystery,Romance\"\n        ],\n        \"semantic_type\": \"\",\n        \"description\": \"\"\n      }\n    },\n    {\n      \"column\": \"Description\",\n      \"properties\": {\n        \"dtype\": \"string\",\n        \"num_unique_values\": 1000,\n        \"samples\": [\n          \"A lawyer finds himself in over his head when he gets involved in drug trafficking.\",\n          \"A CIA agent on the ground in Jordan hunts down a powerful terrorist leader while being caught between the unclear intentions of his American supervisors and Jordan Intelligence.\",\n          \"A titan of industry is sent to prison after she's caught insider trading. When she emerges ready to rebrand herself as America's latest sweetheart, not everyone she screwed over is so quick to forgive and forget.\"\n        ],\n        \"semantic_type\": \"\",\n        \"description\": \"\"\n      }\n    },\n    {\n      \"column\": \"Director\",\n      \"properties\": {\n        \"dtype\": \"string\",\n        \"num_unique_values\": 644,\n        \"samples\": [\n          \"Patricia Riggen\",\n          \"Gregory Wilson\",\n          \"Chris McCoy\"\n        ],\n        \"semantic_type\": \"\",\n        \"description\": \"\"\n      }\n    },\n    {\n      \"column\": \"Actors\",\n      \"properties\": {\n        \"dtype\": \"string\",\n        \"num_unique_values\": 996,\n        \"samples\": [\n          \"Adrian Titieni, Maria-Victoria Dragus, Lia Bugnar,Malina Manovici\",\n          \"Madina Nalwanga, David Oyelowo, Lupita Nyong'o, Martin Kabanza\",\n          \"Ry\\u00fbnosuke Kamiki, Mone Kamishiraishi, Ry\\u00f4 Narita, Aoi Yuki\"\n        ],\n        \"semantic_type\": \"\",\n        \"description\": \"\"\n      }\n    },\n    {\n      \"column\": \"Year\",\n      \"properties\": {\n        \"dtype\": \"number\",\n        \"std\": 3,\n        \"min\": 2006,\n        \"max\": 2016,\n        \"num_unique_values\": 11,\n        \"samples\": [\n          2011,\n          2014,\n          2010\n        ],\n        \"semantic_type\": \"\",\n        \"description\": \"\"\n      }\n    },\n    {\n      \"column\": \"Runtime (Minutes)\",\n      \"properties\": {\n        \"dtype\": \"number\",\n        \"std\": 18,\n        \"min\": 66,\n        \"max\": 191,\n        \"num_unique_values\": 94,\n        \"samples\": [\n          106,\n          99,\n          146\n        ],\n        \"semantic_type\": \"\",\n        \"description\": \"\"\n      }\n    },\n    {\n      \"column\": \"Rating\",\n      \"properties\": {\n        \"dtype\": \"number\",\n        \"std\": 0.9454287892779637,\n        \"min\": 1.9,\n        \"max\": 9.0,\n        \"num_unique_values\": 55,\n        \"samples\": [\n          7.4,\n          6.1,\n          4.1\n        ],\n        \"semantic_type\": \"\",\n        \"description\": \"\"\n      }\n    },\n    {\n      \"column\": \"Votes\",\n      \"properties\": {\n        \"dtype\": \"number\",\n        \"std\": 188762,\n        \"min\": 61,\n        \"max\": 1791916,\n        \"num_unique_values\": 997,\n        \"samples\": [\n          214994,\n          4370,\n          23713\n        ],\n        \"semantic_type\": \"\",\n        \"description\": \"\"\n      }\n    },\n    {\n      \"column\": \"Revenue (Millions)\",\n      \"properties\": {\n        \"dtype\": \"number\",\n        \"std\": 103.25354047492473,\n        \"min\": 0.0,\n        \"max\": 936.63,\n        \"num_unique_values\": 814,\n        \"samples\": [\n          89.02,\n          23.23,\n          202.85\n        ],\n        \"semantic_type\": \"\",\n        \"description\": \"\"\n      }\n    },\n    {\n      \"column\": \"Metascore\",\n      \"properties\": {\n        \"dtype\": \"number\",\n        \"std\": 17.194757023263836,\n        \"min\": 11.0,\n        \"max\": 100.0,\n        \"num_unique_values\": 84,\n        \"samples\": [\n          27.0,\n          76.0,\n          47.0\n        ],\n        \"semantic_type\": \"\",\n        \"description\": \"\"\n      }\n    }\n  ]\n}"
            }
          },
          "metadata": {},
          "execution_count": 2
        }
      ],
      "source": [
        "import pandas as pd\n",
        "\n",
        "# URL of the dataset\n",
        "url = \"https://raw.githubusercontent.com/laxmimerit/All-CSV-ML-Data-Files-Download/master/IMDB-Movie-Data.csv\"\n",
        "\n",
        "# Load the dataset into a pandas DataFrame\n",
        "df = pd.read_csv(url)\n",
        "\n",
        "# Display the first 5 rows\n",
        "df.head()\n"
      ]
    },
    {
      "cell_type": "code",
      "source": [
        "print(\"Shape:\", df.shape)\n",
        "\n"
      ],
      "metadata": {
        "colab": {
          "base_uri": "https://localhost:8080/"
        },
        "id": "YyUEuxgcuhOz",
        "outputId": "3452dce9-c382-4ca9-87aa-d2feb883d839"
      },
      "execution_count": null,
      "outputs": [
        {
          "output_type": "stream",
          "name": "stdout",
          "text": [
            "Shape: (1000, 12)\n"
          ]
        }
      ]
    },
    {
      "cell_type": "code",
      "source": [
        "print(\"\\nHead:\\n\", df.head())  # Shows the first 5 rows"
      ],
      "metadata": {
        "colab": {
          "base_uri": "https://localhost:8080/"
        },
        "id": "YtOMsP1pu6WE",
        "outputId": "f3bcbc8d-557e-4950-e657-6763eaf4f99f"
      },
      "execution_count": null,
      "outputs": [
        {
          "output_type": "stream",
          "name": "stdout",
          "text": [
            "\n",
            "Head:\n",
            "    Rank                    Title                     Genre  \\\n",
            "0     1  Guardians of the Galaxy   Action,Adventure,Sci-Fi   \n",
            "1     2               Prometheus  Adventure,Mystery,Sci-Fi   \n",
            "2     3                    Split           Horror,Thriller   \n",
            "3     4                     Sing   Animation,Comedy,Family   \n",
            "4     5            Suicide Squad  Action,Adventure,Fantasy   \n",
            "\n",
            "                                         Description              Director  \\\n",
            "0  A group of intergalactic criminals are forced ...            James Gunn   \n",
            "1  Following clues to the origin of mankind, a te...          Ridley Scott   \n",
            "2  Three girls are kidnapped by a man with a diag...    M. Night Shyamalan   \n",
            "3  In a city of humanoid animals, a hustling thea...  Christophe Lourdelet   \n",
            "4  A secret government agency recruits some of th...            David Ayer   \n",
            "\n",
            "                                              Actors  Year  Runtime (Minutes)  \\\n",
            "0  Chris Pratt, Vin Diesel, Bradley Cooper, Zoe S...  2014                121   \n",
            "1  Noomi Rapace, Logan Marshall-Green, Michael Fa...  2012                124   \n",
            "2  James McAvoy, Anya Taylor-Joy, Haley Lu Richar...  2016                117   \n",
            "3  Matthew McConaughey,Reese Witherspoon, Seth Ma...  2016                108   \n",
            "4  Will Smith, Jared Leto, Margot Robbie, Viola D...  2016                123   \n",
            "\n",
            "   Rating   Votes  Revenue (Millions)  Metascore  \n",
            "0     8.1  757074              333.13       76.0  \n",
            "1     7.0  485820              126.46       65.0  \n",
            "2     7.3  157606              138.12       62.0  \n",
            "3     7.2   60545              270.32       59.0  \n",
            "4     6.2  393727              325.02       40.0  \n"
          ]
        }
      ]
    },
    {
      "cell_type": "code",
      "source": [
        "print(\"\\nColumns:\", df.columns.tolist())        # Lists column names.\n",
        "#df.columns gives you the column names of the DataFrame.\n",
        "#.tolist() - This converts the Index object (which is not a plain list) into a regular Python list."
      ],
      "metadata": {
        "colab": {
          "base_uri": "https://localhost:8080/"
        },
        "id": "ViP0uQ6EvLux",
        "outputId": "55001b2d-770a-4856-9b30-547131ce9ec1"
      },
      "execution_count": null,
      "outputs": [
        {
          "output_type": "stream",
          "name": "stdout",
          "text": [
            "\n",
            "Columns: ['Rank', 'Title', 'Genre', 'Description', 'Director', 'Actors', 'Year', 'Runtime (Minutes)', 'Rating', 'Votes', 'Revenue (Millions)', 'Metascore']\n"
          ]
        }
      ]
    },
    {
      "cell_type": "code",
      "source": [
        "print(\"\\nData types:\\n\", df.dtypes)             # Shows datatype of each column"
      ],
      "metadata": {
        "colab": {
          "base_uri": "https://localhost:8080/"
        },
        "id": "k1-s7RAovP_A",
        "outputId": "6930c297-e376-43fa-ea87-52f8802579bb"
      },
      "execution_count": null,
      "outputs": [
        {
          "output_type": "stream",
          "name": "stdout",
          "text": [
            "\n",
            "Data types:\n",
            " Rank                    int64\n",
            "Title                  object\n",
            "Genre                  object\n",
            "Description            object\n",
            "Director               object\n",
            "Actors                 object\n",
            "Year                    int64\n",
            "Runtime (Minutes)       int64\n",
            "Rating                float64\n",
            "Votes                   int64\n",
            "Revenue (Millions)    float64\n",
            "Metascore             float64\n",
            "dtype: object\n"
          ]
        }
      ]
    },
    {
      "cell_type": "code",
      "source": [
        "print(\"\\nMissing values:\\n\", df.isnull().sum()) # Counts missing values per column\n",
        "#df.isnull() -This checks the entire DataFrame for missing values (nulls). It returns a DataFrame of the same shape, but with True where the value is missing (NaN) and False where it's not."
      ],
      "metadata": {
        "colab": {
          "base_uri": "https://localhost:8080/"
        },
        "id": "hGK9mU7kvTrE",
        "outputId": "b1143d4a-ba8f-4ca5-c5d5-9f43813ff18f"
      },
      "execution_count": null,
      "outputs": [
        {
          "output_type": "stream",
          "name": "stdout",
          "text": [
            "\n",
            "Missing values:\n",
            " Rank                    0\n",
            "Title                   0\n",
            "Genre                   0\n",
            "Description             0\n",
            "Director                0\n",
            "Actors                  0\n",
            "Year                    0\n",
            "Runtime (Minutes)       0\n",
            "Rating                  0\n",
            "Votes                   0\n",
            "Revenue (Millions)    128\n",
            "Metascore              64\n",
            "dtype: int64\n"
          ]
        }
      ]
    },
    {
      "cell_type": "code",
      "source": [
        "df.drop_duplicates(inplace=True)\n",
        "print(\"\\nShape after removing duplicates:\",df.shape)\n",
        "#inplace=True. This means the change is made directly in the original DataFrame (df), and it doesn’t return a new DataFrame.\n",
        "#If you write inplace=False (or don’t write it at all), then it returns a new DataFrame with duplicates removed, and the original df stays the same."
      ],
      "metadata": {
        "colab": {
          "base_uri": "https://localhost:8080/"
        },
        "id": "7m70uHARviTf",
        "outputId": "32de1f8e-b40f-47d2-801e-6c582d36970a"
      },
      "execution_count": null,
      "outputs": [
        {
          "output_type": "stream",
          "name": "stdout",
          "text": [
            "\n",
            "Shape after removing duplicates: (1000, 13)\n"
          ]
        }
      ]
    },
    {
      "cell_type": "code",
      "source": [
        "df.rename(columns={\"Title\": \"Movie_Title\"}, inplace=True)\n",
        "#This tells Pandas:👉 Rename the column named \"Title\" to \"Movie_Title\".\n",
        "\n",
        "\n"
      ],
      "metadata": {
        "id": "XkerzLW4v3lh"
      },
      "execution_count": null,
      "outputs": []
    },
    {
      "cell_type": "markdown",
      "source": [
        "# Get unique genres"
      ],
      "metadata": {
        "id": "ixLUZoyTuD84"
      }
    },
    {
      "cell_type": "code",
      "source": [
        "unique_genres = set() #Creates an empty set to store unique genres (sets automatically remove duplicates).\n",
        "\n",
        "for genre_string in df['Genre'].dropna(): #Loops through each non-empty genre string (like \"Action, Comedy\").\n",
        "# df['Genre'] - This accesses the Genre column in your DataFrame. It returns a Series (a one-dimensional array-like structure) containing all the values under the 'Genre' column.\n",
        "#.dropna() - This function removes any NaN (missing) values from the Series.\n",
        "\n",
        "    for genre in genre_string.split(','): #for ... in ...: This is a for loop.It will iterate through each item in a list.\n",
        "    #genre_string - This is a string that contains multiple genres separated by commas. Example: \"Action, Comedy, Drama\" .split(',') This splits the string into a list of genres using , as the separator. Example: \"Action, Comedy, Drama\".split(',') becomes ['Action', ' Comedy', ' Drama']\n",
        "\n",
        "        unique_genres.add(genre.strip()) #Adds each genre to the set after removing extra spaces with strip().\n",
        "\n",
        "print(\"Unique genres:\", list(unique_genres))\n",
        "\n"
      ],
      "metadata": {
        "colab": {
          "base_uri": "https://localhost:8080/"
        },
        "id": "iQXe5n6UwGsX",
        "outputId": "5d827147-2b22-46f3-e011-b535dc31f47f"
      },
      "execution_count": 3,
      "outputs": [
        {
          "output_type": "stream",
          "name": "stdout",
          "text": [
            "Unique genres: ['Fantasy', 'Biography', 'Western', 'Crime', 'Sci-Fi', 'Music', 'Mystery', 'War', 'Action', 'Sport', 'Drama', 'Adventure', 'Thriller', 'Family', 'Horror', 'Animation', 'History', 'Comedy', 'Romance', 'Musical']\n"
          ]
        }
      ]
    },
    {
      "cell_type": "markdown",
      "source": [
        "# Extract number of genres per movie"
      ],
      "metadata": {
        "id": "V-67R6Z2N_NW"
      }
    },
    {
      "cell_type": "code",
      "source": [
        "df['Genre_Count'] = df['Genre'].str.count(',') + 1\n",
        "print(df[['Genre', 'Genre_Count']])\n"
      ],
      "metadata": {
        "colab": {
          "base_uri": "https://localhost:8080/"
        },
        "id": "7RafQoTUyHwi",
        "outputId": "cc719a56-52b8-4066-da79-4ad22149682d"
      },
      "execution_count": 4,
      "outputs": [
        {
          "output_type": "stream",
          "name": "stdout",
          "text": [
            "                        Genre  Genre_Count\n",
            "0     Action,Adventure,Sci-Fi            3\n",
            "1    Adventure,Mystery,Sci-Fi            3\n",
            "2             Horror,Thriller            2\n",
            "3     Animation,Comedy,Family            3\n",
            "4    Action,Adventure,Fantasy            3\n",
            "..                        ...          ...\n",
            "995       Crime,Drama,Mystery            3\n",
            "996                    Horror            1\n",
            "997       Drama,Music,Romance            3\n",
            "998          Adventure,Comedy            2\n",
            "999     Comedy,Family,Fantasy            3\n",
            "\n",
            "[1000 rows x 2 columns]\n"
          ]
        }
      ]
    },
    {
      "cell_type": "markdown",
      "source": [
        "# Handle missing values in 'Revenue (Millions)' and 'Metascore"
      ],
      "metadata": {
        "id": "sUXX9zPjOYsC"
      }
    },
    {
      "cell_type": "code",
      "source": [
        "df['Revenue (Millions)'].fillna(df['Revenue (Millions)'].median(), inplace=True)\n",
        "df['Metascore'].fillna(df['Metascore'].median(), inplace=True)\n",
        "#You're accessing a copy of the column and modifying it inplace — which\n",
        "#means changes might not apply to the original DataFrame, or might behave inconsistently later.\n",
        "\n"
      ],
      "metadata": {
        "colab": {
          "base_uri": "https://localhost:8080/"
        },
        "id": "rY2eECZyyMa7",
        "outputId": "47df113a-249f-483d-d072-b7ea94ae326c"
      },
      "execution_count": null,
      "outputs": [
        {
          "output_type": "stream",
          "name": "stderr",
          "text": [
            "/tmp/ipython-input-18-3035495983.py:1: FutureWarning: A value is trying to be set on a copy of a DataFrame or Series through chained assignment using an inplace method.\n",
            "The behavior will change in pandas 3.0. This inplace method will never work because the intermediate object on which we are setting values always behaves as a copy.\n",
            "\n",
            "For example, when doing 'df[col].method(value, inplace=True)', try using 'df.method({col: value}, inplace=True)' or df[col] = df[col].method(value) instead, to perform the operation inplace on the original object.\n",
            "\n",
            "\n",
            "  df['Revenue (Millions)'].fillna(df['Revenue (Millions)'].median(), inplace=True)\n",
            "/tmp/ipython-input-18-3035495983.py:2: FutureWarning: A value is trying to be set on a copy of a DataFrame or Series through chained assignment using an inplace method.\n",
            "The behavior will change in pandas 3.0. This inplace method will never work because the intermediate object on which we are setting values always behaves as a copy.\n",
            "\n",
            "For example, when doing 'df[col].method(value, inplace=True)', try using 'df.method({col: value}, inplace=True)' or df[col] = df[col].method(value) instead, to perform the operation inplace on the original object.\n",
            "\n",
            "\n",
            "  df['Metascore'].fillna(df['Metascore'].median(), inplace=True)\n"
          ]
        }
      ]
    },
    {
      "cell_type": "markdown",
      "source": [
        "correct code"
      ],
      "metadata": {
        "id": "SwZX6nRMOfAo"
      }
    },
    {
      "cell_type": "code",
      "source": [
        "#soltn : Instead of using inplace=True, assign the result back to the column directly:This\n",
        "#is the recommended and future-safe way to handle missing values without any warning.\n",
        "df['Revenue (Millions)'] = df['Revenue (Millions)'].fillna(df['Revenue (Millions)'].median())\n",
        "df['Metascore'] = df['Metascore'].fillna(df['Metascore'].median())\n",
        "print(df[['Revenue (Millions)', 'Metascore']].head(10))\n",
        "#This code handles missing data (NaN values) in the 'Revenue (Millions)' and 'Metascore' columns of a DataFrame df. Missing data can cause errors or misleading results in analysis, so it's often filled (or imputed) with\n",
        "# a meaningful value. Here, the code uses the median of each column to fill in the missing values. The median is the middle value when all data points are\n",
        "#sorted and is a good choice because it is not affected by extreme outliers, unlike the mean.\n",
        "\n",
        "#In the first line, the code replaces all NaN values in the 'Revenue (Millions)' column with the median revenue calculated from the existing (non-missing) values in that column.\n",
        "#The second line does the same for the 'Metascore' column—filling all missing metascores with the column's median score. This ensures that the DataFrame has no missing\n",
        "#values in these two important columns, which makes the data suitable for further analysis or machine learning models.\n",
        "\n",
        "#Finally, the third line prints the first 10 rows of the cleaned 'Revenue (Millions)' and 'Metascore' columns using .head(10), allowing you to inspect the changes and confirm that the missing values\n",
        "# have been handled appropriately."
      ],
      "metadata": {
        "colab": {
          "base_uri": "https://localhost:8080/"
        },
        "id": "PsU_75n8y5hA",
        "outputId": "c32fa941-fa3a-4c18-f17b-83c693d9d42f"
      },
      "execution_count": null,
      "outputs": [
        {
          "output_type": "stream",
          "name": "stdout",
          "text": [
            "   Revenue (Millions)  Metascore\n",
            "0             333.130       76.0\n",
            "1             126.460       65.0\n",
            "2             138.120       62.0\n",
            "3             270.320       59.0\n",
            "4             325.020       40.0\n",
            "5              45.130       42.0\n",
            "6             151.060       93.0\n",
            "7              47.985       71.0\n",
            "8               8.010       78.0\n",
            "9             100.010       41.0\n"
          ]
        }
      ]
    },
    {
      "cell_type": "markdown",
      "source": [
        "# Top 5 movies by Rating"
      ],
      "metadata": {
        "id": "pCtDpBQOPBgu"
      }
    },
    {
      "cell_type": "code",
      "source": [
        "top5_rating = df.sort_values(by='Rating', ascending=False).head(5)\n",
        "print(\"\\nTop 5 Movies by Rating:\\n\", top5_rating[['Movie_Title', 'Rating']])\n",
        "#This code identifies and displays the top 5 highest-rated movies in the DataFrame `df`. It first sorts the DataFrame by the `'Rating'` column in descending order using `sort_values(by='Rating', ascending=False)`,\n",
        "#so that the movies with the highest ratings appear at the top. Then, `.head(5)` selects the first five rows from this sorted DataFrame, effectively capturing the top 5 movies based on their rating. These rows are\n",
        "#\\\\ stored in the variable `top5_rating`. Finally, `print(top5_rating[['Movie_Title', 'Rating']])` displays only the movie titles and their corresponding ratings, providing a clear view of the highest-rated movies in the dataset.\n",
        "\n",
        "# Top 5 movies by rating"
      ],
      "metadata": {
        "colab": {
          "base_uri": "https://localhost:8080/"
        },
        "id": "bAva5vyx3bHR",
        "outputId": "1d37134c-fc74-444a-9fea-17a4e4d0e8e7"
      },
      "execution_count": null,
      "outputs": [
        {
          "output_type": "stream",
          "name": "stdout",
          "text": [
            "\n",
            "Top 5 Movies by Rating:\n",
            "           Movie_Title  Rating\n",
            "54    The Dark Knight     9.0\n",
            "80          Inception     8.8\n",
            "117            Dangal     8.8\n",
            "36       Interstellar     8.6\n",
            "249  The Intouchables     8.6\n"
          ]
        }
      ]
    },
    {
      "cell_type": "markdown",
      "source": [
        "# Movies with highest/lowest revenue"
      ],
      "metadata": {
        "id": "pyUxi8okPFw4"
      }
    },
    {
      "cell_type": "code",
      "source": [
        "#Movies with highest and lowest revenue\n",
        "# Find the row with highest revenue\n",
        "highest_revenue = df[df['Revenue (Millions)'] == df['Revenue (Millions)'].max()]\n",
        "print(\"Movie(s) with Highest Revenue:\")\n",
        "print(highest_revenue)\n",
        "\n",
        "# Find the row with lowest revenue\n",
        "lowest_revenue = df[df['Revenue (Millions)'] == df['Revenue (Millions)'].min()]\n",
        "print(\"\\nMovie(s) with Lowest Revenue:\")\n",
        "print(lowest_revenue)\n",
        "\n",
        "#This code is used to find and display the movie(s) with the **highest** and **lowest revenue** from the `'Revenue (Millions)'` column in the DataFrame `df`.\n",
        "# First, it identifies the **maximum revenue value** using `df['Revenue (Millions)'].max()` and then filters the DataFrame to get the row(s) where the revenue\n",
        "# matches this maximum value. The result is stored in `highest_revenue` and printed with a label. Similarly, it finds the **minimum revenue value** using `.min()`\n",
        "# and filters the DataFrame for row(s) with that value, storing the result in `lowest_revenue` and printing it. This approach ensures that all movies with the exact\n",
        "#highest or lowest revenue are displayed, even if multiple movies share the same revenue figure.\n"
      ],
      "metadata": {
        "colab": {
          "base_uri": "https://localhost:8080/"
        },
        "id": "jdeQDh0a44wG",
        "outputId": "b5344449-8a78-496b-c432-a65f04bbfbc6"
      },
      "execution_count": null,
      "outputs": [
        {
          "output_type": "stream",
          "name": "stdout",
          "text": [
            "Movie(s) with Highest Revenue:\n",
            "    Rank                                 Movie_Title  \\\n",
            "50    51  Star Wars: Episode VII - The Force Awakens   \n",
            "\n",
            "                       Genre  \\\n",
            "50  Action,Adventure,Fantasy   \n",
            "\n",
            "                                          Description     Director  \\\n",
            "50  Three decades after the defeat of the Galactic...  J.J. Abrams   \n",
            "\n",
            "                                               Actors  Year  \\\n",
            "50  Daisy Ridley, John Boyega, Oscar Isaac, Domhna...  2015   \n",
            "\n",
            "    Runtime (Minutes)  Rating   Votes  Revenue (Millions)  Metascore  \\\n",
            "50                136     8.1  661608              936.63       81.0   \n",
            "\n",
            "    Genre_Count  \n",
            "50            3  \n",
            "\n",
            "Movie(s) with Lowest Revenue:\n",
            "     Rank       Movie_Title                 Genre  \\\n",
            "231   232  A Kind of Murder  Crime,Drama,Thriller   \n",
            "\n",
            "                                           Description      Director  \\\n",
            "231  In 1960s New York, Walter Stackhouse is a succ...  Andy Goddard   \n",
            "\n",
            "                                                Actors  Year  \\\n",
            "231  Patrick Wilson, Jessica Biel, Haley Bennett, V...  2016   \n",
            "\n",
            "     Runtime (Minutes)  Rating  Votes  Revenue (Millions)  Metascore  \\\n",
            "231                 95     5.2   3305                 0.0       50.0   \n",
            "\n",
            "     Genre_Count  \n",
            "231            3  \n"
          ]
        }
      ]
    },
    {
      "cell_type": "markdown",
      "source": [
        "# Avg. rating by Director\n"
      ],
      "metadata": {
        "id": "aBald-tDQoyI"
      }
    },
    {
      "cell_type": "code",
      "source": [
        "# Calculate average rating per director\n",
        "avg_rating_director = df.groupby('Director')['Rating'].mean().sort_values(ascending=False)\n",
        "\n",
        "# Display the result\n",
        "print(\"Average Rating by Director (High to Low):\")\n",
        "print(avg_rating_director)\n",
        "#This code calculates and displays the **average movie rating for each director**, sorted from highest to lowest. It uses `groupby('Director')` to group all rows in the DataFrame `df`\n",
        " #by the director's name. Then, for each group (i.e., each director), it computes the **mean rating** using `['Rating'].mean()`. The resulting series contains directors as the index and\n",
        " #their corresponding average movie ratings as the values. By applying `.sort_values(ascending=False)`, the series is sorted in **descending order**, so directors with the highest average\n",
        " #ratings appear first. Finally, the sorted list of directors and their average ratings is printed to show who consistently produced the highest-rated films.\n",
        "\n"
      ],
      "metadata": {
        "colab": {
          "base_uri": "https://localhost:8080/"
        },
        "id": "6wnuogrP5zVn",
        "outputId": "69876232-089b-43ed-cec2-495ca77182ca"
      },
      "execution_count": null,
      "outputs": [
        {
          "output_type": "stream",
          "name": "stdout",
          "text": [
            "Average Rating by Director (High to Low):\n",
            "Director\n",
            "Nitesh Tiwari                       8.80\n",
            "Christopher Nolan                   8.68\n",
            "Olivier Nakache                     8.60\n",
            "Makoto Shinkai                      8.60\n",
            "Florian Henckel von Donnersmarck    8.50\n",
            "                                    ... \n",
            "Micheal Bafaro                      3.50\n",
            "Jonathan Holbrook                   3.20\n",
            "Shawn Burkett                       2.70\n",
            "James Wong                          2.70\n",
            "Jason Friedberg                     1.90\n",
            "Name: Rating, Length: 644, dtype: float64\n"
          ]
        }
      ]
    },
    {
      "cell_type": "markdown",
      "source": [
        "# Movies per year\n"
      ],
      "metadata": {
        "id": "ayIkUbSNRC8B"
      }
    },
    {
      "cell_type": "code",
      "source": [
        "movies_per_year = df['Year'].value_counts().sort_index()\n",
        "print(\"Number of Movies Released Each Year:\")\n",
        "print(movies_per_year)\n",
        "#This code calculates and displays the **number of movies released each year** based on the `'Year'` column in the DataFrame `df`. It uses `value_counts()` to count how many\n",
        "#times each year appears in the column, which effectively gives the number of movies released in each specific year. Since `value_counts()` returns the counts in descending order\n",
        "#by default, `.sort_index()` is used to sort the result by year in ascending order, making it easier to read chronologically. The result, stored in `movies_per_year`, is then printed\n",
        "#to show a clear year-wise distribution of movie releases.\n"
      ],
      "metadata": {
        "colab": {
          "base_uri": "https://localhost:8080/"
        },
        "id": "hNhQzk6kE3Um",
        "outputId": "9dabd0d9-453d-4ade-ad52-95db53ed673a"
      },
      "execution_count": null,
      "outputs": [
        {
          "output_type": "stream",
          "name": "stdout",
          "text": [
            "Number of Movies Released Each Year:\n",
            "Year\n",
            "2006     44\n",
            "2007     53\n",
            "2008     52\n",
            "2009     51\n",
            "2010     60\n",
            "2011     63\n",
            "2012     64\n",
            "2013     91\n",
            "2014     98\n",
            "2015    127\n",
            "2016    297\n",
            "Name: count, dtype: int64\n"
          ]
        }
      ]
    },
    {
      "cell_type": "markdown",
      "source": [
        "# Movies with rating > 8 & revenue > 100M"
      ],
      "metadata": {
        "id": "ZDz_Oec9RHr7"
      }
    },
    {
      "cell_type": "code",
      "source": [
        "high_rating_revenue = df[(df['Rating'] > 8) & (df['Revenue (Millions)'] > 100)]\n",
        "print(\"Movies with Rating > 8 and Revenue > $100 Million:\")\n",
        "print(high_rating_revenue)\n",
        "#This code filters and displays movies from the DataFrame `df` that have both a **rating greater than 8** and a **revenue over \\$100 million**.\n",
        "#It uses a **boolean condition** with two parts: `df['Rating'] > 8` checks for movies with high ratings, and `df['Revenue (Millions)'] > 100` checks\n",
        "# for movies with high box office revenue. The `&` operator combines these conditions, and the entire expression is enclosed in parentheses to ensure correct evaluation.\n",
        "# The resulting DataFrame, `high_rating_revenue`, contains only the rows that meet both criteria. Finally, the code prints these movies, helping to identify films that are not\n",
        "# only critically acclaimed but also commercially successful.\n",
        "\n"
      ],
      "metadata": {
        "colab": {
          "base_uri": "https://localhost:8080/"
        },
        "id": "GgZa6-CIFFMp",
        "outputId": "220419d9-1c99-4ec9-c8a2-567022375dc2"
      },
      "execution_count": null,
      "outputs": [
        {
          "output_type": "stream",
          "name": "stdout",
          "text": [
            "Movies with Rating > 8 and Revenue > $100 Million:\n",
            "     Rank                                   Movie_Title  \\\n",
            "0       1                       Guardians of the Galaxy   \n",
            "6       7                                    La La Land   \n",
            "36     37                                  Interstellar   \n",
            "50     51    Star Wars: Episode VII - The Force Awakens   \n",
            "54     55                               The Dark Knight   \n",
            "67     68                            Mad Max: Fury Road   \n",
            "74     75                                      Zootopia   \n",
            "76     77                                  The Avengers   \n",
            "77     78                          Inglourious Basterds   \n",
            "80     81                                     Inception   \n",
            "82     83                       The Wolf of Wall Street   \n",
            "83     84                                     Gone Girl   \n",
            "92     93                                      The Help   \n",
            "99    100                                  The Departed   \n",
            "114   115  Harry Potter and the Deathly Hallows: Part 2   \n",
            "124   125                         The Dark Knight Rises   \n",
            "138   139                                Shutter Island   \n",
            "144   145                              Django Unchained   \n",
            "241   242                                    Inside Out   \n",
            "427   428                          The Bourne Ultimatum   \n",
            "499   500                                            Up   \n",
            "634   635                                        WALL·E   \n",
            "645   646                                   Gran Torino   \n",
            "688   689                                   Toy Story 3   \n",
            "772   773                      How to Train Your Dragon   \n",
            "\n",
            "                          Genre  \\\n",
            "0       Action,Adventure,Sci-Fi   \n",
            "6            Comedy,Drama,Music   \n",
            "36       Adventure,Drama,Sci-Fi   \n",
            "50     Action,Adventure,Fantasy   \n",
            "54           Action,Crime,Drama   \n",
            "67      Action,Adventure,Sci-Fi   \n",
            "74   Animation,Adventure,Comedy   \n",
            "76                Action,Sci-Fi   \n",
            "77          Adventure,Drama,War   \n",
            "80      Action,Adventure,Sci-Fi   \n",
            "82       Biography,Comedy,Crime   \n",
            "83          Crime,Drama,Mystery   \n",
            "92                        Drama   \n",
            "99         Crime,Drama,Thriller   \n",
            "114     Adventure,Drama,Fantasy   \n",
            "124             Action,Thriller   \n",
            "138            Mystery,Thriller   \n",
            "144               Drama,Western   \n",
            "241  Animation,Adventure,Comedy   \n",
            "427     Action,Mystery,Thriller   \n",
            "499  Animation,Adventure,Comedy   \n",
            "634  Animation,Adventure,Family   \n",
            "645                       Drama   \n",
            "688  Animation,Adventure,Comedy   \n",
            "772  Animation,Action,Adventure   \n",
            "\n",
            "                                           Description           Director  \\\n",
            "0    A group of intergalactic criminals are forced ...         James Gunn   \n",
            "6    A jazz pianist falls for an aspiring actress i...    Damien Chazelle   \n",
            "36   A team of explorers travel through a wormhole ...  Christopher Nolan   \n",
            "50   Three decades after the defeat of the Galactic...        J.J. Abrams   \n",
            "54   When the menace known as the Joker wreaks havo...  Christopher Nolan   \n",
            "67   A woman rebels against a tyrannical ruler in p...      George Miller   \n",
            "74   In a city of anthropomorphic animals, a rookie...       Byron Howard   \n",
            "76   Earth's mightiest heroes must come together an...        Joss Whedon   \n",
            "77   In Nazi-occupied France during World War II, a...  Quentin Tarantino   \n",
            "80   A thief, who steals corporate secrets through ...  Christopher Nolan   \n",
            "82   Based on the true story of Jordan Belfort, fro...    Martin Scorsese   \n",
            "83   With his wife's disappearance having become th...      David Fincher   \n",
            "92   An aspiring author during the civil rights mov...        Tate Taylor   \n",
            "99   An undercover cop and a mole in the police att...    Martin Scorsese   \n",
            "114  Harry, Ron and Hermione search for Voldemort's...        David Yates   \n",
            "124  Eight years after the Joker's reign of anarchy...  Christopher Nolan   \n",
            "138  In 1954, a U.S. marshal investigates the disap...    Martin Scorsese   \n",
            "144  With the help of a German bounty hunter , a fr...  Quentin Tarantino   \n",
            "241  After young Riley is uprooted from her Midwest...        Pete Docter   \n",
            "427  Jason Bourne dodges a ruthless CIA official an...    Paul Greengrass   \n",
            "499  Seventy-eight year old Carl Fredricksen travel...        Pete Docter   \n",
            "634  In the distant future, a small waste-collectin...     Andrew Stanton   \n",
            "645  Disgruntled Korean War veteran Walt Kowalski s...     Clint Eastwood   \n",
            "688  The toys are mistakenly delivered to a day-car...        Lee Unkrich   \n",
            "772  A hapless young Viking who aspires to hunt dra...       Dean DeBlois   \n",
            "\n",
            "                                                Actors  Year  \\\n",
            "0    Chris Pratt, Vin Diesel, Bradley Cooper, Zoe S...  2014   \n",
            "6    Ryan Gosling, Emma Stone, Rosemarie DeWitt, J....  2016   \n",
            "36   Matthew McConaughey, Anne Hathaway, Jessica Ch...  2014   \n",
            "50   Daisy Ridley, John Boyega, Oscar Isaac, Domhna...  2015   \n",
            "54   Christian Bale, Heath Ledger, Aaron Eckhart,Mi...  2008   \n",
            "67   Tom Hardy, Charlize Theron, Nicholas Hoult, Zo...  2015   \n",
            "74   Ginnifer Goodwin, Jason Bateman, Idris Elba, J...  2016   \n",
            "76   Robert Downey Jr., Chris Evans, Scarlett Johan...  2012   \n",
            "77   Brad Pitt, Diane Kruger, Eli Roth,Mélanie Laurent  2009   \n",
            "80   Leonardo DiCaprio, Joseph Gordon-Levitt, Ellen...  2010   \n",
            "82   Leonardo DiCaprio, Jonah Hill, Margot Robbie,M...  2013   \n",
            "83   Ben Affleck, Rosamund Pike, Neil Patrick Harri...  2014   \n",
            "92   Emma Stone, Viola Davis, Octavia Spencer, Bryc...  2011   \n",
            "99   Leonardo DiCaprio, Matt Damon, Jack Nicholson,...  2006   \n",
            "114  Daniel Radcliffe, Emma Watson, Rupert Grint, M...  2011   \n",
            "124  Christian Bale, Tom Hardy, Anne Hathaway,Gary ...  2012   \n",
            "138  Leonardo DiCaprio, Emily Mortimer, Mark Ruffal...  2010   \n",
            "144  Jamie Foxx, Christoph Waltz, Leonardo DiCaprio...  2012   \n",
            "241  Amy Poehler, Bill Hader, Lewis Black, Mindy Ka...  2015   \n",
            "427  Matt Damon, Edgar Ramírez, Joan Allen, Julia S...  2007   \n",
            "499  Edward Asner, Jordan Nagai, John Ratzenberger,...  2009   \n",
            "634  Ben Burtt, Elissa Knight, Jeff Garlin, Fred Wi...  2008   \n",
            "645  Clint Eastwood, Bee Vang, Christopher Carley,A...  2008   \n",
            "688      Tom Hanks, Tim Allen, Joan Cusack, Ned Beatty  2010   \n",
            "772  Jay Baruchel, Gerard Butler,Christopher Mintz-...  2010   \n",
            "\n",
            "     Runtime (Minutes)  Rating    Votes  Revenue (Millions)  Metascore  \\\n",
            "0                  121     8.1   757074              333.13       76.0   \n",
            "6                  128     8.3   258682              151.06       93.0   \n",
            "36                 169     8.6  1047747              187.99       74.0   \n",
            "50                 136     8.1   661608              936.63       81.0   \n",
            "54                 152     9.0  1791916              533.32       82.0   \n",
            "67                 120     8.1   632842              153.63       90.0   \n",
            "74                 108     8.1   296853              341.26       78.0   \n",
            "76                 143     8.1  1045588              623.28       69.0   \n",
            "77                 153     8.3   959065              120.52       69.0   \n",
            "80                 148     8.8  1583625              292.57       74.0   \n",
            "82                 180     8.2   865134              116.87       75.0   \n",
            "83                 149     8.1   636243              167.74       79.0   \n",
            "92                 146     8.1   342429              169.71       62.0   \n",
            "99                 151     8.5   937414              132.37       85.0   \n",
            "114                130     8.1   590595              380.96       87.0   \n",
            "124                164     8.5  1222645              448.13       78.0   \n",
            "138                138     8.1   855604              127.97       63.0   \n",
            "144                165     8.4  1039115              162.80       81.0   \n",
            "241                 95     8.2   416689              356.45       94.0   \n",
            "427                115     8.1   525700              227.14       85.0   \n",
            "499                 96     8.3   722203              292.98       88.0   \n",
            "634                 98     8.4   776897              223.81       59.5   \n",
            "645                116     8.2   595779              148.09       59.5   \n",
            "688                103     8.3   586669              414.98       92.0   \n",
            "772                 98     8.1   523893              217.39       74.0   \n",
            "\n",
            "     Genre_Count  \n",
            "0              3  \n",
            "6              3  \n",
            "36             3  \n",
            "50             3  \n",
            "54             3  \n",
            "67             3  \n",
            "74             3  \n",
            "76             2  \n",
            "77             3  \n",
            "80             3  \n",
            "82             3  \n",
            "83             3  \n",
            "92             1  \n",
            "99             3  \n",
            "114            3  \n",
            "124            2  \n",
            "138            2  \n",
            "144            2  \n",
            "241            3  \n",
            "427            3  \n",
            "499            3  \n",
            "634            3  \n",
            "645            1  \n",
            "688            3  \n",
            "772            3  \n"
          ]
        }
      ]
    },
    {
      "cell_type": "markdown",
      "source": [
        "# Group by Director: avg Rating, Revenue\n"
      ],
      "metadata": {
        "id": "sxmFu4MqRbwD"
      }
    },
    {
      "cell_type": "code",
      "source": [
        "group_director = df.groupby('Director')[['Rating', 'Revenue (Millions)']].mean().sort_values(by='Rating', ascending=False)\n",
        "print(\"Average Rating and Revenue by Director (Sorted by Rating):\")\n",
        "print(group_director)\n",
        "#This code calculates the **average rating and average revenue** for each director in the DataFrame `df`, and then sorts the results by average rating in **descending order**.\n",
        "#It starts with `df.groupby('Director')` to group all rows by director name. From each group, it selects the `'Rating'` and `'Revenue (Millions)'` columns using `[['Rating', 'Revenue (Millions)']]`,\n",
        "#and computes the mean for both using `.mean()`. This gives a summary table where each row represents a director and shows their average movie rating and revenue. The `.sort_values(by='Rating', ascending=False)`\n",
        "#part sorts this table so that directors with the highest average ratings appear at the top. Finally, the sorted result is printed, allowing you to see which directors consistently make high-quality and potentially\n",
        "#high-earning films.\n"
      ],
      "metadata": {
        "colab": {
          "base_uri": "https://localhost:8080/"
        },
        "id": "AdKhlB-zFYna",
        "outputId": "82c9cef2-a9d6-4090-eabc-9c5872f5a0d4"
      },
      "execution_count": null,
      "outputs": [
        {
          "output_type": "stream",
          "name": "stdout",
          "text": [
            "Average Rating and Revenue by Director (Sorted by Rating):\n",
            "                                  Rating  Revenue (Millions)\n",
            "Director                                                    \n",
            "Nitesh Tiwari                       8.80              11.150\n",
            "Christopher Nolan                   8.68             303.018\n",
            "Olivier Nakache                     8.60              13.180\n",
            "Makoto Shinkai                      8.60               4.680\n",
            "Florian Henckel von Donnersmarck    8.50              11.280\n",
            "...                                  ...                 ...\n",
            "Micheal Bafaro                      3.50              47.985\n",
            "Jonathan Holbrook                   3.20              47.985\n",
            "Shawn Burkett                       2.70              47.985\n",
            "James Wong                          2.70               9.350\n",
            "Jason Friedberg                     1.90              14.170\n",
            "\n",
            "[644 rows x 2 columns]\n"
          ]
        }
      ]
    },
    {
      "cell_type": "markdown",
      "source": [
        "# Group by Year: count, avg Rating"
      ],
      "metadata": {
        "id": "NGCGSY9ZRmj2"
      }
    },
    {
      "cell_type": "code",
      "source": [
        "# Grouping and aggregating\n",
        "group_year = df.groupby('Year').agg({\n",
        "    'Movie_Title': 'count',\n",
        "    'Rating': 'mean'\n",
        "}).rename(columns={\n",
        "    'Movie_Title': 'Movie_Count',\n",
        "    'Rating': 'Avg_Rating'\n",
        "})\n",
        "\n",
        "# Display the result\n",
        "print(\"Movies Released Per Year with Average Rating:\")\n",
        "print(group_year)\n",
        "#This code groups the movie dataset `df` by **year** and calculates two key statistics for each year: the **number of movies released** and the **average rating** of those movies.\n",
        " #Using `df.groupby('Year')`, the data is grouped by the `'Year'` column. Then, the `.agg()` function applies aggregation operations: `'Movie_Title': 'count'` counts how many movies\n",
        "  #were released in each year, and `'Rating': 'mean'` computes the average rating of the movies for that year. After aggregation, the `.rename()` method is used to rename the columns\n",
        "   #to `'Movie_Count'` and `'Avg_Rating'` for better readability. The result is stored in the `group_year` DataFrame and printed, showing a clear summary of how many movies were released\n",
        "   #each year along with their average audience ratings.\n"
      ],
      "metadata": {
        "colab": {
          "base_uri": "https://localhost:8080/"
        },
        "id": "aAdZ2s5uFpk6",
        "outputId": "386c211d-4edf-4470-8032-456914b91c99"
      },
      "execution_count": null,
      "outputs": [
        {
          "output_type": "stream",
          "name": "stdout",
          "text": [
            "Movies Released Per Year with Average Rating:\n",
            "      Movie_Count  Avg_Rating\n",
            "Year                         \n",
            "2006           44    7.125000\n",
            "2007           53    7.133962\n",
            "2008           52    6.784615\n",
            "2009           51    6.960784\n",
            "2010           60    6.826667\n",
            "2011           63    6.838095\n",
            "2012           64    6.925000\n",
            "2013           91    6.812088\n",
            "2014           98    6.837755\n",
            "2015          127    6.602362\n",
            "2016          297    6.436700\n"
          ]
        }
      ]
    },
    {
      "cell_type": "markdown",
      "source": [
        "# Create a new column Profitability:\n",
        "a) Revenue divided by Duration\n",
        " b) Find top 10 most profitable movies"
      ],
      "metadata": {
        "id": "vNcM8WXrSJxT"
      }
    },
    {
      "cell_type": "code",
      "source": [
        "df['Profitability'] = df['Revenue (Millions)'] / df['Runtime (Minutes)']\n",
        "top10_profitable = df.sort_values(by='Profitability', ascending=False).head(10)\n",
        "\n",
        "print(\"Top 10 Most Profitable Movies (Revenue/Runtime):\")\n",
        "print(top10_profitable[['Movie_Title', 'Profitability']])"
      ],
      "metadata": {
        "colab": {
          "base_uri": "https://localhost:8080/"
        },
        "id": "uW_vCh6UF2hG",
        "outputId": "cdcb5f3f-6522-4337-f864-54c83779b3d7"
      },
      "execution_count": null,
      "outputs": [
        {
          "output_type": "stream",
          "name": "stdout",
          "text": [
            "Top 10 Most Profitable Movies (Revenue/Runtime):\n",
            "                                    Movie_Title  Profitability\n",
            "50   Star Wars: Episode VII - The Force Awakens       6.886985\n",
            "85                               Jurassic World       5.259516\n",
            "119                                Finding Dory       5.013299\n",
            "87                                       Avatar       4.694506\n",
            "76                                 The Avengers       4.358601\n",
            "15                      The Secret Life of Pets       4.233448\n",
            "688                                 Toy Story 3       4.028932\n",
            "12                                    Rogue One       4.001278\n",
            "174                                      Frozen       3.928824\n",
            "797                             Despicable Me 2       3.755612\n"
          ]
        }
      ]
    },
    {
      "cell_type": "markdown",
      "source": [
        "# Create a column that categorizes movies by rating:\n",
        "a) Rating < 6: Poor\n",
        "b) 6 ≤ Rating < 7.5: Average\n",
        "c) Rating ≥ 7.5: Excellent\n"
      ],
      "metadata": {
        "id": "q6xN7UFKSYy-"
      }
    },
    {
      "cell_type": "code",
      "source": [
        "def categorize_rating(r):\n",
        "    if r < 6:\n",
        "        return 'Poor'\n",
        "    elif r < 7.5:\n",
        "        return 'Average'\n",
        "    else:\n",
        "        return 'Excellent'\n",
        "\n",
        "df['Rating_Category'] = df['Rating'].apply(categorize_rating)\n",
        "print(\"\\nCount of Movies in Each Rating Category:\")\n",
        "print(df['Rating_Category'].value_counts())\n",
        "#This code calculates a **profitability metric** for each movie by dividing its revenue by its runtime and then identifies the **top 10 most profitable movies** based on that metric.\n",
        "# The new column `'Profitability'` is created by dividing `'Revenue (Millions)'` by `'Runtime (Minutes)'`, giving a rough estimate of how much revenue a movie generated **per minute** of\n",
        "# its runtime. This allows for comparing movies not just by total revenue but also by how efficiently they earned money in terms of time. The DataFrame is then sorted in **descending order**\n",
        "#by the `'Profitability'` column using `.sort_values()`, and the top 10 rows are selected using `.head(10)`. Finally, the code prints the movie titles and their profitability scores, providing\n",
        "# insight into which films delivered the most revenue relative to their length.\n",
        "\n"
      ],
      "metadata": {
        "colab": {
          "base_uri": "https://localhost:8080/"
        },
        "id": "LUrjbTbjGCmO",
        "outputId": "fa6cee03-bbb4-42de-f6c6-038725debc8a"
      },
      "execution_count": null,
      "outputs": [
        {
          "output_type": "stream",
          "name": "stdout",
          "text": [
            "\n",
            "Count of Movies in Each Rating Category:\n",
            "Rating_Category\n",
            "Average      586\n",
            "Excellent    230\n",
            "Poor         184\n",
            "Name: count, dtype: int64\n"
          ]
        }
      ]
    },
    {
      "cell_type": "markdown",
      "source": [
        "# Create a custom function to score movies based on:\n",
        "i) Apply row['Rating'] * 10 + row['Revenue (Millions)'] as High score\n",
        "Apply a function to dataset to assign the score"
      ],
      "metadata": {
        "id": "XQMkWsmtSln2"
      }
    },
    {
      "cell_type": "code",
      "source": [
        "def custom_score(row):\n",
        "    return row['Rating'] * 10 + row['Revenue (Millions)']\n",
        "\n",
        "df['High_Score'] = df.apply(custom_score, axis=1)\n",
        "# Display the first 10 rows with Title, Rating, Revenue, and High_Score\n",
        "print(df[['Movie_Title', 'Rating', 'Revenue (Millions)', 'High_Score']].head(10))\n",
        "#This code defines and applies a **custom scoring system** to evaluate movies by combining their **rating** and **revenue** into a single score.\n",
        "#The `custom_score` function takes a row of the DataFrame and calculates the score using the formula: `Rating * 10 + Revenue (Millions)`. Multiplying\n",
        " #the rating by 10 ensures that both rating and revenue contribute significantly to the final score, even though they are on different scales. The function\n",
        "  #is applied to each row using `df.apply(custom_score, axis=1)`, and the results are stored in a new column called `'High_Score'`. Finally, the code prints the\n",
        "  #first 10 rows of the DataFrame, showing the movie title, rating, revenue, and the computed high score. This approach helps in identifying movies that are both\n",
        "  # critically acclaimed and commercially successful, giving a more balanced view of a movie’s overall impact.\n"
      ],
      "metadata": {
        "colab": {
          "base_uri": "https://localhost:8080/"
        },
        "id": "YPrYgR0xGO19",
        "outputId": "05256971-a9f4-4a78-ca20-fb73bb15e02f"
      },
      "execution_count": null,
      "outputs": [
        {
          "output_type": "stream",
          "name": "stdout",
          "text": [
            "               Movie_Title  Rating  Revenue (Millions)  High_Score\n",
            "0  Guardians of the Galaxy     8.1             333.130     414.130\n",
            "1               Prometheus     7.0             126.460     196.460\n",
            "2                    Split     7.3             138.120     211.120\n",
            "3                     Sing     7.2             270.320     342.320\n",
            "4            Suicide Squad     6.2             325.020     387.020\n",
            "5           The Great Wall     6.1              45.130     106.130\n",
            "6               La La Land     8.3             151.060     234.060\n",
            "7                 Mindhorn     6.4              47.985     111.985\n",
            "8       The Lost City of Z     7.1               8.010      79.010\n",
            "9               Passengers     7.0             100.010     170.010\n"
          ]
        }
      ]
    }
  ]
}