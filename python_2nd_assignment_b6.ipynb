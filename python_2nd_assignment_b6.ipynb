{
  "cells": [
    {
      "cell_type": "markdown",
      "metadata": {
        "id": "view-in-github",
        "colab_type": "text"
      },
      "source": [
        "<a href=\"https://colab.research.google.com/github/Sereenamariyam/Python_assignment/blob/main/python_2nd_assignment_b6.ipynb\" target=\"_parent\"><img src=\"https://colab.research.google.com/assets/colab-badge.svg\" alt=\"Open In Colab\"/></a>"
      ]
    },
    {
      "cell_type": "markdown",
      "id": "d2328cad",
      "metadata": {
        "id": "d2328cad"
      },
      "source": [
        "# Python Basics Assignment"
      ]
    },
    {
      "cell_type": "markdown",
      "id": "cb537954",
      "metadata": {
        "id": "cb537954"
      },
      "source": [
        "### Question 1\n",
        "Write a function to compute number of vowels in a string given as input"
      ]
    },
    {
      "cell_type": "code",
      "execution_count": null,
      "id": "cf213ba2",
      "metadata": {
        "colab": {
          "base_uri": "https://localhost:8080/"
        },
        "id": "cf213ba2",
        "outputId": "63e596df-bec3-486b-d56c-60490a7af67b"
      },
      "outputs": [
        {
          "output_type": "execute_result",
          "data": {
            "text/plain": [
              "4"
            ]
          },
          "metadata": {},
          "execution_count": 5
        }
      ],
      "source": [
        "def your_function_1(input_string = \" Sereena\"):\n",
        "\n",
        "  vowels = \"aeiouAEIOU\"\n",
        "  count = 0\n",
        "  for char in input_string:\n",
        "    if char in vowels:\n",
        "      count += 1\n",
        "  return count\n",
        "your_function_1()"
      ]
    },
    {
      "cell_type": "markdown",
      "id": "4eaff430",
      "metadata": {
        "id": "4eaff430"
      },
      "source": [
        "### Question 2\n",
        "Write a function that checks whether a number is prime."
      ]
    },
    {
      "cell_type": "code",
      "execution_count": null,
      "id": "81934cf7",
      "metadata": {
        "colab": {
          "base_uri": "https://localhost:8080/"
        },
        "id": "81934cf7",
        "outputId": "32838c6e-1c26-44cf-e860-41e7f35e169f"
      },
      "outputs": [
        {
          "output_type": "execute_result",
          "data": {
            "text/plain": [
              "True"
            ]
          },
          "metadata": {},
          "execution_count": 15
        }
      ],
      "source": [
        "# Your code here\n",
        "def your_function_2(n):\n",
        "  if n <= 1:\n",
        "        return False\n",
        "  for i in range(2, n):\n",
        "    if n % i == 0:\n",
        "      return False\n",
        "  return True\n",
        "your_function_2(7)"
      ]
    },
    {
      "cell_type": "markdown",
      "id": "5f061e50",
      "metadata": {
        "id": "5f061e50"
      },
      "source": [
        "### Question 3\n",
        "Write a function to return the maximum of two numbers."
      ]
    },
    {
      "cell_type": "code",
      "execution_count": null,
      "id": "44e2a596",
      "metadata": {
        "colab": {
          "base_uri": "https://localhost:8080/"
        },
        "id": "44e2a596",
        "outputId": "12c36077-f49f-4d0c-bd35-9ad351366edc"
      },
      "outputs": [
        {
          "output_type": "execute_result",
          "data": {
            "text/plain": [
              "8"
            ]
          },
          "metadata": {},
          "execution_count": 16
        }
      ],
      "source": [
        "# Your code here\n",
        "def your_function_3(a, b):\n",
        "  if a > b:\n",
        "    return a\n",
        "  else:\n",
        "    return b\n",
        "your_function_3(8,7)"
      ]
    },
    {
      "cell_type": "markdown",
      "id": "7513ca91",
      "metadata": {
        "id": "7513ca91"
      },
      "source": [
        "### Question 4\n",
        "Write a function to return the factorial of a number."
      ]
    },
    {
      "cell_type": "code",
      "execution_count": null,
      "id": "6617842f",
      "metadata": {
        "colab": {
          "base_uri": "https://localhost:8080/"
        },
        "id": "6617842f",
        "outputId": "7d75c817-2a1f-4c5a-d769-7290e7831d65"
      },
      "outputs": [
        {
          "output_type": "stream",
          "name": "stdout",
          "text": [
            "1\n",
            "2\n",
            "6\n",
            "24\n",
            "120\n",
            "720\n"
          ]
        }
      ],
      "source": [
        "# Your code here\n",
        "def your_function_4():\n",
        "  n = 6\n",
        "  fact = 1\n",
        "  for i in range(1, n + 1):\n",
        "    fact *= i\n",
        "    print(fact)\n",
        "your_function_4()"
      ]
    },
    {
      "cell_type": "markdown",
      "id": "9b942098",
      "metadata": {
        "id": "9b942098"
      },
      "source": [
        "### Question 5\n",
        "Write a function to reverse a string without string indexing."
      ]
    },
    {
      "cell_type": "code",
      "execution_count": null,
      "id": "d606b194",
      "metadata": {
        "colab": {
          "base_uri": "https://localhost:8080/",
          "height": 36
        },
        "id": "d606b194",
        "outputId": "04e6ceba-32e5-43c1-a3ca-14af35cbf060"
      },
      "outputs": [
        {
          "output_type": "execute_result",
          "data": {
            "text/plain": [
              "'aneeres'"
            ],
            "application/vnd.google.colaboratory.intrinsic+json": {
              "type": "string"
            }
          },
          "metadata": {},
          "execution_count": 21
        }
      ],
      "source": [
        "# Your code here\n",
        "def your_function_5(input_string):\n",
        "  reversed_string = \"\"\n",
        "  for char in input_string:\n",
        "    reversed_string = char + reversed_string\n",
        "  return reversed_string\n",
        "your_function_5(\"sereena\")"
      ]
    },
    {
      "cell_type": "markdown",
      "id": "1abd915b",
      "metadata": {
        "id": "1abd915b"
      },
      "source": [
        "### Question 6\n",
        "Write a function to check if a string is a palindrome."
      ]
    },
    {
      "cell_type": "code",
      "execution_count": null,
      "id": "2b868fb3",
      "metadata": {
        "colab": {
          "base_uri": "https://localhost:8080/"
        },
        "id": "2b868fb3",
        "outputId": "41c5f686-277d-4ba6-bca1-6fa95340389f"
      },
      "outputs": [
        {
          "output_type": "stream",
          "name": "stdout",
          "text": [
            "Yes\n"
          ]
        }
      ],
      "source": [
        "# Your code here\n",
        "def your_function_6():\n",
        "  s = \"malayalam\"\n",
        "  if s == s[::-1]:\n",
        "    print(\"Yes\")\n",
        "  else:\n",
        "    print(\"No\")\n",
        "your_function_6()"
      ]
    },
    {
      "cell_type": "markdown",
      "id": "5f2f3791",
      "metadata": {
        "id": "5f2f3791"
      },
      "source": [
        "### Question 7\n",
        "Write a function to count vowels in a string."
      ]
    },
    {
      "cell_type": "code",
      "execution_count": null,
      "id": "73fefa50",
      "metadata": {
        "colab": {
          "base_uri": "https://localhost:8080/"
        },
        "id": "73fefa50",
        "outputId": "3ed26095-6074-4393-9192-ed8ce9ed60fb"
      },
      "outputs": [
        {
          "name": "stdout",
          "output_type": "stream",
          "text": [
            "enter a string: sereena\n"
          ]
        },
        {
          "output_type": "execute_result",
          "data": {
            "text/plain": [
              "4"
            ]
          },
          "metadata": {},
          "execution_count": 27
        }
      ],
      "source": [
        "# Your code here\n",
        "def your_function_7():\n",
        "\n",
        "  n = input(\"enter a string: \")\n",
        "  vowels = \"aeiouAEIOU\"\n",
        "  count = 0\n",
        "  for char in n:\n",
        "    if char in vowels:\n",
        "      count += 1\n",
        "  return count\n",
        "your_function_7()"
      ]
    },
    {
      "cell_type": "markdown",
      "id": "0d3a9996",
      "metadata": {
        "id": "0d3a9996"
      },
      "source": [
        "### Question 8\n",
        "Write a function that returns the sum of a list."
      ]
    },
    {
      "cell_type": "code",
      "execution_count": null,
      "id": "ab6afc66",
      "metadata": {
        "colab": {
          "base_uri": "https://localhost:8080/"
        },
        "id": "ab6afc66",
        "outputId": "6351bc7d-6d53-4dba-bbc9-e89ff24bd8fd"
      },
      "outputs": [
        {
          "output_type": "stream",
          "name": "stdout",
          "text": [
            "21\n"
          ]
        }
      ],
      "source": [
        "# Your code here\n",
        "def your_function_8(a=[1,2,3,4,5,6]):\n",
        "\n",
        "  return sum(a)\n",
        "\n",
        "print(your_function_8())"
      ]
    },
    {
      "cell_type": "markdown",
      "id": "f6682500",
      "metadata": {
        "id": "f6682500"
      },
      "source": [
        "### Question 9\n",
        "Write a function to find the smallest number in a list."
      ]
    },
    {
      "cell_type": "code",
      "execution_count": null,
      "id": "6798a641",
      "metadata": {
        "colab": {
          "base_uri": "https://localhost:8080/"
        },
        "id": "6798a641",
        "outputId": "bdb84c9a-2ce9-451c-f9f6-3d759f6e1b94"
      },
      "outputs": [
        {
          "output_type": "execute_result",
          "data": {
            "text/plain": [
              "1"
            ]
          },
          "metadata": {},
          "execution_count": 32
        }
      ],
      "source": [
        "# Your code here\n",
        "def your_function_9(n = [1,2,3,4,5,6,7]):\n",
        "\n",
        "\n",
        "\n",
        "  smallest = n[0]\n",
        "  for number in n:\n",
        "    if number < smallest:\n",
        "      smallest = number\n",
        "  return smallest\n",
        "your_function_9()"
      ]
    },
    {
      "cell_type": "markdown",
      "id": "fb11e683",
      "metadata": {
        "id": "fb11e683"
      },
      "source": [
        "### Question 10\n",
        "Write a function to remove duplicates from a list."
      ]
    },
    {
      "cell_type": "code",
      "execution_count": null,
      "id": "7c53f88c",
      "metadata": {
        "colab": {
          "base_uri": "https://localhost:8080/"
        },
        "id": "7c53f88c",
        "outputId": "be514963-5ced-4686-d104-6d7727ab9ce6"
      },
      "outputs": [
        {
          "output_type": "execute_result",
          "data": {
            "text/plain": [
              "[1, 2, 3, 4, 5, 8]"
            ]
          },
          "metadata": {},
          "execution_count": 36
        }
      ],
      "source": [
        "# Your code here\n",
        "def your_function_10(input_list = [1,2,3,3,5,5,4,8] ):\n",
        "  return list(set(input_list))\n",
        "your_function_10()"
      ]
    },
    {
      "cell_type": "markdown",
      "id": "9c380a5c",
      "metadata": {
        "id": "9c380a5c"
      },
      "source": [
        "### Question 11\n",
        "Write a function to sort a list in ascending order without using builtin sort function"
      ]
    },
    {
      "cell_type": "code",
      "execution_count": null,
      "id": "8e43832f",
      "metadata": {
        "colab": {
          "base_uri": "https://localhost:8080/"
        },
        "id": "8e43832f",
        "outputId": "23a8e6c7-56fa-4489-fc80-8892c768c03b"
      },
      "outputs": [
        {
          "output_type": "stream",
          "name": "stdout",
          "text": [
            "Sorted list: [2, 3, 4, 5, 6, 7, 9]\n"
          ]
        }
      ],
      "source": [
        "# Your code here\n",
        "def your_function_11(a = [6, 4, 2, 7, 9, 3, 5]):\n",
        "    n = len(a)\n",
        "    for i in range(n):\n",
        "        for j in range(0, n - i - 1):\n",
        "            if a[j] > a[j + 1]:\n",
        "                # Swap the elements\n",
        "                a[j], a[j + 1] = a[j + 1], a[j]\n",
        "    print(\"Sorted list:\", a)\n",
        "\n",
        "your_function_11()\n",
        "\n"
      ]
    },
    {
      "cell_type": "markdown",
      "id": "1270c91c",
      "metadata": {
        "id": "1270c91c"
      },
      "source": [
        "### Question 12\n",
        "Write a function that returns the length of a string."
      ]
    },
    {
      "cell_type": "code",
      "execution_count": null,
      "id": "87f35472",
      "metadata": {
        "colab": {
          "base_uri": "https://localhost:8080/"
        },
        "id": "87f35472",
        "outputId": "e8a2f47a-20ba-4618-d52b-f135b64d7745"
      },
      "outputs": [
        {
          "output_type": "stream",
          "name": "stdout",
          "text": [
            "7\n",
            "5\n"
          ]
        }
      ],
      "source": [
        "# Your code here\n",
        "def your_function_12(stringg=\"sereena\"):\n",
        "  return len(stringg)\n",
        "print(your_function_12())\n",
        "print(your_function_12(\"hello\"))"
      ]
    },
    {
      "cell_type": "markdown",
      "id": "9a8e3d28",
      "metadata": {
        "id": "9a8e3d28"
      },
      "source": [
        "### Question 13\n",
        "Write a function to count words in a sentence."
      ]
    },
    {
      "cell_type": "code",
      "execution_count": null,
      "id": "e6f996ef",
      "metadata": {
        "colab": {
          "base_uri": "https://localhost:8080/"
        },
        "id": "e6f996ef",
        "outputId": "fcfdb8a0-fa21-4459-9f6c-048218af5c5a"
      },
      "outputs": [
        {
          "output_type": "execute_result",
          "data": {
            "text/plain": [
              "4"
            ]
          },
          "metadata": {},
          "execution_count": 44
        }
      ],
      "source": [
        "# Your code here\n",
        "def your_function_13(sentence):\n",
        "  words = sentence.split()\n",
        "  return len(words)\n",
        "your_function_13(\"my name is sereena\")"
      ]
    },
    {
      "cell_type": "code",
      "source": [
        "def your_function_13(sentence):\n",
        "  word_count = 0\n",
        "  in_word = False  # Flag to track if we are currently inside a word\n",
        "\n",
        "  for char in sentence:\n",
        "    if char.isspace():\n",
        "      in_word = False  # We are outside a word if the character is a space\n",
        "    elif not in_word:\n",
        "      # If we encounter a non-space character and were not in a word,\n",
        "      # it's the start of a new word.\n",
        "      word_count += 1\n",
        "      in_word = True\n",
        "\n",
        "  return word_count"
      ],
      "metadata": {
        "id": "TjT_v9h1NSwn"
      },
      "id": "TjT_v9h1NSwn",
      "execution_count": null,
      "outputs": []
    },
    {
      "cell_type": "markdown",
      "id": "430c2e4a",
      "metadata": {
        "id": "430c2e4a"
      },
      "source": [
        "### Question 14\n",
        "Write a function to convert Celsius to Fahrenheit."
      ]
    },
    {
      "cell_type": "code",
      "execution_count": null,
      "id": "b710b0bd",
      "metadata": {
        "colab": {
          "base_uri": "https://localhost:8080/"
        },
        "id": "b710b0bd",
        "outputId": "6fcf5310-3e50-475e-9c4f-8a8f2e2518f8"
      },
      "outputs": [
        {
          "output_type": "execute_result",
          "data": {
            "text/plain": [
              "172.4"
            ]
          },
          "metadata": {},
          "execution_count": 47
        }
      ],
      "source": [
        "# Your code here\n",
        "def your_function_14(celsius):\n",
        "  fahrenheit = (celsius * 9/5) + 32\n",
        "  return fahrenheit\n",
        "your_function_14(78)"
      ]
    },
    {
      "cell_type": "markdown",
      "source": [],
      "metadata": {
        "id": "rLfUD34bOyW6"
      },
      "id": "rLfUD34bOyW6"
    },
    {
      "cell_type": "markdown",
      "id": "acefe5e3",
      "metadata": {
        "id": "acefe5e3"
      },
      "source": [
        "### Question 15\n",
        "Write a function to check if a number is palindrome."
      ]
    },
    {
      "cell_type": "code",
      "execution_count": null,
      "id": "b700abae",
      "metadata": {
        "colab": {
          "base_uri": "https://localhost:8080/"
        },
        "id": "b700abae",
        "outputId": "31d82e86-3b2e-43e7-d113-d815d2e453a7"
      },
      "outputs": [
        {
          "output_type": "stream",
          "name": "stdout",
          "text": [
            "Yes\n"
          ]
        }
      ],
      "source": [
        "# Your code here\n",
        "def your_function_15():\n",
        "    s = str(55655)\n",
        "    if s == s[::-1]:\n",
        "      print(\"Yes\")\n",
        "    else:\n",
        "      print(\"No\")\n",
        "your_function_6()"
      ]
    },
    {
      "cell_type": "markdown",
      "id": "b63452cb",
      "metadata": {
        "id": "b63452cb"
      },
      "source": [
        "### Question 16\n",
        "Write a function to return all even numbers in a list."
      ]
    },
    {
      "cell_type": "code",
      "execution_count": null,
      "id": "9d1fc968",
      "metadata": {
        "colab": {
          "base_uri": "https://localhost:8080/"
        },
        "id": "9d1fc968",
        "outputId": "0e835ef3-9a13-4bf3-e3d3-a49f167a178d"
      },
      "outputs": [
        {
          "output_type": "execute_result",
          "data": {
            "text/plain": [
              "[2, 4, 6, 8]"
            ]
          },
          "metadata": {},
          "execution_count": 55
        }
      ],
      "source": [
        "# Your code here\n",
        "def your_function_16(numbers= [1,2,3,4,5,6,7,8,9]):\n",
        "  even_numbers = []\n",
        "  for number in numbers:\n",
        "    if number % 2 == 0:\n",
        "      even_numbers.append(number)\n",
        "  return even_numbers\n",
        "your_function_16()"
      ]
    },
    {
      "cell_type": "markdown",
      "id": "aca524d9",
      "metadata": {
        "id": "aca524d9"
      },
      "source": [
        "### Question 17\n",
        "Write a function to return the nth Fibonacci number."
      ]
    },
    {
      "cell_type": "code",
      "execution_count": null,
      "id": "97dc4e87",
      "metadata": {
        "colab": {
          "base_uri": "https://localhost:8080/"
        },
        "id": "97dc4e87",
        "outputId": "9a95e730-d023-465d-9769-eb7cffe08b73"
      },
      "outputs": [
        {
          "output_type": "stream",
          "name": "stdout",
          "text": [
            "34\n"
          ]
        }
      ],
      "source": [
        "# Your code here\n",
        "def your_function_17(n):\n",
        "\n",
        "    a = 0\n",
        "    b = 1\n",
        "\n",
        "    # Check if n is less than 0\n",
        "    if n < 0:\n",
        "        print(\"Incorrect input\")\n",
        "\n",
        "    # Check if n is equal to 0\n",
        "    elif n == 0:\n",
        "        return 0\n",
        "\n",
        "    # Check if n is equal to 1\n",
        "    elif n == 1:\n",
        "        return b\n",
        "    else:\n",
        "        for i in range(1, n):\n",
        "            c = a + b\n",
        "            a = b\n",
        "            b = c\n",
        "        return b\n",
        "\n",
        "print(your_function_17(9))"
      ]
    },
    {
      "cell_type": "markdown",
      "id": "29c847dc",
      "metadata": {
        "id": "29c847dc"
      },
      "source": [
        "### Question 18\n",
        "Write a function to calculate the average of a list."
      ]
    },
    {
      "cell_type": "code",
      "execution_count": null,
      "id": "9adc9fd2",
      "metadata": {
        "colab": {
          "base_uri": "https://localhost:8080/"
        },
        "id": "9adc9fd2",
        "outputId": "051fc8b0-e3a2-43ad-8670-b735da8a272f"
      },
      "outputs": [
        {
          "output_type": "stream",
          "name": "stdout",
          "text": [
            "3.5\n"
          ]
        }
      ],
      "source": [
        "# Your code here\n",
        "def your_function_18(a=[1,2,3,4,5,6]):\n",
        "\n",
        "  total = sum(a) # Calculate the sum of the list\n",
        "  count = len(a) # Get the number of elements in the list\n",
        "  average = total / count # Calculate the average\n",
        "  return average\n",
        "print(your_function_18())"
      ]
    },
    {
      "cell_type": "markdown",
      "id": "420240fb",
      "metadata": {
        "id": "420240fb"
      },
      "source": [
        "### Question 19\n",
        "Write a function that returns a dictionary of character counts."
      ]
    },
    {
      "cell_type": "code",
      "execution_count": null,
      "id": "95cafc54",
      "metadata": {
        "colab": {
          "base_uri": "https://localhost:8080/"
        },
        "id": "95cafc54",
        "outputId": "aa59624a-b2eb-4df0-a6f9-8c0a83106852"
      },
      "outputs": [
        {
          "output_type": "stream",
          "name": "stdout",
          "text": [
            "{'s': 1, 'e': 3, 'r': 1, 'n': 1, 'a': 1}\n"
          ]
        }
      ],
      "source": [
        "# Your code here\n",
        "def your_function_19(input_str=\"sereena\"):\n",
        "    char_count = {}\n",
        "    for char in input_str:\n",
        "        if char in char_count:\n",
        "            char_count[char] += 1\n",
        "        else:\n",
        "            char_count[char] = 1\n",
        "    return char_count\n",
        "\n",
        "print(your_function_19())\n",
        "\n",
        "\n"
      ]
    },
    {
      "cell_type": "markdown",
      "id": "17629a07",
      "metadata": {
        "id": "17629a07"
      },
      "source": [
        "### Question 20\n",
        "Write a function that returns True if all list elements are unique."
      ]
    },
    {
      "cell_type": "code",
      "execution_count": null,
      "id": "fe4f8820",
      "metadata": {
        "colab": {
          "base_uri": "https://localhost:8080/"
        },
        "id": "fe4f8820",
        "outputId": "1607b478-6e4b-43b7-e14c-e0810891b778"
      },
      "outputs": [
        {
          "output_type": "execute_result",
          "data": {
            "text/plain": [
              "True"
            ]
          },
          "metadata": {},
          "execution_count": 69
        }
      ],
      "source": [
        "# Your code here\n",
        "def your_function_20(input_list = [ 1,2,3,4,5,6,7,8,9] ):\n",
        "  return len(input_list) == len(set(input_list))\n",
        "your_function_20()"
      ]
    },
    {
      "cell_type": "markdown",
      "id": "91dc87b9",
      "metadata": {
        "id": "91dc87b9"
      },
      "source": [
        "### Question 21\n",
        "Write a function that returns dot product of two list of numbers"
      ]
    },
    {
      "cell_type": "code",
      "execution_count": 77,
      "id": "87c3fa4b",
      "metadata": {
        "id": "87c3fa4b",
        "colab": {
          "base_uri": "https://localhost:8080/"
        },
        "outputId": "f647a512-e003-49d9-9470-885c125d05dc"
      },
      "outputs": [
        {
          "output_type": "stream",
          "name": "stdout",
          "text": [
            "32\n",
            "14\n"
          ]
        }
      ],
      "source": [
        "# Your code here\n",
        "def your_function_21(l1 = [1,2,3], l2 = [4,5,6]):\n",
        "    if len(l1) != len(l2):\n",
        "        raise ValueError(\"Lists must have the same length for dot product.\")\n",
        "\n",
        "    result = 0\n",
        "    for i in range(len(l1)):\n",
        "        result += l1[i] * l2[i]\n",
        "    return result\n",
        "\n",
        "# Test examples\n",
        "print(your_function_21())\n",
        "print(your_function_21([2, 3], [1, 4]))"
      ]
    },
    {
      "cell_type": "markdown",
      "id": "5eeb0527",
      "metadata": {
        "id": "5eeb0527"
      },
      "source": [
        "### Question 22\n",
        "Write a function that returns the projection of vector a onto vector b. Both a and b are given as list of numbers"
      ]
    },
    {
      "cell_type": "code",
      "execution_count": 81,
      "id": "d2c2439f",
      "metadata": {
        "id": "d2c2439f",
        "colab": {
          "base_uri": "https://localhost:8080/"
        },
        "outputId": "9ac0eec3-7862-4d03-c57a-0c8bb5782fbc"
      },
      "outputs": [
        {
          "output_type": "stream",
          "name": "stdout",
          "text": [
            "3.0\n"
          ]
        }
      ],
      "source": [
        "# Your code here\n",
        "import math\n",
        "def your_function_22(a, b):\n",
        "    if len(a) != len(b):\n",
        "        return \"Error\"\n",
        "\n",
        "    dot_product = 0\n",
        "    for i in range(len(a)):\n",
        "        dot_product += a[i] * b[i]\n",
        "\n",
        "    # (||b||)\n",
        "    magnitude_b_squared = 0\n",
        "    for i in range(len(b)):\n",
        "        magnitude_b_squared += b[i] ** 2\n",
        "    magnitude_b = math.sqrt(magnitude_b_squared)\n",
        "\n",
        "    # (a • b / ||b||)\n",
        "    projection_num = dot_product / magnitude_b\n",
        "    return projection_num\n",
        "\n",
        "\n",
        "print(your_function_22([3, 4], [1, 0]))\n",
        "\n"
      ]
    },
    {
      "cell_type": "markdown",
      "id": "1410b385",
      "metadata": {
        "id": "1410b385"
      },
      "source": [
        "### Question 23\n",
        "Write a function to return common elements between two lists."
      ]
    },
    {
      "cell_type": "code",
      "execution_count": 83,
      "id": "2cee584c",
      "metadata": {
        "id": "2cee584c",
        "colab": {
          "base_uri": "https://localhost:8080/"
        },
        "outputId": "1ede883c-62bf-4de4-f20f-cab85f6a3c9f"
      },
      "outputs": [
        {
          "output_type": "stream",
          "name": "stdout",
          "text": [
            "[3, 4]\n",
            "['c', 'b']\n"
          ]
        }
      ],
      "source": [
        "# Your code here\n",
        "def your_function_23(list1,list2):\n",
        "\n",
        "  return list(set(list1) & set(list2))\n",
        "\n",
        "print(your_function_23([1, 2, 3, 4], [3, 4, 5, 6]))\n",
        "print(your_function_23(['a', 'b', 'c'], ['b', 'c', 'd']))"
      ]
    },
    {
      "cell_type": "markdown",
      "id": "23ab5210",
      "metadata": {
        "id": "23ab5210"
      },
      "source": [
        "### Question 24\n",
        "Create a class Vector that supports addition, dot product, and magnitude."
      ]
    },
    {
      "cell_type": "code",
      "execution_count": 84,
      "id": "f6b18fd7",
      "metadata": {
        "id": "f6b18fd7",
        "colab": {
          "base_uri": "https://localhost:8080/"
        },
        "outputId": "6d5219b4-e907-48f0-e65d-549b8998a1f3"
      },
      "outputs": [
        {
          "output_type": "stream",
          "name": "stdout",
          "text": [
            "Addition: [4, 6]\n",
            "Dot product: 11\n",
            "Magnitude of v1: 5.0\n"
          ]
        }
      ],
      "source": [
        "# Your code here\n",
        "import math\n",
        "\n",
        "class Vector:\n",
        "    def __init__(self, values):\n",
        "        self.values = values\n",
        "\n",
        "    def __add__(self, other):\n",
        "        result = []\n",
        "        for i in range(len(self.values)):\n",
        "            result.append(self.values[i] + other.values[i])\n",
        "        return Vector(result)\n",
        "\n",
        "    def dot(self, other):\n",
        "        dot_product = 0\n",
        "        for i in range(len(self.values)):\n",
        "            dot_product += self.values[i] * other.values[i]\n",
        "        return dot_product\n",
        "\n",
        "    def magnitude(self):\n",
        "        sum_of_squares = 0\n",
        "        for i in range(len(self.values)):\n",
        "            sum_of_squares += self.values[i] ** 2\n",
        "        return math.sqrt(sum_of_squares)\n",
        "\n",
        "    def __str__(self):\n",
        "        return str(self.values)\n",
        "\n",
        "v1 = Vector([3, 4])\n",
        "v2 = Vector([1, 2])\n",
        "\n",
        "\n",
        "v3 = v1 + v2\n",
        "print(\"Addition:\", v3)\n",
        "\n",
        "print(\"Dot product:\", v1.dot(v2))\n",
        "\n",
        "\n",
        "print(\"Magnitude of v1:\", v1.magnitude())\n"
      ]
    },
    {
      "cell_type": "markdown",
      "id": "a0621aba",
      "metadata": {
        "id": "a0621aba"
      },
      "source": [
        "### Question 25\n",
        "Implement a function to return all outliers in a list based on the IQR method."
      ]
    },
    {
      "cell_type": "code",
      "execution_count": 86,
      "id": "460a8994",
      "metadata": {
        "id": "460a8994",
        "colab": {
          "base_uri": "https://localhost:8080/"
        },
        "outputId": "1aed39b5-ee66-4fb7-a361-f7a6c29f8083"
      },
      "outputs": [
        {
          "output_type": "stream",
          "name": "stdout",
          "text": [
            "the lower bound is -44.75\n",
            "Outliers exist: [7, 11, 23, 42, -3, -21, 26, 30]\n"
          ]
        }
      ],
      "source": [
        "# Your code here\n",
        "my_list1 = [7, 11, 23, 42, -3, -21, 26, 30]\n",
        "sorted_list = sorted(my_list1)\n",
        "def your_function_25(sorted_list, percentile):\n",
        "    N = len(sorted_list)\n",
        "    p = (percentile / 100) * (N + 1)\n",
        "    lower_index = int(p) - 1\n",
        "    upper_index = lower_index + 1\n",
        "    fraction_num = p - int(p)\n",
        "\n",
        "    lower_value = sorted_list[lower_index]\n",
        "    higher_value = sorted_list[upper_index]\n",
        "\n",
        "    return lower_value + fraction_num * (higher_value - lower_value)\n",
        "\n",
        "q1 = your_function_25(sorted_list, 25)\n",
        "q3 = your_function_25(sorted_list, 75)\n",
        "\n",
        "iqr = q3 - q1\n",
        "lower_bound = q1 - 1.5 * iqr\n",
        "print(\"the lower bound is\",lower_bound)\n",
        "outliers = []\n",
        "for i in my_list1:\n",
        "    if i < lower_bound or i > lower_bound:\n",
        "        outliers.append(i)\n",
        "\n",
        "if len(outliers) > 0:\n",
        "    print(\"Outliers exist:\", outliers)\n",
        "else:\n",
        "    print(\"No outliers\")\n",
        ""
      ]
    },
    {
      "cell_type": "markdown",
      "id": "f0be510e",
      "metadata": {
        "id": "f0be510e"
      },
      "source": [
        "### Question 26\n",
        "Function with default arguments:\n",
        "Create a function to compute variance with an option to use sample or population formula"
      ]
    },
    {
      "cell_type": "code",
      "execution_count": 92,
      "id": "941d732d",
      "metadata": {
        "id": "941d732d",
        "colab": {
          "base_uri": "https://localhost:8080/"
        },
        "outputId": "e74934b3-2e07-4a6b-a266-0da4deff2d46"
      },
      "outputs": [
        {
          "output_type": "stream",
          "name": "stdout",
          "text": [
            "3.7\n"
          ]
        }
      ],
      "source": [
        "# Your code here\n",
        "\n",
        "def your_function_26(data=None, sample=True):\n",
        "\n",
        "    if data is None or len(data) == 0:\n",
        "        return \"Data list is empty or None\"\n",
        "\n",
        "    mean = sum(data) / len(data)\n",
        "\n",
        "    # Sum of squared differences from mean\n",
        "    squared_diffs = 0\n",
        "    for value in data:\n",
        "        squared_diffs += (value - mean) ** 2\n",
        "\n",
        "    if sample:\n",
        "        # Sample variance: divide by (n - 1)\n",
        "        if len(data) < 2:\n",
        "            return \"Cannot compute sample variance with less than 2 data points\"\n",
        "        return squared_diffs / (len(data) - 1)\n",
        "    else:\n",
        "        # Population variance: divide by n\n",
        "        return squared_diffs / len(data)\n",
        "print(your_function_26([4,8,6,5,3]))\n"
      ]
    },
    {
      "cell_type": "markdown",
      "id": "c39be0f1",
      "metadata": {
        "id": "c39be0f1"
      },
      "source": [
        "### Question 27\n",
        "Create a list of squares of even numbers between 1 and 20 using list comprehension."
      ]
    },
    {
      "cell_type": "code",
      "execution_count": 94,
      "id": "9e4ba74a",
      "metadata": {
        "id": "9e4ba74a",
        "colab": {
          "base_uri": "https://localhost:8080/"
        },
        "outputId": "04084b78-67e3-400e-bb97-d24ea287a79b"
      },
      "outputs": [
        {
          "output_type": "stream",
          "name": "stdout",
          "text": [
            "[4, 16, 36, 64, 100, 144, 196, 256, 324, 400]\n"
          ]
        }
      ],
      "source": [
        "# Your code here\n",
        "def your_function_27():\n",
        "    squares = [x**2 for x in range(1, 21) if x % 2 == 0]\n",
        "    print(squares)\n",
        "\n",
        "your_function_27()\n",
        "\n"
      ]
    },
    {
      "cell_type": "markdown",
      "id": "b43c266d",
      "metadata": {
        "id": "b43c266d"
      },
      "source": [
        "### Question 28\n",
        "Write a function that returns the L1 and L2 norms of a vector given as list"
      ]
    },
    {
      "cell_type": "code",
      "execution_count": 99,
      "id": "4f5dc876",
      "metadata": {
        "id": "4f5dc876",
        "colab": {
          "base_uri": "https://localhost:8080/"
        },
        "outputId": "85d5ffa8-d90d-494b-d4ba-a5a9bd5f362e"
      },
      "outputs": [
        {
          "output_type": "stream",
          "name": "stdout",
          "text": [
            "L1 norm(Manhattan distance)  8\n",
            "L2 norm(Euclidean distance)  5.0990195135927845\n"
          ]
        }
      ],
      "source": [
        "# Your code here\n",
        "\n",
        "import math\n",
        "\n",
        "def your_function_28(vector):\n",
        "    l1 = 0\n",
        "    l2_squared = 0\n",
        "\n",
        "    for value in vector:\n",
        "        l1 += abs(value)         # Absolute value for L1 norm\n",
        "        l2_squared += value**2   # Square for L2 norm\n",
        "\n",
        "    l2 = math.sqrt(l2_squared)   # Final L2 norm\n",
        "\n",
        "    return l1, l2\n",
        "v = [3, -4, 1]\n",
        "l1, l2 = your_function_28(v)\n",
        "\n",
        "print(\"L1 norm(Manhattan distance) \", l1)   # ➝ 8\n",
        "print(\"L2 norm(Euclidean distance) \", l2)   # ➝ sqrt(26) ≈ 5.099\n",
        "\n"
      ]
    },
    {
      "cell_type": "markdown",
      "id": "2007915f",
      "metadata": {
        "id": "2007915f"
      },
      "source": [
        "### Question 29\n",
        "Write a function that computes the 95% confidence interval for the mean of a list of numbers assuming normal distribution."
      ]
    },
    {
      "cell_type": "code",
      "execution_count": 100,
      "id": "8634dc63",
      "metadata": {
        "id": "8634dc63",
        "colab": {
          "base_uri": "https://localhost:8080/"
        },
        "outputId": "88dd17f3-e99e-40dd-cf05-2fbca83eb442"
      },
      "outputs": [
        {
          "output_type": "stream",
          "name": "stdout",
          "text": [
            "95% Confidence Interval: (10.20734208776714, 12.54265791223286)\n"
          ]
        }
      ],
      "source": [
        "# Your code here\n",
        "\n",
        "import math\n",
        "\n",
        "def your_function_29(data):\n",
        "    if not data or len(data) < 2:\n",
        "        return \"Need at least 2 data points\"\n",
        "\n",
        "    n = len(data)\n",
        "    mean = sum(data) / n\n",
        "\n",
        "    # Calculate sample standard deviation\n",
        "    squared_diffs = 0\n",
        "    for x in data:\n",
        "        squared_diffs += (x - mean) ** 2\n",
        "    std_dev = math.sqrt(squared_diffs / (n - 1))\n",
        "\n",
        "    # Standard error of the mean\n",
        "    sem = std_dev / math.sqrt(n)\n",
        "\n",
        "    # For 95% confidence, z-score ≈ 1.96\n",
        "    z = 1.96\n",
        "    margin_of_error = z * sem\n",
        "\n",
        "    lower_bound = mean - margin_of_error\n",
        "    upper_bound = mean + margin_of_error\n",
        "\n",
        "    return (lower_bound, upper_bound)\n",
        "data = [10, 12, 9, 11, 13, 12, 10, 14]\n",
        "print(\"95% Confidence Interval:\", your_function_29(data))\n",
        "\n"
      ]
    },
    {
      "cell_type": "markdown",
      "id": "08df3afb",
      "metadata": {
        "id": "08df3afb"
      },
      "source": [
        "### Question 30\n",
        "Given a list of categorical values, create a frequency distribution dictionary."
      ]
    },
    {
      "cell_type": "code",
      "execution_count": 101,
      "id": "c9b88531",
      "metadata": {
        "id": "c9b88531",
        "colab": {
          "base_uri": "https://localhost:8080/"
        },
        "outputId": "f095659d-af8a-47b6-81ad-d0e2fb7a59ff"
      },
      "outputs": [
        {
          "output_type": "stream",
          "name": "stdout",
          "text": [
            "{'apple': 3, 'banana': 2, 'orange': 1}\n"
          ]
        }
      ],
      "source": [
        "# Your code here\n",
        "def your_function_30(data):\n",
        "    if not data:\n",
        "        return \"Data list is empty or None\"\n",
        "\n",
        "    freq_dict = {}\n",
        "    for item in data:\n",
        "        if item in freq_dict:\n",
        "            freq_dict[item] += 1\n",
        "        else:\n",
        "            freq_dict[item] = 1\n",
        "    return freq_dict\n",
        "categories = ['apple', 'banana', 'apple', 'orange', 'banana', 'apple']\n",
        "result = your_function_30(categories)\n",
        "print(result)\n"
      ]
    }
  ],
  "metadata": {
    "language_info": {
      "name": "python"
    },
    "colab": {
      "provenance": [],
      "include_colab_link": true
    },
    "kernelspec": {
      "name": "python3",
      "display_name": "Python 3"
    }
  },
  "nbformat": 4,
  "nbformat_minor": 5
}